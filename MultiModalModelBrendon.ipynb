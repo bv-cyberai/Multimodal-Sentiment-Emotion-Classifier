{
  "cells": [
    {
      "cell_type": "markdown",
      "source": [
        "# SENIOR PROJECT\n",
        "\n",
        "## Multi-Modal Sentiment and Emotion Classification Model"
      ],
      "metadata": {
        "id": "BshlIyRvxIYy"
      }
    },
    {
      "cell_type": "markdown",
      "source": [
        "### TensorFlow GPU Configuration\n",
        "\n",
        "This block configures TensorFlow to use available GPU resources more efficiently:\n",
        "\n",
        "* **Enables memory growth** for all detected GPUs using `tf.config.experimental.set_memory_growth()`. This prevents TensorFlow from allocating all GPU memory upfront, allowing for more flexible and efficient memory usage—especially helpful when running multiple models or notebooks in parallel.\n",
        "* **Device Check**: Prints whether TensorFlow is currently set to run on a **GPU** or **CPU**, based on available hardware.\n",
        "\n",
        "This setup is recommended when working with deep learning models to ensure stable execution and better utilization of available GPU resources."
      ],
      "metadata": {
        "id": "-tTvBJY3xcwP"
      }
    },
    {
      "cell_type": "code",
      "execution_count": null,
      "metadata": {
        "colab": {
          "base_uri": "https://localhost:8080/"
        },
        "id": "BZ-7ODNAdY0Z",
        "outputId": "9e9f56bf-0f30-4f91-c939-1852eb7f014e"
      },
      "outputs": [
        {
          "output_type": "stream",
          "name": "stdout",
          "text": [
            "Memory growth enabled for GPUs.\n",
            "Running on: GPU\n"
          ]
        }
      ],
      "source": [
        "# Enable GPU memory growth\n",
        "import tensorflow as tf\n",
        "gpus = tf.config.list_physical_devices('GPU')\n",
        "for gpu in gpus:\n",
        "    tf.config.experimental.set_memory_growth(gpu, True)\n",
        "print(\"Memory growth enabled for GPUs.\")\n",
        "\n",
        "# Check device availability\n",
        "print(\"Running on:\", \"GPU\" if tf.config.list_physical_devices('GPU') else \"CPU\")"
      ]
    },
    {
      "cell_type": "markdown",
      "source": [
        "### Verifying GPU Availability with `nvidia-smi`\n",
        "\n",
        "This command checks whether a **NVIDIA GPU** is properly allocated to the current runtime environment:\n",
        "\n",
        "* `!nvidia-smi` displays real-time GPU usage, driver version, and hardware details (e.g., **Tesla T4**, **A100**).\n",
        "* This helps confirm that your notebook is running with GPU acceleration enabled, which is essential for efficient deep learning model training and inference.\n",
        "\n",
        "Use this check before training to ensure the environment is correctly configured."
      ],
      "metadata": {
        "id": "Mo6E2Z8Fx5Le"
      }
    },
    {
      "cell_type": "code",
      "execution_count": null,
      "metadata": {
        "colab": {
          "base_uri": "https://localhost:8080/"
        },
        "id": "aK_Uea3RdkQy",
        "outputId": "4b4676f5-bfe5-4589-9f3d-4212c0e66fbf"
      },
      "outputs": [
        {
          "output_type": "stream",
          "name": "stdout",
          "text": [
            "Sat May  3 15:58:56 2025       \n",
            "+-----------------------------------------------------------------------------------------+\n",
            "| NVIDIA-SMI 550.54.15              Driver Version: 550.54.15      CUDA Version: 12.4     |\n",
            "|-----------------------------------------+------------------------+----------------------+\n",
            "| GPU  Name                 Persistence-M | Bus-Id          Disp.A | Volatile Uncorr. ECC |\n",
            "| Fan  Temp   Perf          Pwr:Usage/Cap |           Memory-Usage | GPU-Util  Compute M. |\n",
            "|                                         |                        |               MIG M. |\n",
            "|=========================================+========================+======================|\n",
            "|   0  Tesla T4                       Off |   00000000:00:04.0 Off |                    0 |\n",
            "| N/A   45C    P8              9W /   70W |       2MiB /  15360MiB |      0%      Default |\n",
            "|                                         |                        |                  N/A |\n",
            "+-----------------------------------------+------------------------+----------------------+\n",
            "                                                                                         \n",
            "+-----------------------------------------------------------------------------------------+\n",
            "| Processes:                                                                              |\n",
            "|  GPU   GI   CI        PID   Type   Process name                              GPU Memory |\n",
            "|        ID   ID                                                               Usage      |\n",
            "|=========================================================================================|\n",
            "|  No running processes found                                                             |\n",
            "+-----------------------------------------------------------------------------------------+\n"
          ]
        }
      ],
      "source": [
        "!nvidia-smi  # Verify GPU is active (e.g., T4 or A100)"
      ]
    },
    {
      "cell_type": "markdown",
      "source": [
        "### Mounting Google Drive\n",
        "\n",
        "This command mounts your **Google Drive** to the Colab environment:\n",
        "\n",
        "* `drive.mount('/content/drive')` gives the notebook access to files stored in your Drive.\n",
        "* This is essential for loading datasets, saving trained models, or accessing other project assets persistently across sessions.\n",
        "\n",
        "After mounting, files can be accessed using standard file paths prefixed with `/content/drive/`."
      ],
      "metadata": {
        "id": "4megMi8_yHCh"
      }
    },
    {
      "cell_type": "code",
      "execution_count": null,
      "metadata": {
        "colab": {
          "base_uri": "https://localhost:8080/"
        },
        "id": "r-F_0SpXdrxe",
        "outputId": "611199a5-c94b-40c6-e045-1e0ca574e4bb"
      },
      "outputs": [
        {
          "output_type": "stream",
          "name": "stdout",
          "text": [
            "Mounted at /content/drive\n"
          ]
        }
      ],
      "source": [
        "from google.colab import drive\n",
        "drive.mount('/content/drive')"
      ]
    },
    {
      "cell_type": "markdown",
      "source": [
        "### Loading and Preprocessing the FER-2013 Dataset (CSV Format)\n",
        "\n",
        "This section loads the **FER-2013** facial expression dataset from a CSV file stored in Google Drive and prepares it for training:\n",
        "\n",
        "* **Loading**: The CSV file is read into a Pandas DataFrame using `pd.read_csv()`.\n",
        "* **Label Mapping**: Numeric emotion labels (0–6) are mapped to human-readable names using a dictionary:\n",
        "\n",
        "  * `angry`, `disgust`, `fear`, `happy`, `sad`, `surprise`, `neutral`\n",
        "* **Pixel Conversion**:\n",
        "\n",
        "  * The `pixels` column contains strings of grayscale pixel values (space-separated).\n",
        "  * Each string is converted into a `48×48` NumPy array and normalized to the `[0, 1]` range.\n",
        "* **Filtering**: Only samples labeled as `Training` in the `Usage` column are retained for model training.\n",
        "\n",
        "This processed DataFrame (`fer_df`) is now ready for use in model training or further transformation."
      ],
      "metadata": {
        "id": "ahFU5uADyZVP"
      }
    },
    {
      "cell_type": "code",
      "execution_count": null,
      "metadata": {
        "id": "Gn3lNlulHNNs"
      },
      "outputs": [],
      "source": [
        "import pandas as pd\n",
        "import numpy as np\n",
        "\n",
        "# Load FER-2013\n",
        "fer_df = pd.read_csv('/content/drive/MyDrive/Colab Notebooks/SENIOR PROJECT/fer-2013/fer-2013-csv/fer2013.csv')\n",
        "\n",
        "# Map labels\n",
        "emotion_map = {0: 'angry', 1: 'disgust', 2: 'fear', 3: 'happy', 4: 'sad', 5: 'surprise', 6: 'neutral'}\n",
        "fer_df['emotion_label'] = fer_df['emotion'].map(emotion_map)\n",
        "fer_df['pixels'] = fer_df['pixels'].apply(lambda x: np.array(x.split(), dtype='float32').reshape(48, 48) / 255.0)\n",
        "fer_df = fer_df[fer_df['Usage'] == 'Training'].copy()\n"
      ]
    },
    {
      "cell_type": "markdown",
      "source": [
        "### Loading and Cleaning the Sentiment140 Dataset\n",
        "\n",
        "This section prepares the **Sentiment140** dataset for text-based sentiment classification and fusion with FER-2013:\n",
        "\n",
        "#### Load and Structure Data\n",
        "\n",
        "* The raw CSV is loaded from Google Drive using `ISO-8859-1` encoding to handle special characters.\n",
        "* Column headers are manually assigned for clarity: `target`, `ids`, `date`, `flag`, `user`, `text`.\n",
        "* A new column `sentiment_label` is created by mapping:\n",
        "\n",
        "  * `target = 0` → `'negative'`\n",
        "  * `target = 4` → `'positive'`\n",
        "\n",
        "#### Clean Text Data\n",
        "\n",
        "* Text data is lowercased and cleaned using a custom regex function:\n",
        "\n",
        "  * Removes URLs, mentions (`@user`), hashtags, and non-alphabetic characters.\n",
        "  * This ensures input to the model is consistent and free from noise.\n",
        "\n",
        "#### Sample for Fusion Dataset\n",
        "\n",
        "* A balanced sample of `N = 10,000` rows is taken from both `fer_df` and `sentiment_df`.\n",
        "* These samples will later be combined into a multi-modal dataset pairing facial expressions with matching sentiment captions for training a fusion model."
      ],
      "metadata": {
        "id": "9dvBx6KgytEE"
      }
    },
    {
      "cell_type": "code",
      "execution_count": null,
      "metadata": {
        "id": "S1wfYvFpF1Ez"
      },
      "outputs": [],
      "source": [
        "sentiment_df = pd.read_csv('/content/drive/MyDrive/Colab Notebooks/SENIOR PROJECT/sentiment140/training.1600000.processed.noemoticon.csv',\n",
        "                           encoding='ISO-8859-1', header=None)\n",
        "\n",
        "# Fix columns and clean\n",
        "sentiment_df = sentiment_df.iloc[:, :6]\n",
        "sentiment_df.columns = ['target', 'ids', 'date', 'flag', 'user', 'text']\n",
        "sentiment_df['sentiment_label'] = sentiment_df['target'].apply(lambda x: 'positive' if x == 4 else 'negative')\n"
      ]
    },
    {
      "cell_type": "code",
      "execution_count": null,
      "metadata": {
        "id": "FVANP-FLGn9i"
      },
      "outputs": [],
      "source": [
        "import re\n",
        "def clean_text(t): return re.sub(r'http\\S+|@\\w+|#[\\w]+|[^a-z\\s]', '', t.lower())\n",
        "\n",
        "# Clean texts\n",
        "sentiment_df['cleaned_text'] = sentiment_df['text'].apply(clean_text)\n",
        "\n",
        "# Sample same count from both\n",
        "N = 10000\n",
        "fer_sample = fer_df.sample(n=N, random_state=42)\n",
        "sentiment_sample = sentiment_df.sample(n=N, random_state=42)\n"
      ]
    },
    {
      "cell_type": "markdown",
      "source": [
        "### Preparing Inputs and Labels for Multimodal Fusion\n",
        "\n",
        "This section transforms the sampled emotion and sentiment data into model-ready input tensors:\n",
        "\n",
        "#### Image Input (`X_img`)\n",
        "\n",
        "* Pixel arrays from `fer_sample` are stacked into a NumPy array and reshaped to `(N, 48, 48, 1)` for compatibility with CNN input layers.\n",
        "\n",
        "#### Emotion Labels (`y_emotion`)\n",
        "\n",
        "* Emotion strings are label-encoded and one-hot encoded using `LabelEncoder` and `to_categorical`, producing a 5-class categorical target.\n",
        "\n",
        "#### Text Input (`X_txt`)\n",
        "\n",
        "* Texts from `sentiment_sample` are cleaned, tokenized, and padded:\n",
        "\n",
        "  * A `Tokenizer` is fitted on the text data (with a vocabulary limit of 10,000).\n",
        "  * Sequences are padded to a uniform length of 100 tokens.\n",
        "\n",
        "#### Sentiment Labels (`y_sentiment`)\n",
        "\n",
        "* Sentiment labels (positive/negative) are also label-encoded and converted to 2-class one-hot vectors.\n",
        "\n",
        "This prepares all components needed for training a **multimodal model** that accepts both facial image and textual caption as input, and predicts both emotion and sentiment as output."
      ],
      "metadata": {
        "id": "Qgo8kBqC0H7G"
      }
    },
    {
      "cell_type": "code",
      "execution_count": null,
      "metadata": {
        "id": "_HmSgSLgGQaZ"
      },
      "outputs": [],
      "source": [
        "# X image input\n",
        "X_img = np.stack(fer_sample['pixels'].values).reshape(-1, 48, 48, 1)\n",
        "\n",
        "# Y emotion label (for CNN training, optional)\n",
        "from sklearn.preprocessing import LabelEncoder\n",
        "from tensorflow.keras.utils import to_categorical\n",
        "emotion_enc = LabelEncoder()\n",
        "y_emotion = to_categorical(emotion_enc.fit_transform(fer_sample['emotion_label']))\n",
        "\n",
        "# Text input\n",
        "texts = sentiment_sample['cleaned_text'].tolist()\n",
        "\n",
        "from tensorflow.keras.preprocessing.text import Tokenizer\n",
        "from tensorflow.keras.preprocessing.sequence import pad_sequences\n",
        "\n",
        "tokenizer = Tokenizer(num_words=10000, oov_token=\"<OOV>\")\n",
        "tokenizer.fit_on_texts(texts)\n",
        "X_txt = pad_sequences(tokenizer.texts_to_sequences(texts), maxlen=100, padding='post')\n",
        "\n",
        "# Sentiment labels\n",
        "sentiment_enc = LabelEncoder()\n",
        "y_sentiment = to_categorical(sentiment_enc.fit_transform(sentiment_sample['sentiment_label']))\n"
      ]
    },
    {
      "cell_type": "markdown",
      "source": [
        "### Building and Training a Basic Multimodal Fusion Model (Image + Text → Sentiment)\n",
        "\n",
        "This section defines and trains a **dual-input deep learning model** that uses both image and text data to predict **sentiment only**.\n",
        "\n",
        "---\n",
        "\n",
        "#### Model Architecture\n",
        "\n",
        "**Image Branch**:\n",
        "\n",
        "* Input shape: `(48, 48, 1)` (grayscale facial image).\n",
        "* Two convolutional layers with ReLU activations and MaxPooling.\n",
        "* Flattened output is passed to a dense layer to produce a 64-dimensional image feature vector.\n",
        "\n",
        "**Text Branch**:\n",
        "\n",
        "* Input: tokenized text sequences of length 100.\n",
        "* Embedding layer followed by a two-layer LSTM stack:\n",
        "\n",
        "  * First LSTM returns sequences for deeper processing.\n",
        "  * Second LSTM outputs a 64-dimensional vector.\n",
        "* Output passed through a dense layer to produce text features.\n",
        "\n",
        "**Fusion**:\n",
        "\n",
        "* The image and text vectors are concatenated.\n",
        "* Final layers:\n",
        "\n",
        "  * Dropout → Dense (64 units) → Softmax (2 output units for binary sentiment classification).\n",
        "\n",
        "The model is compiled with:\n",
        "\n",
        "* `categorical_crossentropy` loss (for one-hot targets).\n",
        "* `adam` optimizer.\n",
        "* `accuracy` metric.\n",
        "\n",
        "---\n",
        "\n",
        "#### Model Training\n",
        "\n",
        "* Data is split into training and validation sets (90/10 split).\n",
        "* The fusion model is trained for **10 epochs** with a batch size of **64**.\n",
        "* Inputs: both image and text branches receive data simultaneously.\n",
        "* Outputs: model predicts binary sentiment (positive or negative).\n",
        "\n",
        "This setup serves as a baseline for text+image sentiment fusion, and can be extended to include emotion outputs in a full multi-task setup."
      ],
      "metadata": {
        "id": "wJRilExl0xgf"
      }
    },
    {
      "cell_type": "code",
      "execution_count": null,
      "metadata": {
        "id": "MqQ2IXcYGVKX"
      },
      "outputs": [],
      "source": [
        "from tensorflow.keras.models import Model\n",
        "from tensorflow.keras.layers import Input, Conv2D, MaxPooling2D, Flatten, Dropout, Dense, Embedding, LSTM, Concatenate\n",
        "\n",
        "# Image branch\n",
        "image_input = Input(shape=(48, 48, 1))\n",
        "x = Conv2D(32, (3,3), activation='relu')(image_input)\n",
        "x = MaxPooling2D(2,2)(x)\n",
        "x = Dropout(0.3)(x)\n",
        "x = Conv2D(64, (3,3), activation='relu')(x)\n",
        "x = MaxPooling2D(2,2)(x)\n",
        "x = Flatten()(x)\n",
        "image_output = Dense(64, activation='relu')(x)\n",
        "\n",
        "# Text branch\n",
        "text_input = Input(shape=(100,))\n",
        "y = Embedding(input_dim=10000, output_dim=128)(text_input)\n",
        "y = LSTM(128, return_sequences=True)(y)\n",
        "y = Dropout(0.3)(y)\n",
        "y = LSTM(64)(y)\n",
        "text_output = Dense(64, activation='relu')(y)\n",
        "\n",
        "# Merge + Head\n",
        "combined = Concatenate()([image_output, text_output])\n",
        "z = Dropout(0.3)(combined)\n",
        "z = Dense(64, activation='relu')(z)\n",
        "output = Dense(2, activation='softmax')(z)\n",
        "\n",
        "fusion_model = Model(inputs=[image_input, text_input], outputs=output)\n",
        "fusion_model.compile(optimizer='adam', loss='categorical_crossentropy', metrics=['accuracy'])\n"
      ]
    },
    {
      "cell_type": "code",
      "execution_count": null,
      "metadata": {
        "colab": {
          "base_uri": "https://localhost:8080/"
        },
        "id": "DwC6OcuvHWUa",
        "outputId": "dd9981f9-3aa9-41aa-9781-3842e15b8e25"
      },
      "outputs": [
        {
          "output_type": "stream",
          "name": "stdout",
          "text": [
            "Epoch 1/10\n",
            "\u001b[1m141/141\u001b[0m \u001b[32m━━━━━━━━━━━━━━━━━━━━\u001b[0m\u001b[37m\u001b[0m \u001b[1m10s\u001b[0m 22ms/step - accuracy: 0.5058 - loss: 0.6953 - val_accuracy: 0.4960 - val_loss: 0.6933\n",
            "Epoch 2/10\n",
            "\u001b[1m141/141\u001b[0m \u001b[32m━━━━━━━━━━━━━━━━━━━━\u001b[0m\u001b[37m\u001b[0m \u001b[1m2s\u001b[0m 18ms/step - accuracy: 0.4960 - loss: 0.6936 - val_accuracy: 0.4960 - val_loss: 0.6933\n",
            "Epoch 3/10\n",
            "\u001b[1m141/141\u001b[0m \u001b[32m━━━━━━━━━━━━━━━━━━━━\u001b[0m\u001b[37m\u001b[0m \u001b[1m2s\u001b[0m 17ms/step - accuracy: 0.5015 - loss: 0.6935 - val_accuracy: 0.4960 - val_loss: 0.6943\n",
            "Epoch 4/10\n",
            "\u001b[1m141/141\u001b[0m \u001b[32m━━━━━━━━━━━━━━━━━━━━\u001b[0m\u001b[37m\u001b[0m \u001b[1m2s\u001b[0m 18ms/step - accuracy: 0.4947 - loss: 0.6932 - val_accuracy: 0.4960 - val_loss: 0.6935\n",
            "Epoch 5/10\n",
            "\u001b[1m141/141\u001b[0m \u001b[32m━━━━━━━━━━━━━━━━━━━━\u001b[0m\u001b[37m\u001b[0m \u001b[1m2s\u001b[0m 17ms/step - accuracy: 0.5045 - loss: 0.6935 - val_accuracy: 0.4940 - val_loss: 0.6932\n",
            "Epoch 6/10\n",
            "\u001b[1m141/141\u001b[0m \u001b[32m━━━━━━━━━━━━━━━━━━━━\u001b[0m\u001b[37m\u001b[0m \u001b[1m2s\u001b[0m 17ms/step - accuracy: 0.5075 - loss: 0.6932 - val_accuracy: 0.5020 - val_loss: 0.6934\n",
            "Epoch 7/10\n",
            "\u001b[1m141/141\u001b[0m \u001b[32m━━━━━━━━━━━━━━━━━━━━\u001b[0m\u001b[37m\u001b[0m \u001b[1m2s\u001b[0m 17ms/step - accuracy: 0.5047 - loss: 0.6925 - val_accuracy: 0.4900 - val_loss: 0.6950\n",
            "Epoch 8/10\n",
            "\u001b[1m141/141\u001b[0m \u001b[32m━━━━━━━━━━━━━━━━━━━━\u001b[0m\u001b[37m\u001b[0m \u001b[1m2s\u001b[0m 17ms/step - accuracy: 0.5233 - loss: 0.6912 - val_accuracy: 0.4890 - val_loss: 0.6971\n",
            "Epoch 9/10\n",
            "\u001b[1m141/141\u001b[0m \u001b[32m━━━━━━━━━━━━━━━━━━━━\u001b[0m\u001b[37m\u001b[0m \u001b[1m3s\u001b[0m 18ms/step - accuracy: 0.5249 - loss: 0.6885 - val_accuracy: 0.5020 - val_loss: 0.6935\n",
            "Epoch 10/10\n",
            "\u001b[1m141/141\u001b[0m \u001b[32m━━━━━━━━━━━━━━━━━━━━\u001b[0m\u001b[37m\u001b[0m \u001b[1m2s\u001b[0m 17ms/step - accuracy: 0.5483 - loss: 0.6838 - val_accuracy: 0.5060 - val_loss: 0.6959\n"
          ]
        },
        {
          "output_type": "execute_result",
          "data": {
            "text/plain": [
              "<keras.src.callbacks.history.History at 0x7e33811157d0>"
            ]
          },
          "metadata": {},
          "execution_count": 9
        }
      ],
      "source": [
        "from sklearn.model_selection import train_test_split\n",
        "\n",
        "X_img_train, X_img_val, X_txt_train, X_txt_val, y_train, y_val = train_test_split(\n",
        "    X_img, X_txt, y_sentiment, test_size=0.1, random_state=42\n",
        ")\n",
        "\n",
        "fusion_model.fit([X_img_train, X_txt_train], y_train,\n",
        "                 validation_data=([X_img_val, X_txt_val], y_val),\n",
        "                 epochs=10,\n",
        "                 batch_size=64)\n"
      ]
    },
    {
      "cell_type": "markdown",
      "source": [
        "### Image Augmentation for Model Robustness\n",
        "\n",
        "This block sets up **real-time data augmentation** for the facial image inputs using `ImageDataGenerator`:\n",
        "\n",
        "* **Purpose**: To improve generalization by exposing the model to varied versions of the training data.\n",
        "\n",
        "* **Transformations Applied**:\n",
        "\n",
        "  * `rotation_range=10`: Randomly rotates images up to 10 degrees.\n",
        "  * `zoom_range=0.1`: Random zoom in/out by 10%.\n",
        "  * `width_shift_range=0.1`: Shifts image horizontally by 10% of width.\n",
        "  * `height_shift_range=0.1`: Shifts image vertically by 10% of height.\n",
        "  * `horizontal_flip=True`: Randomly flips images horizontally.\n",
        "\n",
        "* `datagen.fit(X_img)`: Precomputes any necessary statistics (e.g., mean, std) for normalization if needed.\n",
        "\n",
        "This augmentation pipeline can be applied during training to artificially expand the dataset and reduce overfitting."
      ],
      "metadata": {
        "id": "4svbRGWb1jdR"
      }
    },
    {
      "cell_type": "code",
      "execution_count": null,
      "metadata": {
        "id": "HZTUbihLIDBe"
      },
      "outputs": [],
      "source": [
        "from tensorflow.keras.preprocessing.image import ImageDataGenerator\n",
        "\n",
        "datagen = ImageDataGenerator(\n",
        "    rotation_range=10,\n",
        "    zoom_range=0.1,\n",
        "    width_shift_range=0.1,\n",
        "    height_shift_range=0.1,\n",
        "    horizontal_flip=True\n",
        ")\n",
        "datagen.fit(X_img)\n"
      ]
    },
    {
      "cell_type": "markdown",
      "source": [
        "### Defining a Deep CNN for FER-2013 Emotion Classification (7 Classes)\n",
        "\n",
        "This block builds a deep **Convolutional Neural Network (CNN)** to classify facial expressions into 7 categories from the FER-2013 dataset.\n",
        "\n",
        "#### Model Architecture\n",
        "\n",
        "The architecture is defined using Keras `Sequential` API:\n",
        "\n",
        "* **Convolutional Layers**:\n",
        "\n",
        "  * Four Conv2D blocks progressively increase the number of filters (32 → 256).\n",
        "  * Each block includes:\n",
        "\n",
        "    * `Conv2D` with ReLU activation\n",
        "    * `BatchNormalization` to stabilize training\n",
        "    * `MaxPooling2D` to reduce spatial dimensions\n",
        "    * `Dropout` for regularization (25% drop rate)\n",
        "\n",
        "* **Fully Connected Layers**:\n",
        "\n",
        "  * Flattened output is passed to:\n",
        "\n",
        "    * A dense layer with 256 units and ReLU\n",
        "    * Final `Dropout(0.5)` for strong regularization\n",
        "    * Output layer with **7 softmax units** corresponding to the 7 emotion classes:\n",
        "      `angry`, `disgust`, `fear`, `happy`, `sad`, `surprise`, `neutral`\n",
        "\n",
        "#### Compilation\n",
        "\n",
        "* **Loss**: `categorical_crossentropy` (for one-hot encoded labels)\n",
        "* **Optimizer**: `adam`\n",
        "* **Metrics**: Tracks `accuracy` during training and evaluation\n",
        "\n",
        "This CNN is designed for robust performance on challenging facial expression data with moderate depth and regularization."
      ],
      "metadata": {
        "id": "-tJ5QmsL1uq2"
      }
    },
    {
      "cell_type": "code",
      "execution_count": null,
      "metadata": {
        "colab": {
          "base_uri": "https://localhost:8080/"
        },
        "id": "dufE4c66IKnn",
        "outputId": "29e5a594-7ee1-431e-f73d-3f147f2073ff"
      },
      "outputs": [
        {
          "output_type": "stream",
          "name": "stderr",
          "text": [
            "/usr/local/lib/python3.11/dist-packages/keras/src/layers/convolutional/base_conv.py:107: UserWarning: Do not pass an `input_shape`/`input_dim` argument to a layer. When using Sequential models, prefer using an `Input(shape)` object as the first layer in the model instead.\n",
            "  super().__init__(activity_regularizer=activity_regularizer, **kwargs)\n"
          ]
        }
      ],
      "source": [
        "from tensorflow.keras.models import Sequential\n",
        "from tensorflow.keras.layers import Conv2D, MaxPooling2D, Flatten, Dense, Dropout, BatchNormalization\n",
        "from tensorflow.keras.callbacks import EarlyStopping, ReduceLROnPlateau\n",
        "\n",
        "model = Sequential([\n",
        "    Conv2D(32, (3,3), activation='relu', input_shape=(48, 48, 1)),\n",
        "    BatchNormalization(),\n",
        "    MaxPooling2D(2,2),\n",
        "    Dropout(0.25),\n",
        "\n",
        "    Conv2D(64, (3,3), activation='relu'),\n",
        "    BatchNormalization(),\n",
        "    MaxPooling2D(2,2),\n",
        "    Dropout(0.25),\n",
        "\n",
        "    Conv2D(128, (3,3), activation='relu'),\n",
        "    BatchNormalization(),\n",
        "    MaxPooling2D(2,2),\n",
        "    Dropout(0.25),\n",
        "\n",
        "    Conv2D(256, (3,3), activation='relu'),\n",
        "    BatchNormalization(),\n",
        "    MaxPooling2D(2,2),\n",
        "    Dropout(0.25),\n",
        "\n",
        "    Flatten(),\n",
        "    Dense(256, activation='relu'),\n",
        "    Dropout(0.5),\n",
        "    Dense(7, activation='softmax')\n",
        "])\n",
        "\n",
        "model.compile(optimizer='adam', loss='categorical_crossentropy', metrics=['accuracy'])\n"
      ]
    },
    {
      "cell_type": "markdown",
      "source": [
        "### Training the CNN with Augmentation and Callbacks\n",
        "\n",
        "This section trains the previously defined 7-class emotion classification CNN using augmented image data and training callbacks to optimize performance and prevent overfitting.\n",
        "\n",
        "#### Data Split\n",
        "\n",
        "* Splits the processed FER-2013 dataset into **90% training** and **10% validation** using `train_test_split`.\n",
        "\n",
        "#### Data Augmentation\n",
        "\n",
        "* Applies real-time image transformations using the `datagen` pipeline (defined earlier) to artificially expand the training set and improve generalization.\n",
        "\n",
        "#### Training Callbacks\n",
        "\n",
        "* `EarlyStopping`: Halts training if validation loss does not improve for 5 consecutive epochs. Restores the best weights.\n",
        "* `ReduceLROnPlateau`: Reduces learning rate by a factor of 0.2 if validation loss plateaus for 3 epochs. Prevents overshooting local minima.\n",
        "\n",
        "#### Model Training\n",
        "\n",
        "* Trained for up to **50 epochs** using a batch size of **64**.\n",
        "* `fit()` receives the augmented training data via `datagen.flow()` and validates on the untouched `X_val` set.\n",
        "* The `history` object records performance metrics across all epochs for later visualization.\n",
        "\n",
        "This setup ensures the CNN is trained efficiently and safely, with adaptive learning and early stopping strategies in place."
      ],
      "metadata": {
        "id": "T-onq8vZms74"
      }
    },
    {
      "cell_type": "code",
      "execution_count": null,
      "metadata": {
        "colab": {
          "base_uri": "https://localhost:8080/"
        },
        "id": "kmlGyyGRIRg_",
        "outputId": "ad0a2c2e-781c-4168-dcf6-361f4e456f78"
      },
      "outputs": [
        {
          "output_type": "stream",
          "name": "stdout",
          "text": [
            "Epoch 1/50\n"
          ]
        },
        {
          "output_type": "stream",
          "name": "stderr",
          "text": [
            "/usr/local/lib/python3.11/dist-packages/keras/src/trainers/data_adapters/py_dataset_adapter.py:121: UserWarning: Your `PyDataset` class should call `super().__init__(**kwargs)` in its constructor. `**kwargs` can include `workers`, `use_multiprocessing`, `max_queue_size`. Do not pass these arguments to `fit()`, as they will be ignored.\n",
            "  self._warn_if_super_not_called()\n"
          ]
        },
        {
          "output_type": "stream",
          "name": "stdout",
          "text": [
            "\u001b[1m141/141\u001b[0m \u001b[32m━━━━━━━━━━━━━━━━━━━━\u001b[0m\u001b[37m\u001b[0m \u001b[1m20s\u001b[0m 78ms/step - accuracy: 0.2036 - loss: 2.4890 - val_accuracy: 0.1680 - val_loss: 1.9708 - learning_rate: 0.0010\n",
            "Epoch 2/50\n",
            "\u001b[1m141/141\u001b[0m \u001b[32m━━━━━━━━━━━━━━━━━━━━\u001b[0m\u001b[37m\u001b[0m \u001b[1m4s\u001b[0m 26ms/step - accuracy: 0.2388 - loss: 1.8419 - val_accuracy: 0.2720 - val_loss: 1.9680 - learning_rate: 0.0010\n",
            "Epoch 3/50\n",
            "\u001b[1m141/141\u001b[0m \u001b[32m━━━━━━━━━━━━━━━━━━━━\u001b[0m\u001b[37m\u001b[0m \u001b[1m4s\u001b[0m 27ms/step - accuracy: 0.2483 - loss: 1.7982 - val_accuracy: 0.2230 - val_loss: 1.8279 - learning_rate: 0.0010\n",
            "Epoch 4/50\n",
            "\u001b[1m141/141\u001b[0m \u001b[32m━━━━━━━━━━━━━━━━━━━━\u001b[0m\u001b[37m\u001b[0m \u001b[1m4s\u001b[0m 27ms/step - accuracy: 0.2837 - loss: 1.7572 - val_accuracy: 0.2600 - val_loss: 1.7827 - learning_rate: 0.0010\n",
            "Epoch 5/50\n",
            "\u001b[1m141/141\u001b[0m \u001b[32m━━━━━━━━━━━━━━━━━━━━\u001b[0m\u001b[37m\u001b[0m \u001b[1m4s\u001b[0m 26ms/step - accuracy: 0.3080 - loss: 1.7010 - val_accuracy: 0.3330 - val_loss: 1.6818 - learning_rate: 0.0010\n",
            "Epoch 6/50\n",
            "\u001b[1m141/141\u001b[0m \u001b[32m━━━━━━━━━━━━━━━━━━━━\u001b[0m\u001b[37m\u001b[0m \u001b[1m4s\u001b[0m 26ms/step - accuracy: 0.3481 - loss: 1.6598 - val_accuracy: 0.2670 - val_loss: 2.9266 - learning_rate: 0.0010\n",
            "Epoch 7/50\n",
            "\u001b[1m141/141\u001b[0m \u001b[32m━━━━━━━━━━━━━━━━━━━━\u001b[0m\u001b[37m\u001b[0m \u001b[1m4s\u001b[0m 28ms/step - accuracy: 0.3489 - loss: 1.6355 - val_accuracy: 0.3750 - val_loss: 1.6086 - learning_rate: 0.0010\n",
            "Epoch 8/50\n",
            "\u001b[1m141/141\u001b[0m \u001b[32m━━━━━━━━━━━━━━━━━━━━\u001b[0m\u001b[37m\u001b[0m \u001b[1m4s\u001b[0m 27ms/step - accuracy: 0.3665 - loss: 1.6115 - val_accuracy: 0.3670 - val_loss: 1.6105 - learning_rate: 0.0010\n",
            "Epoch 9/50\n",
            "\u001b[1m141/141\u001b[0m \u001b[32m━━━━━━━━━━━━━━━━━━━━\u001b[0m\u001b[37m\u001b[0m \u001b[1m4s\u001b[0m 28ms/step - accuracy: 0.3843 - loss: 1.5612 - val_accuracy: 0.3720 - val_loss: 1.6109 - learning_rate: 0.0010\n",
            "Epoch 10/50\n",
            "\u001b[1m141/141\u001b[0m \u001b[32m━━━━━━━━━━━━━━━━━━━━\u001b[0m\u001b[37m\u001b[0m \u001b[1m4s\u001b[0m 27ms/step - accuracy: 0.3991 - loss: 1.5424 - val_accuracy: 0.4440 - val_loss: 1.4461 - learning_rate: 0.0010\n",
            "Epoch 11/50\n",
            "\u001b[1m141/141\u001b[0m \u001b[32m━━━━━━━━━━━━━━━━━━━━\u001b[0m\u001b[37m\u001b[0m \u001b[1m4s\u001b[0m 26ms/step - accuracy: 0.4089 - loss: 1.5061 - val_accuracy: 0.3960 - val_loss: 1.6018 - learning_rate: 0.0010\n",
            "Epoch 12/50\n",
            "\u001b[1m141/141\u001b[0m \u001b[32m━━━━━━━━━━━━━━━━━━━━\u001b[0m\u001b[37m\u001b[0m \u001b[1m4s\u001b[0m 26ms/step - accuracy: 0.4100 - loss: 1.4912 - val_accuracy: 0.2900 - val_loss: 1.7497 - learning_rate: 0.0010\n",
            "Epoch 13/50\n",
            "\u001b[1m141/141\u001b[0m \u001b[32m━━━━━━━━━━━━━━━━━━━━\u001b[0m\u001b[37m\u001b[0m \u001b[1m4s\u001b[0m 27ms/step - accuracy: 0.4274 - loss: 1.4798 - val_accuracy: 0.3440 - val_loss: 1.6599 - learning_rate: 0.0010\n",
            "Epoch 14/50\n",
            "\u001b[1m141/141\u001b[0m \u001b[32m━━━━━━━━━━━━━━━━━━━━\u001b[0m\u001b[37m\u001b[0m \u001b[1m4s\u001b[0m 27ms/step - accuracy: 0.4464 - loss: 1.4347 - val_accuracy: 0.5000 - val_loss: 1.3239 - learning_rate: 2.0000e-04\n",
            "Epoch 15/50\n",
            "\u001b[1m141/141\u001b[0m \u001b[32m━━━━━━━━━━━━━━━━━━━━\u001b[0m\u001b[37m\u001b[0m \u001b[1m4s\u001b[0m 26ms/step - accuracy: 0.4559 - loss: 1.4002 - val_accuracy: 0.4570 - val_loss: 1.3847 - learning_rate: 2.0000e-04\n",
            "Epoch 16/50\n",
            "\u001b[1m141/141\u001b[0m \u001b[32m━━━━━━━━━━━━━━━━━━━━\u001b[0m\u001b[37m\u001b[0m \u001b[1m4s\u001b[0m 27ms/step - accuracy: 0.4593 - loss: 1.4082 - val_accuracy: 0.4880 - val_loss: 1.3129 - learning_rate: 2.0000e-04\n",
            "Epoch 17/50\n",
            "\u001b[1m141/141\u001b[0m \u001b[32m━━━━━━━━━━━━━━━━━━━━\u001b[0m\u001b[37m\u001b[0m \u001b[1m4s\u001b[0m 27ms/step - accuracy: 0.4576 - loss: 1.3996 - val_accuracy: 0.5080 - val_loss: 1.2924 - learning_rate: 2.0000e-04\n",
            "Epoch 18/50\n",
            "\u001b[1m141/141\u001b[0m \u001b[32m━━━━━━━━━━━━━━━━━━━━\u001b[0m\u001b[37m\u001b[0m \u001b[1m4s\u001b[0m 27ms/step - accuracy: 0.4673 - loss: 1.3902 - val_accuracy: 0.4930 - val_loss: 1.3024 - learning_rate: 2.0000e-04\n",
            "Epoch 19/50\n",
            "\u001b[1m141/141\u001b[0m \u001b[32m━━━━━━━━━━━━━━━━━━━━\u001b[0m\u001b[37m\u001b[0m \u001b[1m4s\u001b[0m 27ms/step - accuracy: 0.4791 - loss: 1.3626 - val_accuracy: 0.5060 - val_loss: 1.2851 - learning_rate: 2.0000e-04\n",
            "Epoch 20/50\n",
            "\u001b[1m141/141\u001b[0m \u001b[32m━━━━━━━━━━━━━━━━━━━━\u001b[0m\u001b[37m\u001b[0m \u001b[1m4s\u001b[0m 27ms/step - accuracy: 0.4706 - loss: 1.3720 - val_accuracy: 0.5000 - val_loss: 1.3014 - learning_rate: 2.0000e-04\n",
            "Epoch 21/50\n",
            "\u001b[1m141/141\u001b[0m \u001b[32m━━━━━━━━━━━━━━━━━━━━\u001b[0m\u001b[37m\u001b[0m \u001b[1m4s\u001b[0m 26ms/step - accuracy: 0.4819 - loss: 1.3692 - val_accuracy: 0.5010 - val_loss: 1.2817 - learning_rate: 2.0000e-04\n",
            "Epoch 22/50\n",
            "\u001b[1m141/141\u001b[0m \u001b[32m━━━━━━━━━━━━━━━━━━━━\u001b[0m\u001b[37m\u001b[0m \u001b[1m4s\u001b[0m 26ms/step - accuracy: 0.4830 - loss: 1.3608 - val_accuracy: 0.5020 - val_loss: 1.2831 - learning_rate: 2.0000e-04\n",
            "Epoch 23/50\n",
            "\u001b[1m141/141\u001b[0m \u001b[32m━━━━━━━━━━━━━━━━━━━━\u001b[0m\u001b[37m\u001b[0m \u001b[1m4s\u001b[0m 27ms/step - accuracy: 0.4876 - loss: 1.3366 - val_accuracy: 0.5020 - val_loss: 1.2999 - learning_rate: 2.0000e-04\n",
            "Epoch 24/50\n",
            "\u001b[1m141/141\u001b[0m \u001b[32m━━━━━━━━━━━━━━━━━━━━\u001b[0m\u001b[37m\u001b[0m \u001b[1m4s\u001b[0m 27ms/step - accuracy: 0.4873 - loss: 1.3434 - val_accuracy: 0.5140 - val_loss: 1.2705 - learning_rate: 2.0000e-04\n",
            "Epoch 25/50\n",
            "\u001b[1m141/141\u001b[0m \u001b[32m━━━━━━━━━━━━━━━━━━━━\u001b[0m\u001b[37m\u001b[0m \u001b[1m4s\u001b[0m 27ms/step - accuracy: 0.4940 - loss: 1.3288 - val_accuracy: 0.5320 - val_loss: 1.2312 - learning_rate: 2.0000e-04\n",
            "Epoch 26/50\n",
            "\u001b[1m141/141\u001b[0m \u001b[32m━━━━━━━━━━━━━━━━━━━━\u001b[0m\u001b[37m\u001b[0m \u001b[1m4s\u001b[0m 27ms/step - accuracy: 0.4985 - loss: 1.3293 - val_accuracy: 0.5110 - val_loss: 1.2366 - learning_rate: 2.0000e-04\n",
            "Epoch 27/50\n",
            "\u001b[1m141/141\u001b[0m \u001b[32m━━━━━━━━━━━━━━━━━━━━\u001b[0m\u001b[37m\u001b[0m \u001b[1m4s\u001b[0m 26ms/step - accuracy: 0.4826 - loss: 1.3574 - val_accuracy: 0.5160 - val_loss: 1.2333 - learning_rate: 2.0000e-04\n",
            "Epoch 28/50\n",
            "\u001b[1m141/141\u001b[0m \u001b[32m━━━━━━━━━━━━━━━━━━━━\u001b[0m\u001b[37m\u001b[0m \u001b[1m4s\u001b[0m 26ms/step - accuracy: 0.4923 - loss: 1.3457 - val_accuracy: 0.5230 - val_loss: 1.2320 - learning_rate: 2.0000e-04\n",
            "Epoch 29/50\n",
            "\u001b[1m141/141\u001b[0m \u001b[32m━━━━━━━━━━━━━━━━━━━━\u001b[0m\u001b[37m\u001b[0m \u001b[1m4s\u001b[0m 26ms/step - accuracy: 0.5145 - loss: 1.2959 - val_accuracy: 0.5210 - val_loss: 1.2342 - learning_rate: 4.0000e-05\n",
            "Epoch 30/50\n",
            "\u001b[1m141/141\u001b[0m \u001b[32m━━━━━━━━━━━━━━━━━━━━\u001b[0m\u001b[37m\u001b[0m \u001b[1m4s\u001b[0m 27ms/step - accuracy: 0.4902 - loss: 1.3343 - val_accuracy: 0.5180 - val_loss: 1.2373 - learning_rate: 4.0000e-05\n"
          ]
        }
      ],
      "source": [
        "from sklearn.model_selection import train_test_split\n",
        "from tensorflow.keras.callbacks import EarlyStopping, ReduceLROnPlateau\n",
        "\n",
        "early_stop = EarlyStopping(monitor='val_loss', patience=5, restore_best_weights=True)\n",
        "lr_scheduler = ReduceLROnPlateau(monitor='val_loss', factor=0.2, patience=3, min_lr=1e-6)\n",
        "\n",
        "X_train, X_val, y_train, y_val = train_test_split(X_img, y_emotion, test_size=0.1, random_state=42)\n",
        "\n",
        "history = model.fit(datagen.flow(X_train, y_train, batch_size=64),\n",
        "                    validation_data=(X_val, y_val),\n",
        "                    epochs=50,\n",
        "                    callbacks=[early_stop, lr_scheduler])\n"
      ]
    },
    {
      "cell_type": "markdown",
      "source": [
        "### Save the model\n",
        "\n",
        "Here we keep this to save the best performing models and overwrite them."
      ],
      "metadata": {
        "id": "LstWe_wL3JWw"
      }
    },
    {
      "cell_type": "code",
      "execution_count": null,
      "metadata": {
        "id": "GhaBjL6zIM4r"
      },
      "outputs": [],
      "source": [
        "model.save('/content/drive/MyDrive/fusion_cnn_model.keras')\n"
      ]
    },
    {
      "cell_type": "markdown",
      "source": [
        "### Visualizing CNN Training Performance\n",
        "\n",
        "This section plots the **training and validation accuracy and loss curves** over the course of training to assess the model's learning behavior.\n",
        "\n",
        "#### Accuracy Plot\n",
        "\n",
        "* Shows how well the model correctly classifies training and validation samples over each epoch.\n",
        "* Helps detect signs of **underfitting** (low accuracy) or **overfitting** (large gap between training and validation curves).\n",
        "\n",
        "#### Loss Plot\n",
        "\n",
        "* Displays how the training and validation loss evolve during training.\n",
        "* A stable decrease in both indicates good learning, while divergence suggests overfitting or poor generalization.\n",
        "\n",
        "These visualizations are essential for evaluating model convergence and making informed decisions about architecture, training duration, or regularization."
      ],
      "metadata": {
        "id": "a_nH98D621mp"
      }
    },
    {
      "cell_type": "code",
      "execution_count": null,
      "metadata": {
        "colab": {
          "base_uri": "https://localhost:8080/",
          "height": 945
        },
        "id": "bh3W8mqPIP4e",
        "outputId": "263b3639-08fa-478f-a781-93c6aba03ebe"
      },
      "outputs": [
        {
          "output_type": "display_data",
          "data": {
            "text/plain": [
              "<Figure size 640x480 with 1 Axes>"
            ],
            "image/png": "[encoded data removed]"
          },
          "metadata": {}
        },
        {
          "output_type": "display_data",
          "data": {
            "text/plain": [
              "<Figure size 640x480 with 1 Axes>"
            ],
            "image/png": "[encoded data removed]"
          },
          "metadata": {}
        },
        {
          "output_type": "execute_result",
          "data": {
            "text/plain": [
              "(None, None)"
            ]
          },
          "metadata": {},
          "execution_count": 13
        }
      ],
      "source": [
        "import matplotlib.pyplot as plt\n",
        "\n",
        "# Accuracy\n",
        "plt.plot(history.history['accuracy'], label='Train Acc')\n",
        "plt.plot(history.history['val_accuracy'], label='Val Acc')\n",
        "plt.legend(), plt.title('Accuracy')\n",
        "plt.xlabel('Epoch'), plt.ylabel('Accuracy')\n",
        "plt.grid(), plt.show()\n",
        "\n",
        "# Loss\n",
        "plt.plot(history.history['loss'], label='Train Loss')\n",
        "plt.plot(history.history['val_loss'], label='Val Loss')\n",
        "plt.legend(), plt.title('Loss')\n",
        "plt.xlabel('Epoch'), plt.ylabel('Loss')\n",
        "plt.grid(), plt.show()\n"
      ]
    },
    {
      "cell_type": "markdown",
      "source": [
        "### Evaluate Emotion Model on Test Set\n",
        "\n",
        "Splits the image-based emotion dataset into training and test sets, and evaluates the model's accuracy and loss on the test split. This helps validate the model’s generalization ability on unseen emotion images."
      ],
      "metadata": {
        "id": "ijylxGjL3C7q"
      }
    },
    {
      "cell_type": "code",
      "execution_count": null,
      "metadata": {
        "colab": {
          "base_uri": "https://localhost:8080/"
        },
        "id": "uQhzrZ-8xfZX",
        "outputId": "582e1082-4ef1-4c5a-dcd0-8ffea4e88477"
      },
      "outputs": [
        {
          "output_type": "stream",
          "name": "stdout",
          "text": [
            "\u001b[1m63/63\u001b[0m \u001b[32m━━━━━━━━━━━━━━━━━━━━\u001b[0m\u001b[37m\u001b[0m \u001b[1m1s\u001b[0m 13ms/step - accuracy: 0.5431 - loss: 1.2019\n"
          ]
        },
        {
          "output_type": "execute_result",
          "data": {
            "text/plain": [
              "[1.1655895709991455, 0.5584999918937683]"
            ]
          },
          "metadata": {},
          "execution_count": 14
        }
      ],
      "source": [
        "from sklearn.model_selection import train_test_split\n",
        "\n",
        "# Assuming X_img and y_emotion are your full dataset\n",
        "X_train, X_test, y_train, y_test = train_test_split(X_img, y_emotion, test_size=0.2, random_state=42) # Create a test set\n",
        "\n",
        "# Now you can evaluate:\n",
        "model.evaluate(X_test, y_test)"
      ]
    },
    {
      "cell_type": "markdown",
      "source": [
        "### Preparing CNN and NLP Models for Fusion\n",
        "\n",
        "This section loads a pretrained CNN model for image features and builds a new text-only sentiment classifier using an LSTM-based NLP model. Both components will later be used in a fusion architecture.\n",
        "\n",
        "---\n",
        "\n",
        "#### Load and Freeze Trained CNN\n",
        "\n",
        "* Loads a previously trained CNN model (`fusion_cnn_model.keras`) for image-based emotion features.\n",
        "* All layers are set to **non-trainable** to freeze their weights for transfer learning.\n",
        "* A dummy input is passed to ensure the model is built and has accessible input/output tensors (`cnn_model.input`, `cnn_model.output`).\n",
        "\n",
        "---\n",
        "\n",
        "#### Balance Sentiment Dataset\n",
        "\n",
        "* Samples 10,000 **positive** and 10,000 **negative** sentiment examples from the cleaned Sentiment140 dataset.\n",
        "* Combines them into a **balanced binary classification dataset** for training the NLP model.\n",
        "\n",
        "---\n",
        "\n",
        "#### Text Preprocessing and Label Encoding\n",
        "\n",
        "* Tokenizes the cleaned text into padded sequences of integers using Keras' `Tokenizer`.\n",
        "* Limits vocabulary to 10,000 words and pads/truncates to 100 tokens.\n",
        "* Sentiment labels (`positive`, `negative`) are label-encoded and one-hot encoded using `LabelEncoder` and `to_categorical`.\n",
        "\n",
        "---\n",
        "\n",
        "#### Train/Validation Split\n",
        "\n",
        "* Splits the processed text and labels into training and validation sets (90%/10%) for supervised learning.\n",
        "\n",
        "---\n",
        "\n",
        "#### Define and Train LSTM-Based Sentiment Classifier\n",
        "\n",
        "* Constructs a **Sequential NLP model** with:\n",
        "\n",
        "  * An `Embedding` layer to learn word embeddings\n",
        "  * Two stacked `LSTM` layers for sequential context\n",
        "  * Fully connected layers with `ReLU` activation and dropout\n",
        "  * Final softmax output for binary sentiment classification\n",
        "* Compiled with the **Adam optimizer** and **categorical crossentropy loss**\n",
        "* Trained for **10 epochs** with a batch size of **64**\n",
        "\n",
        "This text-only model captures sentiment representations from captions, complementing the CNN's visual understanding for future multimodal fusion."
      ],
      "metadata": {
        "id": "yQiBUBH13R0R"
      }
    },
    {
      "cell_type": "code",
      "execution_count": null,
      "metadata": {
        "id": "O2xFFyRLx6aL"
      },
      "outputs": [],
      "source": [
        "from tensorflow.keras.models import load_model, Model\n",
        "from tensorflow.keras.layers import Input, Dense, Flatten, Concatenate\n",
        "\n",
        "# Load trained CNN\n",
        "cnn_model = load_model('/content/drive/MyDrive/fusion_cnn_model.keras')\n",
        "for layer in cnn_model.layers:\n",
        "    layer.trainable = False\n",
        "\n",
        "# Call the model with a dummy input to build it\n",
        "# This will create the `input` attribute\n",
        "cnn_model(Input(shape=(48, 48, 1)))\n",
        "\n",
        "image_input = cnn_model.input\n",
        "cnn_output = cnn_model.output"
      ]
    },
    {
      "cell_type": "code",
      "execution_count": null,
      "metadata": {
        "id": "8lwZhw1MJLKF"
      },
      "outputs": [],
      "source": [
        "pos_samples = sentiment_df[sentiment_df['sentiment_label'] == 'positive'].sample(10000, random_state=42)\n",
        "neg_samples = sentiment_df[sentiment_df['sentiment_label'] == 'negative'].sample(10000, random_state=42)\n",
        "\n",
        "balanced_df = pd.concat([pos_samples, neg_samples])\n"
      ]
    },
    {
      "cell_type": "code",
      "execution_count": null,
      "metadata": {
        "id": "7-WsppEMMI13"
      },
      "outputs": [],
      "source": [
        "from tensorflow.keras.preprocessing.text import Tokenizer\n",
        "from tensorflow.keras.preprocessing.sequence import pad_sequences\n",
        "from sklearn.preprocessing import LabelEncoder\n",
        "from tensorflow.keras.utils import to_categorical\n",
        "\n",
        "texts = balanced_df['cleaned_text'].tolist()\n",
        "labels = balanced_df['sentiment_label'].tolist()\n",
        "\n",
        "tokenizer = Tokenizer(num_words=10000, oov_token=\"<OOV>\")\n",
        "tokenizer.fit_on_texts(texts)\n",
        "\n",
        "sequences = tokenizer.texts_to_sequences(texts)\n",
        "X_text = pad_sequences(sequences, maxlen=100, padding='post')\n",
        "\n",
        "label_enc = LabelEncoder()\n",
        "y_text = to_categorical(label_enc.fit_transform(labels))  # 0 = neg, 1 = pos\n"
      ]
    },
    {
      "cell_type": "code",
      "execution_count": null,
      "metadata": {
        "id": "BFuAo8fxMKyz"
      },
      "outputs": [],
      "source": [
        "from sklearn.model_selection import train_test_split\n",
        "\n",
        "X_text_train, X_text_val, y_text_train, y_text_val = train_test_split(\n",
        "    X_text, y_text, test_size=0.1, random_state=42\n",
        ")\n"
      ]
    },
    {
      "cell_type": "code",
      "execution_count": null,
      "metadata": {
        "colab": {
          "base_uri": "https://localhost:8080/"
        },
        "id": "AIVMX68JMMww",
        "outputId": "407bf239-0f6b-4fbe-d473-ca84112bf467"
      },
      "outputs": [
        {
          "output_type": "stream",
          "name": "stdout",
          "text": [
            "Epoch 1/10\n"
          ]
        },
        {
          "output_type": "stream",
          "name": "stderr",
          "text": [
            "/usr/local/lib/python3.11/dist-packages/keras/src/layers/core/embedding.py:90: UserWarning: Argument `input_length` is deprecated. Just remove it.\n",
            "  warnings.warn(\n"
          ]
        },
        {
          "output_type": "stream",
          "name": "stdout",
          "text": [
            "\u001b[1m282/282\u001b[0m \u001b[32m━━━━━━━━━━━━━━━━━━━━\u001b[0m\u001b[37m\u001b[0m \u001b[1m7s\u001b[0m 15ms/step - accuracy: 0.4929 - loss: 0.6949 - val_accuracy: 0.4885 - val_loss: 0.6944\n",
            "Epoch 2/10\n",
            "\u001b[1m282/282\u001b[0m \u001b[32m━━━━━━━━━━━━━━━━━━━━\u001b[0m\u001b[37m\u001b[0m \u001b[1m4s\u001b[0m 13ms/step - accuracy: 0.4994 - loss: 0.6939 - val_accuracy: 0.5115 - val_loss: 0.6929\n",
            "Epoch 3/10\n",
            "\u001b[1m282/282\u001b[0m \u001b[32m━━━━━━━━━━━━━━━━━━━━\u001b[0m\u001b[37m\u001b[0m \u001b[1m4s\u001b[0m 13ms/step - accuracy: 0.4951 - loss: 0.6937 - val_accuracy: 0.5115 - val_loss: 0.6930\n",
            "Epoch 4/10\n",
            "\u001b[1m282/282\u001b[0m \u001b[32m━━━━━━━━━━━━━━━━━━━━\u001b[0m\u001b[37m\u001b[0m \u001b[1m4s\u001b[0m 13ms/step - accuracy: 0.4952 - loss: 0.6935 - val_accuracy: 0.4885 - val_loss: 0.6934\n",
            "Epoch 5/10\n",
            "\u001b[1m282/282\u001b[0m \u001b[32m━━━━━━━━━━━━━━━━━━━━\u001b[0m\u001b[37m\u001b[0m \u001b[1m4s\u001b[0m 13ms/step - accuracy: 0.4998 - loss: 0.6933 - val_accuracy: 0.4885 - val_loss: 0.6934\n",
            "Epoch 6/10\n",
            "\u001b[1m282/282\u001b[0m \u001b[32m━━━━━━━━━━━━━━━━━━━━\u001b[0m\u001b[37m\u001b[0m \u001b[1m4s\u001b[0m 13ms/step - accuracy: 0.4990 - loss: 0.6933 - val_accuracy: 0.4885 - val_loss: 0.6932\n",
            "Epoch 7/10\n",
            "\u001b[1m282/282\u001b[0m \u001b[32m━━━━━━━━━━━━━━━━━━━━\u001b[0m\u001b[37m\u001b[0m \u001b[1m4s\u001b[0m 13ms/step - accuracy: 0.4999 - loss: 0.6933 - val_accuracy: 0.4885 - val_loss: 0.6932\n",
            "Epoch 8/10\n",
            "\u001b[1m282/282\u001b[0m \u001b[32m━━━━━━━━━━━━━━━━━━━━\u001b[0m\u001b[37m\u001b[0m \u001b[1m4s\u001b[0m 13ms/step - accuracy: 0.4894 - loss: 0.6932 - val_accuracy: 0.5115 - val_loss: 0.6929\n",
            "Epoch 9/10\n",
            "\u001b[1m282/282\u001b[0m \u001b[32m━━━━━━━━━━━━━━━━━━━━\u001b[0m\u001b[37m\u001b[0m \u001b[1m4s\u001b[0m 13ms/step - accuracy: 0.5117 - loss: 0.6932 - val_accuracy: 0.4885 - val_loss: 0.6932\n",
            "Epoch 10/10\n",
            "\u001b[1m282/282\u001b[0m \u001b[32m━━━━━━━━━━━━━━━━━━━━\u001b[0m\u001b[37m\u001b[0m \u001b[1m4s\u001b[0m 13ms/step - accuracy: 0.5011 - loss: 0.6932 - val_accuracy: 0.4885 - val_loss: 0.6933\n"
          ]
        },
        {
          "output_type": "execute_result",
          "data": {
            "text/plain": [
              "<keras.src.callbacks.history.History at 0x7e3348a037d0>"
            ]
          },
          "metadata": {},
          "execution_count": 19
        }
      ],
      "source": [
        "from tensorflow.keras.models import Sequential\n",
        "from tensorflow.keras.layers import Embedding, LSTM, Dense, Dropout\n",
        "\n",
        "nlp_model = Sequential([\n",
        "    Embedding(input_dim=10000, output_dim=128, input_length=100),\n",
        "    LSTM(128, return_sequences=True),\n",
        "    Dropout(0.3),\n",
        "    LSTM(64),\n",
        "    Dropout(0.3),\n",
        "    Dense(64, activation='relu'),\n",
        "    Dropout(0.3),\n",
        "    Dense(2, activation='softmax')\n",
        "])\n",
        "\n",
        "nlp_model.compile(optimizer='adam', loss='categorical_crossentropy', metrics=['accuracy'])\n",
        "\n",
        "nlp_model.fit(X_text_train, y_text_train,\n",
        "              validation_data=(X_text_val, y_text_val),\n",
        "              epochs=10,\n",
        "              batch_size=64)\n"
      ]
    },
    {
      "cell_type": "markdown",
      "source": [
        "### Evaluating Individual Model Performance (CNN & NLP)\n",
        "\n",
        "This section evaluates the performance of the two trained models independently on their respective tasks:\n",
        "\n",
        "#### CNN Model — Emotion Classification\n",
        "\n",
        "* The pretrained and frozen **CNN model** is evaluated on a held-out test set of facial images.\n",
        "* Prints the **emotion classification accuracy** based on the model’s softmax predictions.\n",
        "\n",
        "#### LSTM Model — Sentiment Classification\n",
        "\n",
        "* The trained **NLP model** (`nlp_model`) is evaluated on a separate test set of cleaned and tokenized text inputs.\n",
        "* Prints the **sentiment classification accuracy**.\n",
        "\n",
        "These standalone results provide baselines for image-only and text-only performance before combining both into a multimodal fusion model."
      ],
      "metadata": {
        "id": "c6ZAA6VinviI"
      }
    },
    {
      "cell_type": "code",
      "execution_count": null,
      "metadata": {
        "colab": {
          "base_uri": "https://localhost:8080/"
        },
        "id": "IJhC0nhCzGBf",
        "outputId": "165749fb-0949-4c80-a3f0-2be4822062a5"
      },
      "outputs": [
        {
          "output_type": "stream",
          "name": "stdout",
          "text": [
            "CNN - Emotion Classification Accuracy: 61.40%\n",
            "LSTM - Sentiment Classification Accuracy: 0.00%\n"
          ]
        }
      ],
      "source": [
        "# CNN performance (on image-only emotion labels)\n",
        "cnn_eval = cnn_model.evaluate(X_test, y_test, verbose=0)\n",
        "print(f\"CNN - Emotion Classification Accuracy: {cnn_eval[1]*100:.2f}%\")\n",
        "\n",
        "# LSTM performance (on text-only sentiment labels)\n",
        "# Changed lstm_model to nlp_model\n",
        "lstm_eval = nlp_model.evaluate(X_text_test, y_text_test, verbose=0)\n",
        "print(f\"LSTM - Sentiment Classification Accuracy: {lstm_eval[1]*100:.2f}%\")"
      ]
    },
    {
      "cell_type": "markdown",
      "source": [
        "### Installing Gradio\n",
        "\n",
        "This command installs **Gradio**, a Python library used to build interactive web interfaces for machine learning models.\n",
        "\n",
        "* `!pip install --quiet gradio`: Installs Gradio with minimal output.\n",
        "* Gradio enables quick deployment of demos where users can upload inputs, receive predictions, and visualize results in real time.\n",
        "\n",
        "It’s particularly useful for showcasing models in an accessible, user-friendly format directly from notebooks or scripts.\n"
      ],
      "metadata": {
        "id": "PPfWasmsn5pz"
      }
    },
    {
      "cell_type": "code",
      "execution_count": null,
      "metadata": {
        "colab": {
          "base_uri": "https://localhost:8080/"
        },
        "id": "uT8B-HxEKKyS",
        "outputId": "938fc12b-3183-4a7f-8b00-522ef4eaabd1"
      },
      "outputs": [
        {
          "output_type": "stream",
          "name": "stdout",
          "text": [
            "\u001b[2K   \u001b[90m━━━━━━━━━━━━━━━━━━━━━━━━━━━━━━━━━━━━━━━━\u001b[0m \u001b[32m54.1/54.1 MB\u001b[0m \u001b[31m45.8 MB/s\u001b[0m eta \u001b[36m0:00:00\u001b[0m\n",
            "\u001b[2K   \u001b[90m━━━━━━━━━━━━━━━━━━━━━━━━━━━━━━━━━━━━━━━━\u001b[0m \u001b[32m322.9/322.9 kB\u001b[0m \u001b[31m27.2 MB/s\u001b[0m eta \u001b[36m0:00:00\u001b[0m\n",
            "\u001b[2K   \u001b[90m━━━━━━━━━━━━━━━━━━━━━━━━━━━━━━━━━━━━━━━━\u001b[0m \u001b[32m95.2/95.2 kB\u001b[0m \u001b[31m7.9 MB/s\u001b[0m eta \u001b[36m0:00:00\u001b[0m\n",
            "\u001b[2K   \u001b[90m━━━━━━━━━━━━━━━━━━━━━━━━━━━━━━━━━━━━━━━━\u001b[0m \u001b[32m11.5/11.5 MB\u001b[0m \u001b[31m126.7 MB/s\u001b[0m eta \u001b[36m0:00:00\u001b[0m\n",
            "\u001b[2K   \u001b[90m━━━━━━━━━━━━━━━━━━━━━━━━━━━━━━━━━━━━━━━━\u001b[0m \u001b[32m72.0/72.0 kB\u001b[0m \u001b[31m6.2 MB/s\u001b[0m eta \u001b[36m0:00:00\u001b[0m\n",
            "\u001b[2K   \u001b[90m━━━━━━━━━━━━━━━━━━━━━━━━━━━━━━━━━━━━━━━━\u001b[0m \u001b[32m62.5/62.5 kB\u001b[0m \u001b[31m5.5 MB/s\u001b[0m eta \u001b[36m0:00:00\u001b[0m\n",
            "\u001b[?25h"
          ]
        }
      ],
      "source": [
        "!pip install --quiet gradio"
      ]
    },
    {
      "cell_type": "markdown",
      "source": [
        "### Loading, Preprocessing, and Training a CNN on the RAF-DB Dataset\n",
        "\n",
        "This section handles the full pipeline for training a Convolutional Neural Network (CNN) on the **RAF-DB facial expression dataset**—from downloading the dataset to training a model on preprocessed image data.\n",
        "\n",
        "---\n",
        "\n",
        "#### 1. Download RAF-DB Dataset\n",
        "\n",
        "* Uses `kagglehub` to download the dataset from Kaggle: `shuvoalok/raf-db-dataset`.\n",
        "* The dataset includes facial emotion images organized into class-specific folders inside the `DATASET/train/` directory.\n",
        "\n",
        "---\n",
        "\n",
        "#### 2. Inspect Dataset Structure\n",
        "\n",
        "* Lists contents of the top-level dataset folder to verify that the data has been downloaded and organized correctly.\n",
        "\n",
        "---\n",
        "\n",
        "#### 3. Load and Preprocess Images\n",
        "\n",
        "* Loops through each label folder in the training directory.\n",
        "* Each image is:\n",
        "\n",
        "  * Converted to grayscale\n",
        "  * Resized to 48×48 pixels\n",
        "  * Normalized to pixel values in `[0, 1]`\n",
        "* Images and labels are stored in NumPy arrays for model input.\n",
        "\n",
        "---\n",
        "\n",
        "#### 4. One-Hot Encode Labels\n",
        "\n",
        "* Emotion labels are converted to one-hot encoded vectors using `to_categorical`, making them compatible with softmax classification.\n",
        "\n",
        "---\n",
        "\n",
        "#### 5. Build and Train CNN Model\n",
        "\n",
        "* A **Sequential CNN** is defined with:\n",
        "\n",
        "  * 3 convolutional blocks (Conv2D → BatchNorm → LeakyReLU → MaxPooling → Dropout)\n",
        "  * A fully connected Dense layer before the final softmax output\n",
        "* The model is compiled with the **Adam optimizer** and **categorical crossentropy loss**.\n",
        "* It is trained for 30 epochs on the RAF-DB training set with a validation split of 20%.\n",
        "\n",
        "This trained model (`model_raf`) can later be used for standalone prediction or as part of a fusion model pipeline with other datasets like FER and FERPlus."
      ],
      "metadata": {
        "id": "dfGO_b_m4USU"
      }
    },
    {
      "cell_type": "code",
      "execution_count": null,
      "metadata": {
        "colab": {
          "base_uri": "https://localhost:8080/"
        },
        "id": "4hWclq3dOwuJ",
        "outputId": "42955888-fef6-40da-b21d-c2c00e723439"
      },
      "outputs": [
        {
          "output_type": "stream",
          "name": "stdout",
          "text": [
            "Path to dataset files: /kaggle/input/raf-db-dataset\n"
          ]
        }
      ],
      "source": [
        "import kagglehub\n",
        "\n",
        "# Download latest version\n",
        "path = kagglehub.dataset_download(\"shuvoalok/raf-db-dataset\")\n",
        "\n",
        "print(\"Path to dataset files:\", path)"
      ]
    },
    {
      "cell_type": "code",
      "execution_count": null,
      "metadata": {
        "colab": {
          "base_uri": "https://localhost:8080/"
        },
        "id": "y4OCtCnYz37K",
        "outputId": "5332cb44-7a3f-47dd-f1d0-73c9f2544d88"
      },
      "outputs": [
        {
          "output_type": "stream",
          "name": "stdout",
          "text": [
            "['test_labels.csv', 'DATASET', 'train_labels.csv']\n"
          ]
        }
      ],
      "source": [
        "import os\n",
        "\n",
        "path_to_inspect = '/kaggle/input/raf-db-dataset'\n",
        "contents = os.listdir(path_to_inspect)\n",
        "print(contents)"
      ]
    },
    {
      "cell_type": "code",
      "execution_count": null,
      "metadata": {
        "colab": {
          "base_uri": "https://localhost:8080/"
        },
        "id": "7eXz9BTqPOHI",
        "outputId": "de774b06-fb2b-4f1d-8e4a-6c355f34c9f8"
      },
      "outputs": [
        {
          "output_type": "stream",
          "name": "stdout",
          "text": [
            "Loaded RAF-DB: 12271 images\n"
          ]
        }
      ],
      "source": [
        "import numpy as np\n",
        "from PIL import Image\n",
        "import os\n",
        "\n",
        "image_data = []\n",
        "image_labels = []\n",
        "\n",
        "train_base_path = \"/kaggle/input/raf-db-dataset/DATASET/train\"\n",
        "\n",
        "# Loop over folders (each is a label)\n",
        "for label in os.listdir(train_base_path):\n",
        "    label_path = os.path.join(train_base_path, label)\n",
        "    if not os.path.isdir(label_path):\n",
        "        continue\n",
        "    for file in os.listdir(label_path):\n",
        "        try:\n",
        "            img_path = os.path.join(label_path, file)\n",
        "            img = Image.open(img_path).convert('L').resize((48, 48))\n",
        "            image_data.append(np.array(img) / 255.0)\n",
        "            image_labels.append(int(label))  # convert folder name to int label\n",
        "        except:\n",
        "            continue\n",
        "\n",
        "X_raf = np.array(image_data).reshape(-1, 48, 48, 1)\n",
        "y_raf = np.array(image_labels)\n",
        "\n",
        "print(f\"Loaded RAF-DB: {X_raf.shape[0]} images\")\n"
      ]
    },
    {
      "cell_type": "code",
      "execution_count": null,
      "metadata": {
        "colab": {
          "base_uri": "https://localhost:8080/"
        },
        "id": "Zc1Gb4oBPrnE",
        "outputId": "b9e16ac4-1ad0-4c1e-8bfc-d241d06cc4ed"
      },
      "outputs": [
        {
          "output_type": "stream",
          "name": "stdout",
          "text": [
            "Input shape: (12271, 48, 48, 1)\n",
            "Label shape: (12271, 8)\n"
          ]
        }
      ],
      "source": [
        "from tensorflow.keras.utils import to_categorical\n",
        "\n",
        "# One-hot encode\n",
        "y_raf_encoded = to_categorical(y_raf)\n",
        "\n",
        "# Confirm shape\n",
        "print(\"Input shape:\", X_raf.shape)\n",
        "print(\"Label shape:\", y_raf_encoded.shape)\n"
      ]
    },
    {
      "cell_type": "code",
      "execution_count": null,
      "metadata": {
        "colab": {
          "base_uri": "https://localhost:8080/"
        },
        "id": "3YCnjDaEPxR3",
        "outputId": "3888f091-7c03-4ceb-807b-e79df01bc7e2"
      },
      "outputs": [
        {
          "output_type": "stream",
          "name": "stderr",
          "text": [
            "/usr/local/lib/python3.11/dist-packages/keras/src/layers/convolutional/base_conv.py:107: UserWarning: Do not pass an `input_shape`/`input_dim` argument to a layer. When using Sequential models, prefer using an `Input(shape)` object as the first layer in the model instead.\n",
            "  super().__init__(activity_regularizer=activity_regularizer, **kwargs)\n"
          ]
        },
        {
          "output_type": "stream",
          "name": "stdout",
          "text": [
            "Epoch 1/30\n",
            "\u001b[1m154/154\u001b[0m \u001b[32m━━━━━━━━━━━━━━━━━━━━\u001b[0m\u001b[37m\u001b[0m \u001b[1m17s\u001b[0m 57ms/step - accuracy: 0.2853 - loss: 10.9981 - val_accuracy: 0.3882 - val_loss: 2.2547\n",
            "Epoch 2/30\n",
            "\u001b[1m154/154\u001b[0m \u001b[32m━━━━━━━━━━━━━━━━━━━━\u001b[0m\u001b[37m\u001b[0m \u001b[1m3s\u001b[0m 17ms/step - accuracy: 0.3974 - loss: 2.4113 - val_accuracy: 0.3898 - val_loss: 3.7964\n",
            "Epoch 3/30\n",
            "\u001b[1m154/154\u001b[0m \u001b[32m━━━━━━━━━━━━━━━━━━━━\u001b[0m\u001b[37m\u001b[0m \u001b[1m3s\u001b[0m 17ms/step - accuracy: 0.4547 - loss: 2.0329 - val_accuracy: 0.4721 - val_loss: 1.9775\n",
            "Epoch 4/30\n",
            "\u001b[1m154/154\u001b[0m \u001b[32m━━━━━━━━━━━━━━━━━━━━\u001b[0m\u001b[37m\u001b[0m \u001b[1m3s\u001b[0m 17ms/step - accuracy: 0.5229 - loss: 1.5677 - val_accuracy: 0.5018 - val_loss: 1.4098\n",
            "Epoch 5/30\n",
            "\u001b[1m154/154\u001b[0m \u001b[32m━━━━━━━━━━━━━━━━━━━━\u001b[0m\u001b[37m\u001b[0m \u001b[1m3s\u001b[0m 17ms/step - accuracy: 0.5497 - loss: 1.3604 - val_accuracy: 0.5829 - val_loss: 1.1356\n",
            "Epoch 6/30\n",
            "\u001b[1m154/154\u001b[0m \u001b[32m━━━━━━━━━━━━━━━━━━━━\u001b[0m\u001b[37m\u001b[0m \u001b[1m3s\u001b[0m 17ms/step - accuracy: 0.5906 - loss: 1.1757 - val_accuracy: 0.6065 - val_loss: 1.1162\n",
            "Epoch 7/30\n",
            "\u001b[1m154/154\u001b[0m \u001b[32m━━━━━━━━━━━━━━━━━━━━\u001b[0m\u001b[37m\u001b[0m \u001b[1m3s\u001b[0m 17ms/step - accuracy: 0.6337 - loss: 1.0655 - val_accuracy: 0.6167 - val_loss: 1.1227\n",
            "Epoch 8/30\n",
            "\u001b[1m154/154\u001b[0m \u001b[32m━━━━━━━━━━━━━━━━━━━━\u001b[0m\u001b[37m\u001b[0m \u001b[1m3s\u001b[0m 17ms/step - accuracy: 0.6495 - loss: 1.0020 - val_accuracy: 0.5898 - val_loss: 1.1221\n",
            "Epoch 9/30\n",
            "\u001b[1m154/154\u001b[0m \u001b[32m━━━━━━━━━━━━━━━━━━━━\u001b[0m\u001b[37m\u001b[0m \u001b[1m3s\u001b[0m 17ms/step - accuracy: 0.6674 - loss: 0.9299 - val_accuracy: 0.6098 - val_loss: 1.0598\n",
            "Epoch 10/30\n",
            "\u001b[1m154/154\u001b[0m \u001b[32m━━━━━━━━━━━━━━━━━━━━\u001b[0m\u001b[37m\u001b[0m \u001b[1m3s\u001b[0m 17ms/step - accuracy: 0.6690 - loss: 0.9133 - val_accuracy: 0.6823 - val_loss: 0.8873\n",
            "Epoch 11/30\n",
            "\u001b[1m154/154\u001b[0m \u001b[32m━━━━━━━━━━━━━━━━━━━━\u001b[0m\u001b[37m\u001b[0m \u001b[1m3s\u001b[0m 16ms/step - accuracy: 0.7038 - loss: 0.8274 - val_accuracy: 0.6733 - val_loss: 0.8908\n",
            "Epoch 12/30\n",
            "\u001b[1m154/154\u001b[0m \u001b[32m━━━━━━━━━━━━━━━━━━━━\u001b[0m\u001b[37m\u001b[0m \u001b[1m3s\u001b[0m 17ms/step - accuracy: 0.7253 - loss: 0.7800 - val_accuracy: 0.6884 - val_loss: 0.9042\n",
            "Epoch 13/30\n",
            "\u001b[1m154/154\u001b[0m \u001b[32m━━━━━━━━━━━━━━━━━━━━\u001b[0m\u001b[37m\u001b[0m \u001b[1m3s\u001b[0m 16ms/step - accuracy: 0.7218 - loss: 0.7670 - val_accuracy: 0.6705 - val_loss: 0.9226\n",
            "Epoch 14/30\n",
            "\u001b[1m154/154\u001b[0m \u001b[32m━━━━━━━━━━━━━━━━━━━━\u001b[0m\u001b[37m\u001b[0m \u001b[1m3s\u001b[0m 16ms/step - accuracy: 0.7501 - loss: 0.6994 - val_accuracy: 0.6676 - val_loss: 0.9387\n",
            "Epoch 15/30\n",
            "\u001b[1m154/154\u001b[0m \u001b[32m━━━━━━━━━━━━━━━━━━━━\u001b[0m\u001b[37m\u001b[0m \u001b[1m3s\u001b[0m 16ms/step - accuracy: 0.7604 - loss: 0.6748 - val_accuracy: 0.7259 - val_loss: 0.7894\n",
            "Epoch 16/30\n",
            "\u001b[1m154/154\u001b[0m \u001b[32m━━━━━━━━━━━━━━━━━━━━\u001b[0m\u001b[37m\u001b[0m \u001b[1m3s\u001b[0m 16ms/step - accuracy: 0.7704 - loss: 0.6287 - val_accuracy: 0.7242 - val_loss: 0.8077\n",
            "Epoch 17/30\n",
            "\u001b[1m154/154\u001b[0m \u001b[32m━━━━━━━━━━━━━━━━━━━━\u001b[0m\u001b[37m\u001b[0m \u001b[1m3s\u001b[0m 16ms/step - accuracy: 0.7943 - loss: 0.5758 - val_accuracy: 0.7308 - val_loss: 0.8025\n",
            "Epoch 18/30\n",
            "\u001b[1m154/154\u001b[0m \u001b[32m━━━━━━━━━━━━━━━━━━━━\u001b[0m\u001b[37m\u001b[0m \u001b[1m3s\u001b[0m 16ms/step - accuracy: 0.7938 - loss: 0.5752 - val_accuracy: 0.7157 - val_loss: 0.8387\n",
            "Epoch 19/30\n",
            "\u001b[1m154/154\u001b[0m \u001b[32m━━━━━━━━━━━━━━━━━━━━\u001b[0m\u001b[37m\u001b[0m \u001b[1m3s\u001b[0m 16ms/step - accuracy: 0.8211 - loss: 0.4975 - val_accuracy: 0.7312 - val_loss: 0.7876\n",
            "Epoch 20/30\n",
            "\u001b[1m154/154\u001b[0m \u001b[32m━━━━━━━━━━━━━━━━━━━━\u001b[0m\u001b[37m\u001b[0m \u001b[1m3s\u001b[0m 16ms/step - accuracy: 0.8294 - loss: 0.4602 - val_accuracy: 0.7332 - val_loss: 0.8576\n",
            "Epoch 21/30\n",
            "\u001b[1m154/154\u001b[0m \u001b[32m━━━━━━━━━━━━━━━━━━━━\u001b[0m\u001b[37m\u001b[0m \u001b[1m3s\u001b[0m 16ms/step - accuracy: 0.8472 - loss: 0.4214 - val_accuracy: 0.7405 - val_loss: 0.8178\n",
            "Epoch 22/30\n",
            "\u001b[1m154/154\u001b[0m \u001b[32m━━━━━━━━━━━━━━━━━━━━\u001b[0m\u001b[37m\u001b[0m \u001b[1m3s\u001b[0m 16ms/step - accuracy: 0.8533 - loss: 0.4078 - val_accuracy: 0.7409 - val_loss: 0.7816\n",
            "Epoch 23/30\n",
            "\u001b[1m154/154\u001b[0m \u001b[32m━━━━━━━━━━━━━━━━━━━━\u001b[0m\u001b[37m\u001b[0m \u001b[1m3s\u001b[0m 16ms/step - accuracy: 0.8742 - loss: 0.3554 - val_accuracy: 0.7010 - val_loss: 0.9838\n",
            "Epoch 24/30\n",
            "\u001b[1m154/154\u001b[0m \u001b[32m━━━━━━━━━━━━━━━━━━━━\u001b[0m\u001b[37m\u001b[0m \u001b[1m3s\u001b[0m 16ms/step - accuracy: 0.8813 - loss: 0.3276 - val_accuracy: 0.7328 - val_loss: 0.8500\n",
            "Epoch 25/30\n",
            "\u001b[1m154/154\u001b[0m \u001b[32m━━━━━━━━━━━━━━━━━━━━\u001b[0m\u001b[37m\u001b[0m \u001b[1m3s\u001b[0m 16ms/step - accuracy: 0.8868 - loss: 0.3073 - val_accuracy: 0.7462 - val_loss: 0.8869\n",
            "Epoch 26/30\n",
            "\u001b[1m154/154\u001b[0m \u001b[32m━━━━━━━━━━━━━━━━━━━━\u001b[0m\u001b[37m\u001b[0m \u001b[1m3s\u001b[0m 16ms/step - accuracy: 0.8965 - loss: 0.2932 - val_accuracy: 0.6961 - val_loss: 1.0723\n",
            "Epoch 27/30\n",
            "\u001b[1m154/154\u001b[0m \u001b[32m━━━━━━━━━━━━━━━━━━━━\u001b[0m\u001b[37m\u001b[0m \u001b[1m3s\u001b[0m 16ms/step - accuracy: 0.9012 - loss: 0.2657 - val_accuracy: 0.7479 - val_loss: 0.8782\n",
            "Epoch 28/30\n",
            "\u001b[1m154/154\u001b[0m \u001b[32m━━━━━━━━━━━━━━━━━━━━\u001b[0m\u001b[37m\u001b[0m \u001b[1m3s\u001b[0m 16ms/step - accuracy: 0.9097 - loss: 0.2514 - val_accuracy: 0.7527 - val_loss: 0.9008\n",
            "Epoch 29/30\n",
            "\u001b[1m154/154\u001b[0m \u001b[32m━━━━━━━━━━━━━━━━━━━━\u001b[0m\u001b[37m\u001b[0m \u001b[1m3s\u001b[0m 16ms/step - accuracy: 0.9186 - loss: 0.2243 - val_accuracy: 0.7059 - val_loss: 1.1447\n",
            "Epoch 30/30\n",
            "\u001b[1m154/154\u001b[0m \u001b[32m━━━━━━━━━━━━━━━━━━━━\u001b[0m\u001b[37m\u001b[0m \u001b[1m3s\u001b[0m 16ms/step - accuracy: 0.9217 - loss: 0.2150 - val_accuracy: 0.7340 - val_loss: 1.0136\n"
          ]
        }
      ],
      "source": [
        "from tensorflow.keras.models import Sequential\n",
        "from tensorflow.keras.layers import Conv2D, MaxPooling2D, Flatten, Dense, Dropout, BatchNormalization, LeakyReLU\n",
        "from sklearn.model_selection import train_test_split\n",
        "\n",
        "# Split\n",
        "X_train_raf, X_val_raf, y_train_raf, y_val_raf = train_test_split(X_raf, y_raf_encoded, test_size=0.2, random_state=42)\n",
        "\n",
        "# Model\n",
        "model_raf = Sequential([\n",
        "    Conv2D(64, (3,3), padding='same', input_shape=(48,48,1)),\n",
        "    BatchNormalization(),\n",
        "    LeakyReLU(),\n",
        "    MaxPooling2D(2,2),\n",
        "    Dropout(0.25),\n",
        "\n",
        "    Conv2D(128, (3,3), padding='same'),\n",
        "    BatchNormalization(),\n",
        "    LeakyReLU(),\n",
        "    MaxPooling2D(2,2),\n",
        "    Dropout(0.25),\n",
        "\n",
        "    Conv2D(256, (3,3), padding='same'),\n",
        "    BatchNormalization(),\n",
        "    LeakyReLU(),\n",
        "    MaxPooling2D(2,2),\n",
        "    Dropout(0.25),\n",
        "\n",
        "    Flatten(),\n",
        "    Dense(512),\n",
        "    LeakyReLU(),\n",
        "    Dropout(0.5),\n",
        "    Dense(8, activation='softmax')\n",
        "])\n",
        "\n",
        "model_raf.compile(optimizer='adam', loss='categorical_crossentropy', metrics=['accuracy'])\n",
        "\n",
        "# Train\n",
        "history_raf = model_raf.fit(X_train_raf, y_train_raf,\n",
        "                            validation_data=(X_val_raf, y_val_raf),\n",
        "                            epochs=30,\n",
        "                            batch_size=64)\n"
      ]
    },
    {
      "cell_type": "code",
      "execution_count": null,
      "metadata": {
        "colab": {
          "base_uri": "https://localhost:8080/",
          "height": 927
        },
        "id": "bG4Rz6zOQACf",
        "outputId": "b6437fd0-a28b-404c-ba34-2fe2648b3752"
      },
      "outputs": [
        {
          "output_type": "display_data",
          "data": {
            "text/plain": [
              "<Figure size 640x480 with 1 Axes>"
            ],
            "image/png": "[encoded data removed]"
          },
          "metadata": {}
        },
        {
          "output_type": "display_data",
          "data": {
            "text/plain": [
              "<Figure size 640x480 with 1 Axes>"
            ],
            "image/png": "[encoded data removed]"
          },
          "metadata": {}
        }
      ],
      "source": [
        "import matplotlib.pyplot as plt\n",
        "\n",
        "# Accuracy\n",
        "plt.plot(history_raf.history['accuracy'], label='Train Acc')\n",
        "plt.plot(history_raf.history['val_accuracy'], label='Val Acc')\n",
        "plt.title('RAF-DB CNN Accuracy')\n",
        "plt.xlabel('Epoch')\n",
        "plt.ylabel('Accuracy')\n",
        "plt.legend()\n",
        "plt.grid(True)\n",
        "plt.show()\n",
        "\n",
        "# Loss\n",
        "plt.plot(history_raf.history['loss'], label='Train Loss')\n",
        "plt.plot(history_raf.history['val_loss'], label='Val Loss')\n",
        "plt.title('RAF-DB CNN Loss')\n",
        "plt.xlabel('Epoch')\n",
        "plt.ylabel('Loss')\n",
        "plt.legend()\n",
        "plt.grid(True)\n",
        "plt.show()\n"
      ]
    },
    {
      "cell_type": "code",
      "execution_count": null,
      "metadata": {
        "id": "T9WtAzQ0QByR"
      },
      "outputs": [],
      "source": [
        "model_raf.save(\"/content/drive/MyDrive/rafdb_cnn_model.keras\")"
      ]
    },
    {
      "cell_type": "markdown",
      "source": [
        "### Loading Pretrained CNN Models\n",
        "\n",
        "This cell loads two pretrained Convolutional Neural Network (CNN) models using `tensorflow.keras.models.load_model`:\n",
        "\n",
        "`fer_model`: A model trained on the FER-2013 dataset, used for facial emotion recognition.\n",
        "\n",
        "`raf_model`: A model trained on the RAF-DB dataset, another facial expression dataset that offers more realistic emotion data.\n",
        "\n",
        "These models will be used later as feature extractors for image-based emotion classification in the multi-modal fusion pipeline. Both models are assumed to have been previously trained and saved in `.keras` format."
      ],
      "metadata": {
        "id": "LcmO6Eqy6i_c"
      }
    },
    {
      "cell_type": "code",
      "execution_count": null,
      "metadata": {
        "id": "UsoMfA4AQ1gO"
      },
      "outputs": [],
      "source": [
        "from tensorflow.keras.models import load_model\n",
        "\n",
        "# Load both CNNs\n",
        "fer_model = load_model(\"/content/drive/MyDrive/fer_cnn_model.keras\")\n",
        "raf_model = load_model(\"/content/drive/MyDrive/rafdb_cnn_model.keras\")\n"
      ]
    },
    {
      "cell_type": "markdown",
      "source": [
        "### Evaluating Ensemble Accuracy on Shared Emotion Classes (Labels 0-4)\n",
        "\n",
        "This cell evaluates the ensemble performance of two CNN models (FER and RAF) on a subset of the RAF-DB validation data, focusing only on the emotion classes shared between FER-2013 and RAF-DB (labels 0 to 4).\n",
        "\n",
        "* Filtering: A mask filters `X_val_raf` and `y_val_raf` to include only samples with emotion labels `< 5`, ensuring alignment with FER’s label range.\n",
        "\n",
        "* Prediction: Both models predict on the same filtered inputs.\n",
        "\n",
        "* Ensembling: The predictions from the two models are averaged across the first 5 emotion classes to form the ensemble output.\n",
        "\n",
        "* Evaluation: The final ensemble accuracy is calculated by comparing the predicted labels to the true labels using `accuracy_score` from `sklearn`.\n",
        "\n",
        "This provides a quantitative measure of how well the combined model performs on consistent emotion classes across datasets."
      ],
      "metadata": {
        "id": "XPfY66j56yIt"
      }
    },
    {
      "cell_type": "code",
      "execution_count": null,
      "metadata": {
        "colab": {
          "base_uri": "https://localhost:8080/"
        },
        "id": "RljV26KHRAwp",
        "outputId": "544d4619-2ef4-42c4-fde1-557ede2d3ec7"
      },
      "outputs": [
        {
          "output_type": "stream",
          "name": "stdout",
          "text": [
            "\u001b[1m44/44\u001b[0m \u001b[32m━━━━━━━━━━━━━━━━━━━━\u001b[0m\u001b[37m\u001b[0m \u001b[1m1s\u001b[0m 14ms/step\n",
            "\u001b[1m44/44\u001b[0m \u001b[32m━━━━━━━━━━━━━━━━━━━━\u001b[0m\u001b[37m\u001b[0m \u001b[1m1s\u001b[0m 18ms/step\n",
            "Filtered Ensemble Accuracy: 96.45%\n"
          ]
        }
      ],
      "source": [
        "# Keep only RAF samples with label 0–4 (shared with FER)\n",
        "mask = np.argmax(y_val_raf, axis=1) < 5\n",
        "X_val_filtered = X_val_raf[mask]\n",
        "y_val_filtered = y_val_raf[mask]\n",
        "\n",
        "# Re-predict with both models\n",
        "fer_preds = fer_model.predict(X_val_filtered)\n",
        "raf_preds = raf_model.predict(X_val_filtered)\n",
        "\n",
        "# Average predictions\n",
        "ensemble_preds = (fer_preds[:, :5] + raf_preds[:, :5]) / 2.0\n",
        "ensemble_labels = np.argmax(ensemble_preds, axis=1)\n",
        "true_labels = np.argmax(y_val_filtered[:, :5], axis=1)\n",
        "\n",
        "# Accuracy\n",
        "from sklearn.metrics import accuracy_score\n",
        "acc = accuracy_score(true_labels, ensemble_labels)\n",
        "print(f\"Filtered Ensemble Accuracy: {acc * 100:.2f}%\")\n"
      ]
    },
    {
      "cell_type": "markdown",
      "source": [
        "### Visualizing Ensemble Model Confusion Matrix\n",
        "\n",
        "This section visualizes the performance of the ensemble model by plotting a confusion matrix:\n",
        "\n",
        "* The confusion matrix is computed using the true and predicted labels from the filtered ensemble output.\n",
        "\n",
        "* Emotion classes are mapped to human-readable names: **Angry, Disgust, Fear, Happy, Sad**.\n",
        "\n",
        "* Only classes present in the prediction and ground truth are included, ensuring the matrix is relevant to the evaluated subset.\n",
        "\n",
        "* `ConfusionMatrixDisplay` from `sklearn` is used to generate a labeled heatmap with a blue color scheme for clarity.\n",
        "\n",
        "This visualization helps analyze where the model tends to confuse different emotions and highlights its classification strengths and weaknesses."
      ],
      "metadata": {
        "id": "_1TR0khU7eG0"
      }
    },
    {
      "cell_type": "code",
      "execution_count": null,
      "metadata": {
        "colab": {
          "base_uri": "https://localhost:8080/",
          "height": 472
        },
        "id": "Iz8gVcfIRP9O",
        "outputId": "cf08e307-f81d-42d6-af4b-53917b49b6e8"
      },
      "outputs": [
        {
          "output_type": "display_data",
          "data": {
            "text/plain": [
              "<Figure size 640x480 with 2 Axes>"
            ],
            "image/png": "[encoded data removed]"
          },
          "metadata": {}
        }
      ],
      "source": [
        "from sklearn.metrics import confusion_matrix, ConfusionMatrixDisplay\n",
        "import numpy as np\n",
        "\n",
        "# Compute confusion matrix\n",
        "cm = confusion_matrix(true_labels, ensemble_labels)\n",
        "\n",
        "# Get unique present classes\n",
        "present_classes = sorted(np.unique(np.concatenate([true_labels, ensemble_labels])))\n",
        "\n",
        "# Map to emotion names\n",
        "class_names = ['Angry', 'Disgust', 'Fear', 'Happy', 'Sad']\n",
        "present_labels = [class_names[i] for i in present_classes]\n",
        "\n",
        "# Display\n",
        "disp = ConfusionMatrixDisplay(confusion_matrix=cm, display_labels=present_labels)\n",
        "disp.plot(cmap='Blues')\n",
        "plt.title(\"Ensemble Model Confusion Matrix (FER + RAF)\")\n",
        "plt.show()\n"
      ]
    },
    {
      "cell_type": "markdown",
      "source": [
        "### Building and Training a Meta-Classifier for Emotion Prediction\n",
        "\n",
        "This section implements a **meta-classifier** that learns to make improved predictions by combining the outputs of two pretrained CNNs (FER and RAF):\n",
        "\n",
        "#### Feature Construction\n",
        "\n",
        "* The softmax outputs from `fer_preds` and `raf_preds` (first 5 classes) are concatenated to form a 12-dimensional feature vector per sample.\n",
        "* These serve as input features (`meta_X`), while the corresponding one-hot emotion labels from `y_val_filtered` become the targets (`meta_y`).\n",
        "\n",
        "#### Data Splitting\n",
        "\n",
        "* The dataset is split into **training and validation sets** using an 80/20 split with a fixed random seed for reproducibility.\n",
        "\n",
        "#### Meta-Model Architecture\n",
        "\n",
        "* A simple feedforward neural network is built using Keras `Sequential`:\n",
        "\n",
        "  * Input: 12 features (combined softmax outputs).\n",
        "  * Two hidden layers with ReLU activations and Dropout for regularization.\n",
        "  * Output: 5-class softmax for emotion prediction.\n",
        "\n",
        "#### Training\n",
        "\n",
        "* The model is trained using the **Adam optimizer** and **categorical cross-entropy loss** for 20 epochs.\n",
        "* Validation data is used to monitor performance during training.\n",
        "\n",
        "This meta-classifier acts as a learnable ensemble strategy that can potentially outperform naïve averaging by learning patterns across both CNNs' prediction distributions."
      ],
      "metadata": {
        "id": "qhiq5F0T7zs0"
      }
    },
    {
      "cell_type": "code",
      "execution_count": null,
      "metadata": {
        "colab": {
          "base_uri": "https://localhost:8080/"
        },
        "id": "l8Ug7qAcReje",
        "outputId": "596b7eaf-67a8-4b27-f7f2-73d4887566eb"
      },
      "outputs": [
        {
          "output_type": "stream",
          "name": "stdout",
          "text": [
            "Meta input shape: (1125, 12)\n",
            "Meta label shape: (1125, 5)\n"
          ]
        }
      ],
      "source": [
        "from sklearn.model_selection import train_test_split\n",
        "\n",
        "# Feature: concat [fer_softmax, raf_softmax]\n",
        "meta_X = np.concatenate([fer_preds, raf_preds[:, :5]], axis=1)\n",
        "meta_y = y_val_filtered[:, :5]  # One-hot\n",
        "\n",
        "# Split for meta-classifier training\n",
        "meta_X_train, meta_X_val, meta_y_train, meta_y_val = train_test_split(meta_X, meta_y, test_size=0.2, random_state=42)\n",
        "\n",
        "print(\"Meta input shape:\", meta_X_train.shape)\n",
        "print(\"Meta label shape:\", meta_y_train.shape)\n"
      ]
    },
    {
      "cell_type": "code",
      "execution_count": null,
      "metadata": {
        "colab": {
          "base_uri": "https://localhost:8080/"
        },
        "id": "05D_yH_ZRiGm",
        "outputId": "fd35b4d0-7582-48ef-bc68-d1e72a79f3c9"
      },
      "outputs": [
        {
          "output_type": "stream",
          "name": "stdout",
          "text": [
            "Epoch 1/20\n"
          ]
        },
        {
          "output_type": "stream",
          "name": "stderr",
          "text": [
            "/usr/local/lib/python3.11/dist-packages/keras/src/layers/core/dense.py:87: UserWarning: Do not pass an `input_shape`/`input_dim` argument to a layer. When using Sequential models, prefer using an `Input(shape)` object as the first layer in the model instead.\n",
            "  super().__init__(activity_regularizer=activity_regularizer, **kwargs)\n"
          ]
        },
        {
          "output_type": "stream",
          "name": "stdout",
          "text": [
            "\u001b[1m36/36\u001b[0m \u001b[32m━━━━━━━━━━━━━━━━━━━━\u001b[0m\u001b[37m\u001b[0m \u001b[1m5s\u001b[0m 62ms/step - accuracy: 0.6282 - loss: 1.3949 - val_accuracy: 0.6844 - val_loss: 1.0446\n",
            "Epoch 2/20\n",
            "\u001b[1m36/36\u001b[0m \u001b[32m━━━━━━━━━━━━━━━━━━━━\u001b[0m\u001b[37m\u001b[0m \u001b[1m0s\u001b[0m 4ms/step - accuracy: 0.7271 - loss: 1.0186 - val_accuracy: 0.8652 - val_loss: 0.6283\n",
            "Epoch 3/20\n",
            "\u001b[1m36/36\u001b[0m \u001b[32m━━━━━━━━━━━━━━━━━━━━\u001b[0m\u001b[37m\u001b[0m \u001b[1m0s\u001b[0m 4ms/step - accuracy: 0.8344 - loss: 0.6454 - val_accuracy: 0.9326 - val_loss: 0.3808\n",
            "Epoch 4/20\n",
            "\u001b[1m36/36\u001b[0m \u001b[32m━━━━━━━━━━━━━━━━━━━━\u001b[0m\u001b[37m\u001b[0m \u001b[1m0s\u001b[0m 4ms/step - accuracy: 0.8969 - loss: 0.4450 - val_accuracy: 0.9433 - val_loss: 0.2586\n",
            "Epoch 5/20\n",
            "\u001b[1m36/36\u001b[0m \u001b[32m━━━━━━━━━━━━━━━━━━━━\u001b[0m\u001b[37m\u001b[0m \u001b[1m0s\u001b[0m 4ms/step - accuracy: 0.9285 - loss: 0.3255 - val_accuracy: 0.9645 - val_loss: 0.1962\n",
            "Epoch 6/20\n",
            "\u001b[1m36/36\u001b[0m \u001b[32m━━━━━━━━━━━━━━━━━━━━\u001b[0m\u001b[37m\u001b[0m \u001b[1m0s\u001b[0m 4ms/step - accuracy: 0.9372 - loss: 0.2694 - val_accuracy: 0.9681 - val_loss: 0.1654\n",
            "Epoch 7/20\n",
            "\u001b[1m36/36\u001b[0m \u001b[32m━━━━━━━━━━━━━━━━━━━━\u001b[0m\u001b[37m\u001b[0m \u001b[1m0s\u001b[0m 4ms/step - accuracy: 0.9367 - loss: 0.2515 - val_accuracy: 0.9681 - val_loss: 0.1496\n",
            "Epoch 8/20\n",
            "\u001b[1m36/36\u001b[0m \u001b[32m━━━━━━━━━━━━━━━━━━━━\u001b[0m\u001b[37m\u001b[0m \u001b[1m0s\u001b[0m 4ms/step - accuracy: 0.9650 - loss: 0.1848 - val_accuracy: 0.9681 - val_loss: 0.1418\n",
            "Epoch 9/20\n",
            "\u001b[1m36/36\u001b[0m \u001b[32m━━━━━━━━━━━━━━━━━━━━\u001b[0m\u001b[37m\u001b[0m \u001b[1m0s\u001b[0m 4ms/step - accuracy: 0.9518 - loss: 0.2042 - val_accuracy: 0.9681 - val_loss: 0.1381\n",
            "Epoch 10/20\n",
            "\u001b[1m36/36\u001b[0m \u001b[32m━━━━━━━━━━━━━━━━━━━━\u001b[0m\u001b[37m\u001b[0m \u001b[1m0s\u001b[0m 4ms/step - accuracy: 0.9638 - loss: 0.1758 - val_accuracy: 0.9610 - val_loss: 0.1365\n",
            "Epoch 11/20\n",
            "\u001b[1m36/36\u001b[0m \u001b[32m━━━━━━━━━━━━━━━━━━━━\u001b[0m\u001b[37m\u001b[0m \u001b[1m0s\u001b[0m 4ms/step - accuracy: 0.9571 - loss: 0.1810 - val_accuracy: 0.9610 - val_loss: 0.1360\n",
            "Epoch 12/20\n",
            "\u001b[1m36/36\u001b[0m \u001b[32m━━━━━━━━━━━━━━━━━━━━\u001b[0m\u001b[37m\u001b[0m \u001b[1m0s\u001b[0m 4ms/step - accuracy: 0.9649 - loss: 0.1494 - val_accuracy: 0.9610 - val_loss: 0.1370\n",
            "Epoch 13/20\n",
            "\u001b[1m36/36\u001b[0m \u001b[32m━━━━━━━━━━━━━━━━━━━━\u001b[0m\u001b[37m\u001b[0m \u001b[1m0s\u001b[0m 4ms/step - accuracy: 0.9687 - loss: 0.1399 - val_accuracy: 0.9610 - val_loss: 0.1382\n",
            "Epoch 14/20\n",
            "\u001b[1m36/36\u001b[0m \u001b[32m━━━━━━━━━━━━━━━━━━━━\u001b[0m\u001b[37m\u001b[0m \u001b[1m0s\u001b[0m 4ms/step - accuracy: 0.9661 - loss: 0.1618 - val_accuracy: 0.9610 - val_loss: 0.1392\n",
            "Epoch 15/20\n",
            "\u001b[1m36/36\u001b[0m \u001b[32m━━━━━━━━━━━━━━━━━━━━\u001b[0m\u001b[37m\u001b[0m \u001b[1m0s\u001b[0m 4ms/step - accuracy: 0.9637 - loss: 0.1846 - val_accuracy: 0.9610 - val_loss: 0.1415\n",
            "Epoch 16/20\n",
            "\u001b[1m36/36\u001b[0m \u001b[32m━━━━━━━━━━━━━━━━━━━━\u001b[0m\u001b[37m\u001b[0m \u001b[1m0s\u001b[0m 4ms/step - accuracy: 0.9613 - loss: 0.1497 - val_accuracy: 0.9610 - val_loss: 0.1426\n",
            "Epoch 17/20\n",
            "\u001b[1m36/36\u001b[0m \u001b[32m━━━━━━━━━━━━━━━━━━━━\u001b[0m\u001b[37m\u001b[0m \u001b[1m0s\u001b[0m 4ms/step - accuracy: 0.9627 - loss: 0.1726 - val_accuracy: 0.9610 - val_loss: 0.1411\n",
            "Epoch 18/20\n",
            "\u001b[1m36/36\u001b[0m \u001b[32m━━━━━━━━━━━━━━━━━━━━\u001b[0m\u001b[37m\u001b[0m \u001b[1m0s\u001b[0m 4ms/step - accuracy: 0.9644 - loss: 0.1509 - val_accuracy: 0.9610 - val_loss: 0.1420\n",
            "Epoch 19/20\n",
            "\u001b[1m36/36\u001b[0m \u001b[32m━━━━━━━━━━━━━━━━━━━━\u001b[0m\u001b[37m\u001b[0m \u001b[1m0s\u001b[0m 4ms/step - accuracy: 0.9717 - loss: 0.1438 - val_accuracy: 0.9610 - val_loss: 0.1425\n",
            "Epoch 20/20\n",
            "\u001b[1m36/36\u001b[0m \u001b[32m━━━━━━━━━━━━━━━━━━━━\u001b[0m\u001b[37m\u001b[0m \u001b[1m0s\u001b[0m 4ms/step - accuracy: 0.9741 - loss: 0.1251 - val_accuracy: 0.9610 - val_loss: 0.1435\n"
          ]
        },
        {
          "output_type": "execute_result",
          "data": {
            "text/plain": [
              "<keras.src.callbacks.history.History at 0x7e32f198e410>"
            ]
          },
          "metadata": {},
          "execution_count": 36
        }
      ],
      "source": [
        "from tensorflow.keras.models import Sequential\n",
        "from tensorflow.keras.layers import Dense, Dropout\n",
        "from tensorflow.keras.optimizers import Adam\n",
        "\n",
        "# Define meta-classifier\n",
        "meta_model = Sequential([\n",
        "    Dense(32, activation='relu', input_shape=(12,)),\n",
        "    Dropout(0.3),\n",
        "    Dense(16, activation='relu'),\n",
        "    Dropout(0.2),\n",
        "    Dense(5, activation='softmax')\n",
        "])\n",
        "\n",
        "meta_model.compile(optimizer=Adam(learning_rate=0.001), loss='categorical_crossentropy', metrics=['accuracy'])\n",
        "\n",
        "# Train it\n",
        "meta_model.fit(meta_X_train, meta_y_train,\n",
        "               validation_data=(meta_X_val, meta_y_val),\n",
        "               epochs=20,\n",
        "               batch_size=32)\n"
      ]
    },
    {
      "cell_type": "code",
      "execution_count": null,
      "metadata": {
        "colab": {
          "base_uri": "https://localhost:8080/"
        },
        "id": "txT6GM3bRpkF",
        "outputId": "cf6ddc85-d7f6-425f-dc66-0455b1a28c53"
      },
      "outputs": [
        {
          "output_type": "stream",
          "name": "stdout",
          "text": [
            "\u001b[1m9/9\u001b[0m \u001b[32m━━━━━━━━━━━━━━━━━━━━\u001b[0m\u001b[37m\u001b[0m \u001b[1m0s\u001b[0m 22ms/step\n",
            "Meta-Classifier Accuracy: 96.10%\n"
          ]
        }
      ],
      "source": [
        "# Predict on validation set\n",
        "meta_preds = meta_model.predict(meta_X_val)\n",
        "meta_labels = np.argmax(meta_preds, axis=1)\n",
        "true_meta_labels = np.argmax(meta_y_val, axis=1)\n",
        "\n",
        "# Accuracy\n",
        "from sklearn.metrics import accuracy_score\n",
        "acc = accuracy_score(true_meta_labels, meta_labels)\n",
        "print(f\"Meta-Classifier Accuracy: {acc * 100:.2f}%\")\n"
      ]
    },
    {
      "cell_type": "code",
      "execution_count": null,
      "metadata": {
        "colab": {
          "base_uri": "https://localhost:8080/",
          "height": 472
        },
        "id": "VxXTrMu7Rt5m",
        "outputId": "1c29c7f5-6db1-4714-d996-0f8a86e3fb24"
      },
      "outputs": [
        {
          "output_type": "display_data",
          "data": {
            "text/plain": [
              "<Figure size 640x480 with 2 Axes>"
            ],
            "image/png": "[encoded data removed]"
          },
          "metadata": {}
        }
      ],
      "source": [
        "from sklearn.metrics import confusion_matrix, ConfusionMatrixDisplay\n",
        "\n",
        "# Confusion matrix\n",
        "cm = confusion_matrix(true_meta_labels, meta_labels)\n",
        "present_classes = sorted(np.unique(np.concatenate([true_meta_labels, meta_labels])))\n",
        "class_names = ['Angry', 'Disgust', 'Fear', 'Happy', 'Sad']\n",
        "present_labels = [class_names[i] for i in present_classes]\n",
        "\n",
        "disp = ConfusionMatrixDisplay(confusion_matrix=cm, display_labels=present_labels)\n",
        "disp.plot(cmap='Blues')\n",
        "plt.title(\"Meta-Classifier Confusion Matrix\")\n",
        "plt.show()\n"
      ]
    },
    {
      "cell_type": "code",
      "execution_count": null,
      "metadata": {
        "id": "zVgxx-6URv95"
      },
      "outputs": [],
      "source": [
        "meta_model.save(\"/content/drive/MyDrive/meta_classifier_model.keras\")\n"
      ]
    },
    {
      "cell_type": "markdown",
      "source": [
        "### Downloading and Exploring FERPlus Dataset Structure\n",
        "\n",
        "This section handles the download and inspection of the **FERPlus dataset**, an improved version of FER-2013 with refined labels.\n",
        "\n",
        "#### Dataset Download\n",
        "\n",
        "* `kagglehub` is used to fetch the **FERPlus dataset** from the Kaggle repository `subhaditya/fer2013plus`.\n",
        "* The download path is stored in the variable `path`.\n",
        "\n",
        "#### Directory Navigation\n",
        "\n",
        "* The top-level download directory is explored using `os.listdir()` to inspect its structure.\n",
        "* Subsequent `os.path.join()` calls are used to drill down through the following nested folders:\n",
        "\n",
        "  1. `fer2013plus/` – dataset container\n",
        "  2. `fer2013/` – main data directory\n",
        "  3. `train/` – contains subfolders for each emotion class\n",
        "\n",
        "Each level’s contents are printed for verification, ensuring the dataset has been successfully downloaded and correctly structured for further processing."
      ],
      "metadata": {
        "id": "LQT-C1-q8RDj"
      }
    },
    {
      "cell_type": "code",
      "execution_count": null,
      "metadata": {
        "colab": {
          "base_uri": "https://localhost:8080/"
        },
        "id": "fCcuOA4fSU0x",
        "outputId": "d8756e63-9c5b-4696-e1f9-4024d0b48e70"
      },
      "outputs": [
        {
          "output_type": "stream",
          "name": "stdout",
          "text": [
            "Downloading from https://www.kaggle.com/api/v1/datasets/download/subhaditya/fer2013plus?dataset_version_number=1...\n"
          ]
        },
        {
          "output_type": "stream",
          "name": "stderr",
          "text": [
            "100%|██████████| 132M/132M [00:03<00:00, 36.6MB/s]"
          ]
        },
        {
          "output_type": "stream",
          "name": "stdout",
          "text": [
            "Extracting files...\n"
          ]
        },
        {
          "output_type": "stream",
          "name": "stderr",
          "text": [
            "\n"
          ]
        },
        {
          "output_type": "stream",
          "name": "stdout",
          "text": [
            "Path to dataset files: /root/.cache/kagglehub/datasets/subhaditya/fer2013plus/versions/1\n"
          ]
        }
      ],
      "source": [
        "import kagglehub\n",
        "\n",
        "# Download latest version\n",
        "path = kagglehub.dataset_download(\"subhaditya/fer2013plus\")\n",
        "\n",
        "print(\"Path to dataset files:\", path)"
      ]
    },
    {
      "cell_type": "code",
      "execution_count": null,
      "metadata": {
        "colab": {
          "base_uri": "https://localhost:8080/"
        },
        "id": "ww_pztweSbRB",
        "outputId": "4b6a5a31-c265-4586-cfc8-bfe6285b6348"
      },
      "outputs": [
        {
          "output_type": "stream",
          "name": "stdout",
          "text": [
            "Top-level contents: ['ferplus_port.py', 'fer2013plus']\n"
          ]
        }
      ],
      "source": [
        "ferplus_path = \"/root/.cache/kagglehub/datasets/subhaditya/fer2013plus/versions/1\"\n",
        "print(\"Top-level contents:\", os.listdir(ferplus_path))\n"
      ]
    },
    {
      "cell_type": "code",
      "execution_count": null,
      "metadata": {
        "colab": {
          "base_uri": "https://localhost:8080/"
        },
        "id": "fn8pslrWSeX1",
        "outputId": "f40a4854-be63-4df3-dba8-b2d90169cffa"
      },
      "outputs": [
        {
          "output_type": "stream",
          "name": "stdout",
          "text": [
            "Contents of fer2013plus: ['fer2013']\n"
          ]
        }
      ],
      "source": [
        "ferplus_data_path = os.path.join(ferplus_path, \"fer2013plus\")\n",
        "print(\"Contents of fer2013plus:\", os.listdir(ferplus_data_path))\n"
      ]
    },
    {
      "cell_type": "code",
      "execution_count": null,
      "metadata": {
        "colab": {
          "base_uri": "https://localhost:8080/"
        },
        "id": "LL9S1XyfShKG",
        "outputId": "b0927b62-31b7-44d7-f836-275e1161ff04"
      },
      "outputs": [
        {
          "output_type": "stream",
          "name": "stdout",
          "text": [
            "Contents of fer2013: ['train', 'test']\n"
          ]
        }
      ],
      "source": [
        "ferplus_final_path = os.path.join(ferplus_data_path, \"fer2013\")\n",
        "print(\"Contents of fer2013:\", os.listdir(ferplus_final_path))\n"
      ]
    },
    {
      "cell_type": "code",
      "execution_count": null,
      "metadata": {
        "colab": {
          "base_uri": "https://localhost:8080/"
        },
        "id": "DEHRcYsvSlIM",
        "outputId": "8e2d3f14-27aa-4399-90e9-e989bbf78ae2"
      },
      "outputs": [
        {
          "output_type": "stream",
          "name": "stdout",
          "text": [
            "Train subfolders (emotion labels): ['sadness', 'surprise', 'fear', 'neutral', 'anger', 'disgust', 'happiness', 'contempt']\n"
          ]
        }
      ],
      "source": [
        "train_path = os.path.join(ferplus_final_path, \"train\")\n",
        "print(\"Train subfolders (emotion labels):\", os.listdir(train_path))\n"
      ]
    },
    {
      "cell_type": "markdown",
      "source": [
        "### Preprocessing FERPlus Images and Training a CNN Classifier\n",
        "\n",
        "This section prepares the **FERPlus dataset** for model training and builds a CNN for multi-class emotion classification.\n",
        "\n",
        "#### Image Loading & Preprocessing\n",
        "\n",
        "* Each grayscale image in the `train/` folder is loaded using `PIL`, resized to 48×48 pixels, normalized to `[0, 1]`, and added to `image_data`.\n",
        "* Labels are extracted from folder names and encoded numerically via a `label_map`.\n",
        "* Data is reshaped to match Keras' expected format: `(samples, height, width, channels)`.\n",
        "\n",
        "#### One-Hot Encoding Labels\n",
        "\n",
        "* Labels are converted into one-hot vectors using `to_categorical`, transforming integer class labels into binary format suitable for softmax classification.\n",
        "\n",
        "#### CNN Model Definition and Training\n",
        "\n",
        "* A **Sequential CNN** is defined to classify 8 emotion classes in FERPlus.\n",
        "* The architecture includes:\n",
        "\n",
        "  * Three convolutional blocks (Conv2D → BatchNorm → LeakyReLU → MaxPooling → Dropout)\n",
        "  * A fully connected layer (Dense + Dropout) followed by an output softmax layer\n",
        "* **LeakyReLU** is used as the activation function to address potential dead neuron issues.\n",
        "* The model is compiled with the **Adam optimizer** and trained for 100 epochs with a batch size of 64.\n",
        "* Validation data is used to monitor generalization performance.\n",
        "\n",
        "This model will later serve as another candidate for fusion-based emotion classification alongside the FER and RAF models."
      ],
      "metadata": {
        "id": "kRatktqr8laQ"
      }
    },
    {
      "cell_type": "code",
      "execution_count": null,
      "metadata": {
        "colab": {
          "base_uri": "https://localhost:8080/"
        },
        "id": "4zBMogFmSox7",
        "outputId": "73fbd500-31ec-4f9f-d41f-11938d358716"
      },
      "outputs": [
        {
          "output_type": "stream",
          "name": "stdout",
          "text": [
            "FER+ loaded: (28386, 48, 48, 1)\n"
          ]
        }
      ],
      "source": [
        "import numpy as np\n",
        "from PIL import Image\n",
        "import os\n",
        "\n",
        "ferplus_train_path = os.path.join(ferplus_final_path, \"train\")\n",
        "image_data = []\n",
        "image_labels = []\n",
        "\n",
        "label_map = {label: idx for idx, label in enumerate(sorted(os.listdir(ferplus_train_path)))}\n",
        "\n",
        "for label in os.listdir(ferplus_train_path):\n",
        "    label_dir = os.path.join(ferplus_train_path, label)\n",
        "    for file in os.listdir(label_dir):\n",
        "        try:\n",
        "            img = Image.open(os.path.join(label_dir, file)).convert('L').resize((48, 48))\n",
        "            image_data.append(np.array(img) / 255.0)\n",
        "            image_labels.append(label_map[label])\n",
        "        except:\n",
        "            continue\n",
        "\n",
        "X_ferplus = np.array(image_data).reshape(-1, 48, 48, 1)\n",
        "y_ferplus = np.array(image_labels)\n",
        "\n",
        "print(\"FER+ loaded:\", X_ferplus.shape)\n"
      ]
    },
    {
      "cell_type": "code",
      "execution_count": null,
      "metadata": {
        "colab": {
          "base_uri": "https://localhost:8080/"
        },
        "id": "1OCxDAxGSu6S",
        "outputId": "c2c0ae6f-f251-47de-c90d-9764d0d5cce7"
      },
      "outputs": [
        {
          "output_type": "stream",
          "name": "stdout",
          "text": [
            "One-hot shape: (28386, 8)\n"
          ]
        }
      ],
      "source": [
        "from tensorflow.keras.utils import to_categorical\n",
        "\n",
        "y_ferplus_encoded = to_categorical(y_ferplus)\n",
        "print(\"One-hot shape:\", y_ferplus_encoded.shape)\n"
      ]
    },
    {
      "cell_type": "code",
      "execution_count": null,
      "metadata": {
        "colab": {
          "base_uri": "https://localhost:8080/"
        },
        "id": "EEfRIhhJSzox",
        "outputId": "9b97d001-829c-4b37-9032-0cdde0e3813b"
      },
      "outputs": [
        {
          "output_type": "stream",
          "name": "stderr",
          "text": [
            "/usr/local/lib/python3.11/dist-packages/keras/src/layers/convolutional/base_conv.py:107: UserWarning: Do not pass an `input_shape`/`input_dim` argument to a layer. When using Sequential models, prefer using an `Input(shape)` object as the first layer in the model instead.\n",
            "  super().__init__(activity_regularizer=activity_regularizer, **kwargs)\n"
          ]
        },
        {
          "output_type": "stream",
          "name": "stdout",
          "text": [
            "Epoch 1/100\n",
            "\u001b[1m355/355\u001b[0m \u001b[32m━━━━━━━━━━━━━━━━━━━━\u001b[0m\u001b[37m\u001b[0m \u001b[1m19s\u001b[0m 35ms/step - accuracy: 0.3025 - loss: 6.4266 - val_accuracy: 0.2710 - val_loss: 2.5246\n",
            "Epoch 2/100\n",
            "\u001b[1m355/355\u001b[0m \u001b[32m━━━━━━━━━━━━━━━━━━━━\u001b[0m\u001b[37m\u001b[0m \u001b[1m6s\u001b[0m 17ms/step - accuracy: 0.4044 - loss: 1.7982 - val_accuracy: 0.5372 - val_loss: 1.3353\n",
            "Epoch 3/100\n",
            "\u001b[1m355/355\u001b[0m \u001b[32m━━━━━━━━━━━━━━━━━━━━\u001b[0m\u001b[37m\u001b[0m \u001b[1m6s\u001b[0m 17ms/step - accuracy: 0.5074 - loss: 1.4140 - val_accuracy: 0.5398 - val_loss: 1.2993\n",
            "Epoch 4/100\n",
            "\u001b[1m355/355\u001b[0m \u001b[32m━━━━━━━━━━━━━━━━━━━━\u001b[0m\u001b[37m\u001b[0m \u001b[1m6s\u001b[0m 17ms/step - accuracy: 0.5701 - loss: 1.2194 - val_accuracy: 0.6289 - val_loss: 1.0456\n",
            "Epoch 5/100\n",
            "\u001b[1m355/355\u001b[0m \u001b[32m━━━━━━━━━━━━━━━━━━━━\u001b[0m\u001b[37m\u001b[0m \u001b[1m6s\u001b[0m 16ms/step - accuracy: 0.6166 - loss: 1.0854 - val_accuracy: 0.6316 - val_loss: 1.0388\n",
            "Epoch 6/100\n",
            "\u001b[1m355/355\u001b[0m \u001b[32m━━━━━━━━━━━━━━━━━━━━\u001b[0m\u001b[37m\u001b[0m \u001b[1m6s\u001b[0m 16ms/step - accuracy: 0.6467 - loss: 0.9841 - val_accuracy: 0.6881 - val_loss: 0.8854\n",
            "Epoch 7/100\n",
            "\u001b[1m355/355\u001b[0m \u001b[32m━━━━━━━━━━━━━━━━━━━━\u001b[0m\u001b[37m\u001b[0m \u001b[1m6s\u001b[0m 16ms/step - accuracy: 0.6716 - loss: 0.9159 - val_accuracy: 0.6943 - val_loss: 0.8534\n",
            "Epoch 8/100\n",
            "\u001b[1m355/355\u001b[0m \u001b[32m━━━━━━━━━━━━━━━━━━━━\u001b[0m\u001b[37m\u001b[0m \u001b[1m6s\u001b[0m 16ms/step - accuracy: 0.6890 - loss: 0.8643 - val_accuracy: 0.6934 - val_loss: 0.8848\n",
            "Epoch 9/100\n",
            "\u001b[1m355/355\u001b[0m \u001b[32m━━━━━━━━━━━━━━━━━━━━\u001b[0m\u001b[37m\u001b[0m \u001b[1m6s\u001b[0m 16ms/step - accuracy: 0.7200 - loss: 0.7861 - val_accuracy: 0.6914 - val_loss: 0.8784\n",
            "Epoch 10/100\n",
            "\u001b[1m355/355\u001b[0m \u001b[32m━━━━━━━━━━━━━━━━━━━━\u001b[0m\u001b[37m\u001b[0m \u001b[1m6s\u001b[0m 16ms/step - accuracy: 0.7326 - loss: 0.7418 - val_accuracy: 0.6925 - val_loss: 0.8840\n",
            "Epoch 11/100\n",
            "\u001b[1m355/355\u001b[0m \u001b[32m━━━━━━━━━━━━━━━━━━━━\u001b[0m\u001b[37m\u001b[0m \u001b[1m6s\u001b[0m 16ms/step - accuracy: 0.7515 - loss: 0.6885 - val_accuracy: 0.7261 - val_loss: 0.7933\n",
            "Epoch 12/100\n",
            "\u001b[1m355/355\u001b[0m \u001b[32m━━━━━━━━━━━━━━━━━━━━\u001b[0m\u001b[37m\u001b[0m \u001b[1m6s\u001b[0m 16ms/step - accuracy: 0.7707 - loss: 0.6409 - val_accuracy: 0.7179 - val_loss: 0.8267\n",
            "Epoch 13/100\n",
            "\u001b[1m355/355\u001b[0m \u001b[32m━━━━━━━━━━━━━━━━━━━━\u001b[0m\u001b[37m\u001b[0m \u001b[1m6s\u001b[0m 16ms/step - accuracy: 0.7791 - loss: 0.6133 - val_accuracy: 0.7231 - val_loss: 0.8051\n",
            "Epoch 14/100\n",
            "\u001b[1m355/355\u001b[0m \u001b[32m━━━━━━━━━━━━━━━━━━━━\u001b[0m\u001b[37m\u001b[0m \u001b[1m6s\u001b[0m 16ms/step - accuracy: 0.7941 - loss: 0.5596 - val_accuracy: 0.7330 - val_loss: 0.7873\n",
            "Epoch 15/100\n",
            "\u001b[1m355/355\u001b[0m \u001b[32m━━━━━━━━━━━━━━━━━━━━\u001b[0m\u001b[37m\u001b[0m \u001b[1m6s\u001b[0m 16ms/step - accuracy: 0.8023 - loss: 0.5295 - val_accuracy: 0.7423 - val_loss: 0.8041\n",
            "Epoch 16/100\n",
            "\u001b[1m355/355\u001b[0m \u001b[32m━━━━━━━━━━━━━━━━━━━━\u001b[0m\u001b[37m\u001b[0m \u001b[1m6s\u001b[0m 16ms/step - accuracy: 0.8235 - loss: 0.4913 - val_accuracy: 0.7180 - val_loss: 0.9009\n",
            "Epoch 17/100\n",
            "\u001b[1m355/355\u001b[0m \u001b[32m━━━━━━━━━━━━━━━━━━━━\u001b[0m\u001b[37m\u001b[0m \u001b[1m6s\u001b[0m 16ms/step - accuracy: 0.8275 - loss: 0.4693 - val_accuracy: 0.7390 - val_loss: 0.8143\n",
            "Epoch 18/100\n",
            "\u001b[1m355/355\u001b[0m \u001b[32m━━━━━━━━━━━━━━━━━━━━\u001b[0m\u001b[37m\u001b[0m \u001b[1m6s\u001b[0m 16ms/step - accuracy: 0.8456 - loss: 0.4206 - val_accuracy: 0.7349 - val_loss: 0.9024\n",
            "Epoch 19/100\n",
            "\u001b[1m355/355\u001b[0m \u001b[32m━━━━━━━━━━━━━━━━━━━━\u001b[0m\u001b[37m\u001b[0m \u001b[1m6s\u001b[0m 16ms/step - accuracy: 0.8527 - loss: 0.4087 - val_accuracy: 0.7379 - val_loss: 0.8628\n",
            "Epoch 20/100\n",
            "\u001b[1m355/355\u001b[0m \u001b[32m━━━━━━━━━━━━━━━━━━━━\u001b[0m\u001b[37m\u001b[0m \u001b[1m6s\u001b[0m 16ms/step - accuracy: 0.8642 - loss: 0.3775 - val_accuracy: 0.6983 - val_loss: 1.1300\n",
            "Epoch 21/100\n",
            "\u001b[1m355/355\u001b[0m \u001b[32m━━━━━━━━━━━━━━━━━━━━\u001b[0m\u001b[37m\u001b[0m \u001b[1m6s\u001b[0m 16ms/step - accuracy: 0.8662 - loss: 0.3672 - val_accuracy: 0.7205 - val_loss: 1.0515\n",
            "Epoch 22/100\n",
            "\u001b[1m355/355\u001b[0m \u001b[32m━━━━━━━━━━━━━━━━━━━━\u001b[0m\u001b[37m\u001b[0m \u001b[1m6s\u001b[0m 16ms/step - accuracy: 0.8768 - loss: 0.3361 - val_accuracy: 0.7369 - val_loss: 0.9229\n",
            "Epoch 23/100\n",
            "\u001b[1m355/355\u001b[0m \u001b[32m━━━━━━━━━━━━━━━━━━━━\u001b[0m\u001b[37m\u001b[0m \u001b[1m6s\u001b[0m 16ms/step - accuracy: 0.8849 - loss: 0.3235 - val_accuracy: 0.7390 - val_loss: 0.9540\n",
            "Epoch 24/100\n",
            "\u001b[1m355/355\u001b[0m \u001b[32m━━━━━━━━━━━━━━━━━━━━\u001b[0m\u001b[37m\u001b[0m \u001b[1m6s\u001b[0m 16ms/step - accuracy: 0.8855 - loss: 0.3136 - val_accuracy: 0.7496 - val_loss: 0.9824\n",
            "Epoch 25/100\n",
            "\u001b[1m355/355\u001b[0m \u001b[32m━━━━━━━━━━━━━━━━━━━━\u001b[0m\u001b[37m\u001b[0m \u001b[1m6s\u001b[0m 16ms/step - accuracy: 0.8904 - loss: 0.3151 - val_accuracy: 0.7267 - val_loss: 0.9600\n",
            "Epoch 26/100\n",
            "\u001b[1m355/355\u001b[0m \u001b[32m━━━━━━━━━━━━━━━━━━━━\u001b[0m\u001b[37m\u001b[0m \u001b[1m6s\u001b[0m 16ms/step - accuracy: 0.8963 - loss: 0.2852 - val_accuracy: 0.7429 - val_loss: 1.1045\n",
            "Epoch 27/100\n",
            "\u001b[1m355/355\u001b[0m \u001b[32m━━━━━━━━━━━━━━━━━━━━\u001b[0m\u001b[37m\u001b[0m \u001b[1m6s\u001b[0m 16ms/step - accuracy: 0.8970 - loss: 0.2994 - val_accuracy: 0.7235 - val_loss: 1.2546\n",
            "Epoch 28/100\n",
            "\u001b[1m355/355\u001b[0m \u001b[32m━━━━━━━━━━━━━━━━━━━━\u001b[0m\u001b[37m\u001b[0m \u001b[1m6s\u001b[0m 16ms/step - accuracy: 0.9023 - loss: 0.2747 - val_accuracy: 0.7489 - val_loss: 1.0298\n",
            "Epoch 29/100\n",
            "\u001b[1m355/355\u001b[0m \u001b[32m━━━━━━━━━━━━━━━━━━━━\u001b[0m\u001b[37m\u001b[0m \u001b[1m6s\u001b[0m 16ms/step - accuracy: 0.9038 - loss: 0.2749 - val_accuracy: 0.7371 - val_loss: 1.1335\n",
            "Epoch 30/100\n",
            "\u001b[1m355/355\u001b[0m \u001b[32m━━━━━━━━━━━━━━━━━━━━\u001b[0m\u001b[37m\u001b[0m \u001b[1m6s\u001b[0m 16ms/step - accuracy: 0.9087 - loss: 0.2485 - val_accuracy: 0.7483 - val_loss: 1.0701\n",
            "Epoch 31/100\n",
            "\u001b[1m355/355\u001b[0m \u001b[32m━━━━━━━━━━━━━━━━━━━━\u001b[0m\u001b[37m\u001b[0m \u001b[1m6s\u001b[0m 16ms/step - accuracy: 0.9096 - loss: 0.2579 - val_accuracy: 0.7439 - val_loss: 1.0214\n",
            "Epoch 32/100\n",
            "\u001b[1m355/355\u001b[0m \u001b[32m━━━━━━━━━━━━━━━━━━━━\u001b[0m\u001b[37m\u001b[0m \u001b[1m6s\u001b[0m 16ms/step - accuracy: 0.9173 - loss: 0.2369 - val_accuracy: 0.7282 - val_loss: 1.2705\n",
            "Epoch 33/100\n",
            "\u001b[1m355/355\u001b[0m \u001b[32m━━━━━━━━━━━━━━━━━━━━\u001b[0m\u001b[37m\u001b[0m \u001b[1m6s\u001b[0m 16ms/step - accuracy: 0.9183 - loss: 0.2367 - val_accuracy: 0.7452 - val_loss: 1.1339\n",
            "Epoch 34/100\n",
            "\u001b[1m355/355\u001b[0m \u001b[32m━━━━━━━━━━━━━━━━━━━━\u001b[0m\u001b[37m\u001b[0m \u001b[1m6s\u001b[0m 16ms/step - accuracy: 0.9185 - loss: 0.2320 - val_accuracy: 0.7325 - val_loss: 1.1431\n",
            "Epoch 35/100\n",
            "\u001b[1m355/355\u001b[0m \u001b[32m━━━━━━━━━━━━━━━━━━━━\u001b[0m\u001b[37m\u001b[0m \u001b[1m6s\u001b[0m 16ms/step - accuracy: 0.9165 - loss: 0.2381 - val_accuracy: 0.7480 - val_loss: 1.1458\n",
            "Epoch 36/100\n",
            "\u001b[1m355/355\u001b[0m \u001b[32m━━━━━━━━━━━━━━━━━━━━\u001b[0m\u001b[37m\u001b[0m \u001b[1m6s\u001b[0m 16ms/step - accuracy: 0.9274 - loss: 0.2115 - val_accuracy: 0.7319 - val_loss: 1.3300\n",
            "Epoch 37/100\n",
            "\u001b[1m355/355\u001b[0m \u001b[32m━━━━━━━━━━━━━━━━━━━━\u001b[0m\u001b[37m\u001b[0m \u001b[1m6s\u001b[0m 16ms/step - accuracy: 0.9263 - loss: 0.2048 - val_accuracy: 0.7341 - val_loss: 1.3759\n",
            "Epoch 38/100\n",
            "\u001b[1m355/355\u001b[0m \u001b[32m━━━━━━━━━━━━━━━━━━━━\u001b[0m\u001b[37m\u001b[0m \u001b[1m6s\u001b[0m 16ms/step - accuracy: 0.9324 - loss: 0.1922 - val_accuracy: 0.7489 - val_loss: 1.2045\n",
            "Epoch 39/100\n",
            "\u001b[1m355/355\u001b[0m \u001b[32m━━━━━━━━━━━━━━━━━━━━\u001b[0m\u001b[37m\u001b[0m \u001b[1m6s\u001b[0m 16ms/step - accuracy: 0.9285 - loss: 0.2145 - val_accuracy: 0.7385 - val_loss: 1.3229\n",
            "Epoch 40/100\n",
            "\u001b[1m355/355\u001b[0m \u001b[32m━━━━━━━━━━━━━━━━━━━━\u001b[0m\u001b[37m\u001b[0m \u001b[1m6s\u001b[0m 16ms/step - accuracy: 0.9284 - loss: 0.2101 - val_accuracy: 0.7473 - val_loss: 1.1341\n",
            "Epoch 41/100\n",
            "\u001b[1m355/355\u001b[0m \u001b[32m━━━━━━━━━━━━━━━━━━━━\u001b[0m\u001b[37m\u001b[0m \u001b[1m6s\u001b[0m 16ms/step - accuracy: 0.9341 - loss: 0.1891 - val_accuracy: 0.7457 - val_loss: 1.1930\n",
            "Epoch 42/100\n",
            "\u001b[1m355/355\u001b[0m \u001b[32m━━━━━━━━━━━━━━━━━━━━\u001b[0m\u001b[37m\u001b[0m \u001b[1m6s\u001b[0m 16ms/step - accuracy: 0.9363 - loss: 0.1826 - val_accuracy: 0.7415 - val_loss: 1.2834\n",
            "Epoch 43/100\n",
            "\u001b[1m355/355\u001b[0m \u001b[32m━━━━━━━━━━━━━━━━━━━━\u001b[0m\u001b[37m\u001b[0m \u001b[1m6s\u001b[0m 16ms/step - accuracy: 0.9338 - loss: 0.1921 - val_accuracy: 0.7399 - val_loss: 1.2281\n",
            "Epoch 44/100\n",
            "\u001b[1m355/355\u001b[0m \u001b[32m━━━━━━━━━━━━━━━━━━━━\u001b[0m\u001b[37m\u001b[0m \u001b[1m6s\u001b[0m 16ms/step - accuracy: 0.9376 - loss: 0.1876 - val_accuracy: 0.7411 - val_loss: 1.2740\n",
            "Epoch 45/100\n",
            "\u001b[1m355/355\u001b[0m \u001b[32m━━━━━━━━━━━━━━━━━━━━\u001b[0m\u001b[37m\u001b[0m \u001b[1m6s\u001b[0m 16ms/step - accuracy: 0.9341 - loss: 0.1887 - val_accuracy: 0.7489 - val_loss: 1.3380\n",
            "Epoch 46/100\n",
            "\u001b[1m355/355\u001b[0m \u001b[32m━━━━━━━━━━━━━━━━━━━━\u001b[0m\u001b[37m\u001b[0m \u001b[1m6s\u001b[0m 16ms/step - accuracy: 0.9427 - loss: 0.1691 - val_accuracy: 0.7429 - val_loss: 1.3430\n",
            "Epoch 47/100\n",
            "\u001b[1m355/355\u001b[0m \u001b[32m━━━━━━━━━━━━━━━━━━━━\u001b[0m\u001b[37m\u001b[0m \u001b[1m6s\u001b[0m 16ms/step - accuracy: 0.9369 - loss: 0.1823 - val_accuracy: 0.7416 - val_loss: 1.3485\n",
            "Epoch 48/100\n",
            "\u001b[1m355/355\u001b[0m \u001b[32m━━━━━━━━━━━━━━━━━━━━\u001b[0m\u001b[37m\u001b[0m \u001b[1m6s\u001b[0m 16ms/step - accuracy: 0.9366 - loss: 0.1826 - val_accuracy: 0.7436 - val_loss: 1.2697\n",
            "Epoch 49/100\n",
            "\u001b[1m355/355\u001b[0m \u001b[32m━━━━━━━━━━━━━━━━━━━━\u001b[0m\u001b[37m\u001b[0m \u001b[1m6s\u001b[0m 16ms/step - accuracy: 0.9417 - loss: 0.1661 - val_accuracy: 0.7448 - val_loss: 1.4528\n",
            "Epoch 50/100\n",
            "\u001b[1m355/355\u001b[0m \u001b[32m━━━━━━━━━━━━━━━━━━━━\u001b[0m\u001b[37m\u001b[0m \u001b[1m6s\u001b[0m 16ms/step - accuracy: 0.9411 - loss: 0.1754 - val_accuracy: 0.7445 - val_loss: 1.3612\n",
            "Epoch 51/100\n",
            "\u001b[1m355/355\u001b[0m \u001b[32m━━━━━━━━━━━━━━━━━━━━\u001b[0m\u001b[37m\u001b[0m \u001b[1m6s\u001b[0m 16ms/step - accuracy: 0.9409 - loss: 0.1774 - val_accuracy: 0.7448 - val_loss: 1.3344\n",
            "Epoch 52/100\n",
            "\u001b[1m355/355\u001b[0m \u001b[32m━━━━━━━━━━━━━━━━━━━━\u001b[0m\u001b[37m\u001b[0m \u001b[1m6s\u001b[0m 16ms/step - accuracy: 0.9434 - loss: 0.1704 - val_accuracy: 0.7492 - val_loss: 1.3587\n",
            "Epoch 53/100\n",
            "\u001b[1m355/355\u001b[0m \u001b[32m━━━━━━━━━━━━━━━━━━━━\u001b[0m\u001b[37m\u001b[0m \u001b[1m6s\u001b[0m 16ms/step - accuracy: 0.9472 - loss: 0.1611 - val_accuracy: 0.7374 - val_loss: 1.4314\n",
            "Epoch 54/100\n",
            "\u001b[1m355/355\u001b[0m \u001b[32m━━━━━━━━━━━━━━━━━━━━\u001b[0m\u001b[37m\u001b[0m \u001b[1m6s\u001b[0m 16ms/step - accuracy: 0.9476 - loss: 0.1529 - val_accuracy: 0.7413 - val_loss: 1.4954\n",
            "Epoch 55/100\n",
            "\u001b[1m355/355\u001b[0m \u001b[32m━━━━━━━━━━━━━━━━━━━━\u001b[0m\u001b[37m\u001b[0m \u001b[1m6s\u001b[0m 16ms/step - accuracy: 0.9461 - loss: 0.1620 - val_accuracy: 0.7319 - val_loss: 1.7064\n",
            "Epoch 56/100\n",
            "\u001b[1m355/355\u001b[0m \u001b[32m━━━━━━━━━━━━━━━━━━━━\u001b[0m\u001b[37m\u001b[0m \u001b[1m6s\u001b[0m 16ms/step - accuracy: 0.9424 - loss: 0.1634 - val_accuracy: 0.7457 - val_loss: 1.3500\n",
            "Epoch 57/100\n",
            "\u001b[1m355/355\u001b[0m \u001b[32m━━━━━━━━━━━━━━━━━━━━\u001b[0m\u001b[37m\u001b[0m \u001b[1m6s\u001b[0m 16ms/step - accuracy: 0.9449 - loss: 0.1704 - val_accuracy: 0.7464 - val_loss: 1.4110\n",
            "Epoch 58/100\n",
            "\u001b[1m355/355\u001b[0m \u001b[32m━━━━━━━━━━━━━━━━━━━━\u001b[0m\u001b[37m\u001b[0m \u001b[1m6s\u001b[0m 16ms/step - accuracy: 0.9467 - loss: 0.1571 - val_accuracy: 0.7471 - val_loss: 1.4684\n",
            "Epoch 59/100\n",
            "\u001b[1m355/355\u001b[0m \u001b[32m━━━━━━━━━━━━━━━━━━━━\u001b[0m\u001b[37m\u001b[0m \u001b[1m6s\u001b[0m 16ms/step - accuracy: 0.9513 - loss: 0.1483 - val_accuracy: 0.7367 - val_loss: 1.5631\n",
            "Epoch 60/100\n",
            "\u001b[1m355/355\u001b[0m \u001b[32m━━━━━━━━━━━━━━━━━━━━\u001b[0m\u001b[37m\u001b[0m \u001b[1m6s\u001b[0m 16ms/step - accuracy: 0.9492 - loss: 0.1560 - val_accuracy: 0.7459 - val_loss: 1.3883\n",
            "Epoch 61/100\n",
            "\u001b[1m355/355\u001b[0m \u001b[32m━━━━━━━━━━━━━━━━━━━━\u001b[0m\u001b[37m\u001b[0m \u001b[1m6s\u001b[0m 16ms/step - accuracy: 0.9470 - loss: 0.1561 - val_accuracy: 0.7457 - val_loss: 1.4097\n",
            "Epoch 62/100\n",
            "\u001b[1m355/355\u001b[0m \u001b[32m━━━━━━━━━━━━━━━━━━━━\u001b[0m\u001b[37m\u001b[0m \u001b[1m6s\u001b[0m 16ms/step - accuracy: 0.9494 - loss: 0.1475 - val_accuracy: 0.7436 - val_loss: 1.5277\n",
            "Epoch 63/100\n",
            "\u001b[1m355/355\u001b[0m \u001b[32m━━━━━━━━━━━━━━━━━━━━\u001b[0m\u001b[37m\u001b[0m \u001b[1m6s\u001b[0m 16ms/step - accuracy: 0.9547 - loss: 0.1401 - val_accuracy: 0.7439 - val_loss: 1.5523\n",
            "Epoch 64/100\n",
            "\u001b[1m355/355\u001b[0m \u001b[32m━━━━━━━━━━━━━━━━━━━━\u001b[0m\u001b[37m\u001b[0m \u001b[1m6s\u001b[0m 16ms/step - accuracy: 0.9511 - loss: 0.1534 - val_accuracy: 0.7457 - val_loss: 1.3890\n",
            "Epoch 65/100\n",
            "\u001b[1m355/355\u001b[0m \u001b[32m━━━━━━━━━━━━━━━━━━━━\u001b[0m\u001b[37m\u001b[0m \u001b[1m6s\u001b[0m 16ms/step - accuracy: 0.9528 - loss: 0.1433 - val_accuracy: 0.7425 - val_loss: 1.3981\n",
            "Epoch 66/100\n",
            "\u001b[1m355/355\u001b[0m \u001b[32m━━━━━━━━━━━━━━━━━━━━\u001b[0m\u001b[37m\u001b[0m \u001b[1m6s\u001b[0m 16ms/step - accuracy: 0.9536 - loss: 0.1356 - val_accuracy: 0.7490 - val_loss: 1.5170\n",
            "Epoch 67/100\n",
            "\u001b[1m355/355\u001b[0m \u001b[32m━━━━━━━━━━━━━━━━━━━━\u001b[0m\u001b[37m\u001b[0m \u001b[1m6s\u001b[0m 16ms/step - accuracy: 0.9560 - loss: 0.1309 - val_accuracy: 0.7485 - val_loss: 1.4406\n",
            "Epoch 68/100\n",
            "\u001b[1m355/355\u001b[0m \u001b[32m━━━━━━━━━━━━━━━━━━━━\u001b[0m\u001b[37m\u001b[0m \u001b[1m6s\u001b[0m 16ms/step - accuracy: 0.9542 - loss: 0.1358 - val_accuracy: 0.7533 - val_loss: 1.4639\n",
            "Epoch 69/100\n",
            "\u001b[1m355/355\u001b[0m \u001b[32m━━━━━━━━━━━━━━━━━━━━\u001b[0m\u001b[37m\u001b[0m \u001b[1m6s\u001b[0m 16ms/step - accuracy: 0.9535 - loss: 0.1376 - val_accuracy: 0.7390 - val_loss: 1.4433\n",
            "Epoch 70/100\n",
            "\u001b[1m355/355\u001b[0m \u001b[32m━━━━━━━━━━━━━━━━━━━━\u001b[0m\u001b[37m\u001b[0m \u001b[1m6s\u001b[0m 16ms/step - accuracy: 0.9539 - loss: 0.1405 - val_accuracy: 0.7415 - val_loss: 1.6456\n",
            "Epoch 71/100\n",
            "\u001b[1m355/355\u001b[0m \u001b[32m━━━━━━━━━━━━━━━━━━━━\u001b[0m\u001b[37m\u001b[0m \u001b[1m6s\u001b[0m 16ms/step - accuracy: 0.9536 - loss: 0.1459 - val_accuracy: 0.7478 - val_loss: 1.4101\n",
            "Epoch 72/100\n",
            "\u001b[1m355/355\u001b[0m \u001b[32m━━━━━━━━━━━━━━━━━━━━\u001b[0m\u001b[37m\u001b[0m \u001b[1m6s\u001b[0m 16ms/step - accuracy: 0.9569 - loss: 0.1281 - val_accuracy: 0.7510 - val_loss: 1.4847\n",
            "Epoch 73/100\n",
            "\u001b[1m355/355\u001b[0m \u001b[32m━━━━━━━━━━━━━━━━━━━━\u001b[0m\u001b[37m\u001b[0m \u001b[1m6s\u001b[0m 16ms/step - accuracy: 0.9536 - loss: 0.1459 - val_accuracy: 0.7534 - val_loss: 1.4511\n",
            "Epoch 74/100\n",
            "\u001b[1m355/355\u001b[0m \u001b[32m━━━━━━━━━━━━━━━━━━━━\u001b[0m\u001b[37m\u001b[0m \u001b[1m6s\u001b[0m 16ms/step - accuracy: 0.9595 - loss: 0.1308 - val_accuracy: 0.7490 - val_loss: 1.5570\n",
            "Epoch 75/100\n",
            "\u001b[1m355/355\u001b[0m \u001b[32m━━━━━━━━━━━━━━━━━━━━\u001b[0m\u001b[37m\u001b[0m \u001b[1m6s\u001b[0m 16ms/step - accuracy: 0.9562 - loss: 0.1334 - val_accuracy: 0.7460 - val_loss: 1.5673\n",
            "Epoch 76/100\n",
            "\u001b[1m355/355\u001b[0m \u001b[32m━━━━━━━━━━━━━━━━━━━━\u001b[0m\u001b[37m\u001b[0m \u001b[1m6s\u001b[0m 16ms/step - accuracy: 0.9574 - loss: 0.1315 - val_accuracy: 0.7399 - val_loss: 1.6550\n",
            "Epoch 77/100\n",
            "\u001b[1m355/355\u001b[0m \u001b[32m━━━━━━━━━━━━━━━━━━━━\u001b[0m\u001b[37m\u001b[0m \u001b[1m6s\u001b[0m 16ms/step - accuracy: 0.9533 - loss: 0.1507 - val_accuracy: 0.7409 - val_loss: 1.5590\n",
            "Epoch 78/100\n",
            "\u001b[1m355/355\u001b[0m \u001b[32m━━━━━━━━━━━━━━━━━━━━\u001b[0m\u001b[37m\u001b[0m \u001b[1m6s\u001b[0m 16ms/step - accuracy: 0.9600 - loss: 0.1259 - val_accuracy: 0.7404 - val_loss: 1.6207\n",
            "Epoch 79/100\n",
            "\u001b[1m355/355\u001b[0m \u001b[32m━━━━━━━━━━━━━━━━━━━━\u001b[0m\u001b[37m\u001b[0m \u001b[1m6s\u001b[0m 16ms/step - accuracy: 0.9597 - loss: 0.1279 - val_accuracy: 0.7489 - val_loss: 1.5757\n",
            "Epoch 80/100\n",
            "\u001b[1m355/355\u001b[0m \u001b[32m━━━━━━━━━━━━━━━━━━━━\u001b[0m\u001b[37m\u001b[0m \u001b[1m6s\u001b[0m 16ms/step - accuracy: 0.9566 - loss: 0.1286 - val_accuracy: 0.7420 - val_loss: 1.4118\n",
            "Epoch 81/100\n",
            "\u001b[1m355/355\u001b[0m \u001b[32m━━━━━━━━━━━━━━━━━━━━\u001b[0m\u001b[37m\u001b[0m \u001b[1m6s\u001b[0m 16ms/step - accuracy: 0.9620 - loss: 0.1173 - val_accuracy: 0.7453 - val_loss: 1.5474\n",
            "Epoch 82/100\n",
            "\u001b[1m355/355\u001b[0m \u001b[32m━━━━━━━━━━━━━━━━━━━━\u001b[0m\u001b[37m\u001b[0m \u001b[1m6s\u001b[0m 16ms/step - accuracy: 0.9608 - loss: 0.1173 - val_accuracy: 0.7425 - val_loss: 1.4668\n",
            "Epoch 83/100\n",
            "\u001b[1m355/355\u001b[0m \u001b[32m━━━━━━━━━━━━━━━━━━━━\u001b[0m\u001b[37m\u001b[0m \u001b[1m6s\u001b[0m 16ms/step - accuracy: 0.9615 - loss: 0.1179 - val_accuracy: 0.7418 - val_loss: 1.6540\n",
            "Epoch 84/100\n",
            "\u001b[1m355/355\u001b[0m \u001b[32m━━━━━━━━━━━━━━━━━━━━\u001b[0m\u001b[37m\u001b[0m \u001b[1m6s\u001b[0m 16ms/step - accuracy: 0.9578 - loss: 0.1385 - val_accuracy: 0.7467 - val_loss: 1.7145\n",
            "Epoch 85/100\n",
            "\u001b[1m355/355\u001b[0m \u001b[32m━━━━━━━━━━━━━━━━━━━━\u001b[0m\u001b[37m\u001b[0m \u001b[1m6s\u001b[0m 16ms/step - accuracy: 0.9601 - loss: 0.1239 - val_accuracy: 0.7425 - val_loss: 1.6218\n",
            "Epoch 86/100\n",
            "\u001b[1m355/355\u001b[0m \u001b[32m━━━━━━━━━━━━━━━━━━━━\u001b[0m\u001b[37m\u001b[0m \u001b[1m6s\u001b[0m 16ms/step - accuracy: 0.9598 - loss: 0.1242 - val_accuracy: 0.7522 - val_loss: 1.4764\n",
            "Epoch 87/100\n",
            "\u001b[1m355/355\u001b[0m \u001b[32m━━━━━━━━━━━━━━━━━━━━\u001b[0m\u001b[37m\u001b[0m \u001b[1m6s\u001b[0m 16ms/step - accuracy: 0.9613 - loss: 0.1123 - val_accuracy: 0.7445 - val_loss: 1.7862\n",
            "Epoch 88/100\n",
            "\u001b[1m355/355\u001b[0m \u001b[32m━━━━━━━━━━━━━━━━━━━━\u001b[0m\u001b[37m\u001b[0m \u001b[1m6s\u001b[0m 16ms/step - accuracy: 0.9630 - loss: 0.1115 - val_accuracy: 0.7423 - val_loss: 1.5996\n",
            "Epoch 89/100\n",
            "\u001b[1m355/355\u001b[0m \u001b[32m━━━━━━━━━━━━━━━━━━━━\u001b[0m\u001b[37m\u001b[0m \u001b[1m6s\u001b[0m 16ms/step - accuracy: 0.9617 - loss: 0.1139 - val_accuracy: 0.7353 - val_loss: 1.5552\n",
            "Epoch 90/100\n",
            "\u001b[1m355/355\u001b[0m \u001b[32m━━━━━━━━━━━━━━━━━━━━\u001b[0m\u001b[37m\u001b[0m \u001b[1m6s\u001b[0m 16ms/step - accuracy: 0.9616 - loss: 0.1150 - val_accuracy: 0.7453 - val_loss: 1.6041\n",
            "Epoch 91/100\n",
            "\u001b[1m355/355\u001b[0m \u001b[32m━━━━━━━━━━━━━━━━━━━━\u001b[0m\u001b[37m\u001b[0m \u001b[1m6s\u001b[0m 16ms/step - accuracy: 0.9630 - loss: 0.1109 - val_accuracy: 0.7489 - val_loss: 1.4644\n",
            "Epoch 92/100\n",
            "\u001b[1m355/355\u001b[0m \u001b[32m━━━━━━━━━━━━━━━━━━━━\u001b[0m\u001b[37m\u001b[0m \u001b[1m6s\u001b[0m 16ms/step - accuracy: 0.9637 - loss: 0.1169 - val_accuracy: 0.7427 - val_loss: 1.5630\n",
            "Epoch 93/100\n",
            "\u001b[1m355/355\u001b[0m \u001b[32m━━━━━━━━━━━━━━━━━━━━\u001b[0m\u001b[37m\u001b[0m \u001b[1m6s\u001b[0m 16ms/step - accuracy: 0.9611 - loss: 0.1210 - val_accuracy: 0.7418 - val_loss: 1.6032\n",
            "Epoch 94/100\n",
            "\u001b[1m355/355\u001b[0m \u001b[32m━━━━━━━━━━━━━━━━━━━━\u001b[0m\u001b[37m\u001b[0m \u001b[1m6s\u001b[0m 16ms/step - accuracy: 0.9618 - loss: 0.1250 - val_accuracy: 0.7378 - val_loss: 1.3795\n",
            "Epoch 95/100\n",
            "\u001b[1m355/355\u001b[0m \u001b[32m━━━━━━━━━━━━━━━━━━━━\u001b[0m\u001b[37m\u001b[0m \u001b[1m6s\u001b[0m 16ms/step - accuracy: 0.9621 - loss: 0.1198 - val_accuracy: 0.7420 - val_loss: 1.5174\n",
            "Epoch 96/100\n",
            "\u001b[1m355/355\u001b[0m \u001b[32m━━━━━━━━━━━━━━━━━━━━\u001b[0m\u001b[37m\u001b[0m \u001b[1m6s\u001b[0m 16ms/step - accuracy: 0.9655 - loss: 0.1049 - val_accuracy: 0.7480 - val_loss: 1.5353\n",
            "Epoch 97/100\n",
            "\u001b[1m355/355\u001b[0m \u001b[32m━━━━━━━━━━━━━━━━━━━━\u001b[0m\u001b[37m\u001b[0m \u001b[1m6s\u001b[0m 16ms/step - accuracy: 0.9624 - loss: 0.1147 - val_accuracy: 0.7445 - val_loss: 1.5649\n",
            "Epoch 98/100\n",
            "\u001b[1m355/355\u001b[0m \u001b[32m━━━━━━━━━━━━━━━━━━━━\u001b[0m\u001b[37m\u001b[0m \u001b[1m6s\u001b[0m 16ms/step - accuracy: 0.9644 - loss: 0.1085 - val_accuracy: 0.7420 - val_loss: 1.5474\n",
            "Epoch 99/100\n",
            "\u001b[1m355/355\u001b[0m \u001b[32m━━━━━━━━━━━━━━━━━━━━\u001b[0m\u001b[37m\u001b[0m \u001b[1m6s\u001b[0m 16ms/step - accuracy: 0.9643 - loss: 0.1081 - val_accuracy: 0.7443 - val_loss: 1.4798\n",
            "Epoch 100/100\n",
            "\u001b[1m355/355\u001b[0m \u001b[32m━━━━━━━━━━━━━━━━━━━━\u001b[0m\u001b[37m\u001b[0m \u001b[1m6s\u001b[0m 16ms/step - accuracy: 0.9656 - loss: 0.1049 - val_accuracy: 0.7439 - val_loss: 1.5309\n"
          ]
        }
      ],
      "source": [
        "from sklearn.model_selection import train_test_split\n",
        "from tensorflow.keras.models import Sequential\n",
        "from tensorflow.keras.layers import Conv2D, MaxPooling2D, Flatten, Dense, Dropout, BatchNormalization, LeakyReLU\n",
        "\n",
        "# Train/val split\n",
        "X_train_fp, X_val_fp, y_train_fp, y_val_fp = train_test_split(X_ferplus, y_ferplus_encoded, test_size=0.2, random_state=42)\n",
        "\n",
        "# Model\n",
        "ferplus_model = Sequential([\n",
        "    Conv2D(64, (3,3), padding='same', input_shape=(48,48,1)),\n",
        "    BatchNormalization(),\n",
        "    LeakyReLU(),\n",
        "    MaxPooling2D(2,2),\n",
        "    Dropout(0.25),\n",
        "\n",
        "    Conv2D(128, (3,3), padding='same'),\n",
        "    BatchNormalization(),\n",
        "    LeakyReLU(),\n",
        "    MaxPooling2D(2,2),\n",
        "    Dropout(0.25),\n",
        "\n",
        "    Conv2D(256, (3,3), padding='same'),\n",
        "    BatchNormalization(),\n",
        "    LeakyReLU(),\n",
        "    MaxPooling2D(2,2),\n",
        "    Dropout(0.25),\n",
        "\n",
        "    Flatten(),\n",
        "    Dense(512),\n",
        "    LeakyReLU(),\n",
        "    Dropout(0.5),\n",
        "    Dense(8, activation='softmax')\n",
        "])\n",
        "\n",
        "ferplus_model.compile(optimizer='adam', loss='categorical_crossentropy', metrics=['accuracy'])\n",
        "\n",
        "# Train\n",
        "history_fp = ferplus_model.fit(X_train_fp, y_train_fp,\n",
        "                               validation_data=(X_val_fp, y_val_fp),\n",
        "                               epochs=100,\n",
        "                               batch_size=64)\n"
      ]
    },
    {
      "cell_type": "code",
      "execution_count": null,
      "metadata": {
        "id": "tQxp4VLyu6WV"
      },
      "outputs": [],
      "source": [
        "ferplus_model.save(\"/content/drive/MyDrive/ferplus_cnn_model.keras\")"
      ]
    },
    {
      "cell_type": "markdown",
      "source": [
        "### Meta Model v2: Fusion of FER, RAF, and FERPlus Predictions\n",
        "\n",
        "This section extends the meta-classification strategy by combining predictions from **three CNN models**—FER, RAF, and FERPlus—into a more expressive ensemble feature set.\n",
        "\n",
        "#### Feature Construction for Meta Model v2\n",
        "\n",
        "* Each model's softmax output (first 5 shared emotion classes) is extracted.\n",
        "* These are concatenated into a **15-dimensional vector** (5 classes × 3 models) for each input.\n",
        "* The target remains the one-hot encoded labels from the filtered validation set.\n",
        "\n",
        "#### Meta-Model Architecture and Training\n",
        "\n",
        "* The feature vectors are split into training and validation sets.\n",
        "* A new fully-connected neural network (`meta_model_v2`) is defined:\n",
        "\n",
        "  * Input: 15 features\n",
        "  * Two hidden layers with ReLU activations and dropout for regularization\n",
        "  * Output: 5-class softmax\n",
        "* The model is trained for 30 epochs with a batch size of 32.\n",
        "\n",
        "This model serves as a higher-capacity ensemble that learns complex relationships across multiple emotion predictors.\n",
        "\n",
        "#### Performance Visualization\n",
        "\n",
        "* Two plots are generated:\n",
        "\n",
        "  * **Accuracy vs. Epochs**: to track how well the model is learning.\n",
        "  * **Loss vs. Epochs**: to monitor convergence and overfitting.\n",
        "\n",
        "Visualizing training and validation trends helps assess whether the model is generalizing or overfitting, guiding further tuning if needed."
      ],
      "metadata": {
        "id": "yYtWHYDg8376"
      }
    },
    {
      "cell_type": "code",
      "execution_count": null,
      "metadata": {
        "colab": {
          "base_uri": "https://localhost:8080/"
        },
        "id": "KHl5CvzzTJZz",
        "outputId": "e8ac1852-d95c-4b54-b984-643b03e29427"
      },
      "outputs": [
        {
          "output_type": "stream",
          "name": "stdout",
          "text": [
            "\u001b[1m44/44\u001b[0m \u001b[32m━━━━━━━━━━━━━━━━━━━━\u001b[0m\u001b[37m\u001b[0m \u001b[1m0s\u001b[0m 2ms/step\n",
            "\u001b[1m44/44\u001b[0m \u001b[32m━━━━━━━━━━━━━━━━━━━━\u001b[0m\u001b[37m\u001b[0m \u001b[1m0s\u001b[0m 4ms/step\n",
            "\u001b[1m44/44\u001b[0m \u001b[32m━━━━━━━━━━━━━━━━━━━━\u001b[0m\u001b[37m\u001b[0m \u001b[1m1s\u001b[0m 12ms/step\n",
            "Meta V2 input shape: (1407, 15)\n"
          ]
        }
      ],
      "source": [
        "# Make sure X_val_filtered is resized for FER+ (if needed)\n",
        "X_val_fp_resized = X_val_filtered  # Already 48x48x1, so compatible\n",
        "\n",
        "# Predict softmax outputs\n",
        "fer_preds = fer_model.predict(X_val_filtered)\n",
        "raf_preds = raf_model.predict(X_val_filtered)\n",
        "ferplus_preds = ferplus_model.predict(X_val_fp_resized)\n",
        "\n",
        "# Combine all into a single feature set\n",
        "meta_X_v2 = np.concatenate([fer_preds[:, :5], raf_preds[:, :5], ferplus_preds[:, :5]], axis=1)  # Use top 5 FER+ classes\n",
        "meta_y_v2 = y_val_filtered[:, :5]\n",
        "\n",
        "print(\"Meta V2 input shape:\", meta_X_v2.shape)\n"
      ]
    },
    {
      "cell_type": "code",
      "execution_count": null,
      "metadata": {
        "colab": {
          "base_uri": "https://localhost:8080/"
        },
        "id": "3zBAlmA7TM40",
        "outputId": "79237c77-94af-4748-d98e-28d86bbabff5"
      },
      "outputs": [
        {
          "output_type": "stream",
          "name": "stdout",
          "text": [
            "Epoch 1/30\n"
          ]
        },
        {
          "output_type": "stream",
          "name": "stderr",
          "text": [
            "/usr/local/lib/python3.11/dist-packages/keras/src/layers/core/dense.py:87: UserWarning: Do not pass an `input_shape`/`input_dim` argument to a layer. When using Sequential models, prefer using an `Input(shape)` object as the first layer in the model instead.\n",
            "  super().__init__(activity_regularizer=activity_regularizer, **kwargs)\n"
          ]
        },
        {
          "output_type": "stream",
          "name": "stdout",
          "text": [
            "\u001b[1m36/36\u001b[0m \u001b[32m━━━━━━━━━━━━━━━━━━━━\u001b[0m\u001b[37m\u001b[0m \u001b[1m5s\u001b[0m 61ms/step - accuracy: 0.3663 - loss: 1.4941 - val_accuracy: 0.8617 - val_loss: 0.9577\n",
            "Epoch 2/30\n",
            "\u001b[1m36/36\u001b[0m \u001b[32m━━━━━━━━━━━━━━━━━━━━\u001b[0m\u001b[37m\u001b[0m \u001b[1m0s\u001b[0m 4ms/step - accuracy: 0.7534 - loss: 0.8834 - val_accuracy: 0.9113 - val_loss: 0.4832\n",
            "Epoch 3/30\n",
            "\u001b[1m36/36\u001b[0m \u001b[32m━━━━━━━━━━━━━━━━━━━━\u001b[0m\u001b[37m\u001b[0m \u001b[1m0s\u001b[0m 4ms/step - accuracy: 0.8715 - loss: 0.5048 - val_accuracy: 0.9362 - val_loss: 0.3000\n",
            "Epoch 4/30\n",
            "\u001b[1m36/36\u001b[0m \u001b[32m━━━━━━━━━━━━━━━━━━━━\u001b[0m\u001b[37m\u001b[0m \u001b[1m0s\u001b[0m 4ms/step - accuracy: 0.9176 - loss: 0.3374 - val_accuracy: 0.9397 - val_loss: 0.2122\n",
            "Epoch 5/30\n",
            "\u001b[1m36/36\u001b[0m \u001b[32m━━━━━━━━━━━━━━━━━━━━\u001b[0m\u001b[37m\u001b[0m \u001b[1m0s\u001b[0m 4ms/step - accuracy: 0.9337 - loss: 0.2662 - val_accuracy: 0.9645 - val_loss: 0.1720\n",
            "Epoch 6/30\n",
            "\u001b[1m36/36\u001b[0m \u001b[32m━━━━━━━━━━━━━━━━━━━━\u001b[0m\u001b[37m\u001b[0m \u001b[1m0s\u001b[0m 4ms/step - accuracy: 0.9645 - loss: 0.1753 - val_accuracy: 0.9645 - val_loss: 0.1558\n",
            "Epoch 7/30\n",
            "\u001b[1m36/36\u001b[0m \u001b[32m━━━━━━━━━━━━━━━━━━━━\u001b[0m\u001b[37m\u001b[0m \u001b[1m0s\u001b[0m 4ms/step - accuracy: 0.9544 - loss: 0.2078 - val_accuracy: 0.9645 - val_loss: 0.1485\n",
            "Epoch 8/30\n",
            "\u001b[1m36/36\u001b[0m \u001b[32m━━━━━━━━━━━━━━━━━━━━\u001b[0m\u001b[37m\u001b[0m \u001b[1m0s\u001b[0m 4ms/step - accuracy: 0.9678 - loss: 0.1295 - val_accuracy: 0.9645 - val_loss: 0.1481\n",
            "Epoch 9/30\n",
            "\u001b[1m36/36\u001b[0m \u001b[32m━━━━━━━━━━━━━━━━━━━━\u001b[0m\u001b[37m\u001b[0m \u001b[1m0s\u001b[0m 4ms/step - accuracy: 0.9583 - loss: 0.1520 - val_accuracy: 0.9645 - val_loss: 0.1498\n",
            "Epoch 10/30\n",
            "\u001b[1m36/36\u001b[0m \u001b[32m━━━━━━━━━━━━━━━━━━━━\u001b[0m\u001b[37m\u001b[0m \u001b[1m0s\u001b[0m 4ms/step - accuracy: 0.9683 - loss: 0.1731 - val_accuracy: 0.9645 - val_loss: 0.1493\n",
            "Epoch 11/30\n",
            "\u001b[1m36/36\u001b[0m \u001b[32m━━━━━━━━━━━━━━━━━━━━\u001b[0m\u001b[37m\u001b[0m \u001b[1m0s\u001b[0m 4ms/step - accuracy: 0.9651 - loss: 0.1490 - val_accuracy: 0.9645 - val_loss: 0.1514\n",
            "Epoch 12/30\n",
            "\u001b[1m36/36\u001b[0m \u001b[32m━━━━━━━━━━━━━━━━━━━━\u001b[0m\u001b[37m\u001b[0m \u001b[1m0s\u001b[0m 4ms/step - accuracy: 0.9659 - loss: 0.1420 - val_accuracy: 0.9645 - val_loss: 0.1537\n",
            "Epoch 13/30\n",
            "\u001b[1m36/36\u001b[0m \u001b[32m━━━━━━━━━━━━━━━━━━━━\u001b[0m\u001b[37m\u001b[0m \u001b[1m0s\u001b[0m 4ms/step - accuracy: 0.9691 - loss: 0.1421 - val_accuracy: 0.9610 - val_loss: 0.1540\n",
            "Epoch 14/30\n",
            "\u001b[1m36/36\u001b[0m \u001b[32m━━━━━━━━━━━━━━━━━━━━\u001b[0m\u001b[37m\u001b[0m \u001b[1m0s\u001b[0m 4ms/step - accuracy: 0.9631 - loss: 0.1523 - val_accuracy: 0.9610 - val_loss: 0.1556\n",
            "Epoch 15/30\n",
            "\u001b[1m36/36\u001b[0m \u001b[32m━━━━━━━━━━━━━━━━━━━━\u001b[0m\u001b[37m\u001b[0m \u001b[1m0s\u001b[0m 4ms/step - accuracy: 0.9586 - loss: 0.1611 - val_accuracy: 0.9610 - val_loss: 0.1576\n",
            "Epoch 16/30\n",
            "\u001b[1m36/36\u001b[0m \u001b[32m━━━━━━━━━━━━━━━━━━━━\u001b[0m\u001b[37m\u001b[0m \u001b[1m0s\u001b[0m 4ms/step - accuracy: 0.9671 - loss: 0.1301 - val_accuracy: 0.9610 - val_loss: 0.1583\n",
            "Epoch 17/30\n",
            "\u001b[1m36/36\u001b[0m \u001b[32m━━━━━━━━━━━━━━━━━━━━\u001b[0m\u001b[37m\u001b[0m \u001b[1m0s\u001b[0m 4ms/step - accuracy: 0.9717 - loss: 0.1247 - val_accuracy: 0.9610 - val_loss: 0.1543\n",
            "Epoch 18/30\n",
            "\u001b[1m36/36\u001b[0m \u001b[32m━━━━━━━━━━━━━━━━━━━━\u001b[0m\u001b[37m\u001b[0m \u001b[1m0s\u001b[0m 4ms/step - accuracy: 0.9666 - loss: 0.1424 - val_accuracy: 0.9610 - val_loss: 0.1550\n",
            "Epoch 19/30\n",
            "\u001b[1m36/36\u001b[0m \u001b[32m━━━━━━━━━━━━━━━━━━━━\u001b[0m\u001b[37m\u001b[0m \u001b[1m0s\u001b[0m 4ms/step - accuracy: 0.9681 - loss: 0.1188 - val_accuracy: 0.9610 - val_loss: 0.1572\n",
            "Epoch 20/30\n",
            "\u001b[1m36/36\u001b[0m \u001b[32m━━━━━━━━━━━━━━━━━━━━\u001b[0m\u001b[37m\u001b[0m \u001b[1m0s\u001b[0m 4ms/step - accuracy: 0.9736 - loss: 0.1056 - val_accuracy: 0.9610 - val_loss: 0.1585\n",
            "Epoch 21/30\n",
            "\u001b[1m36/36\u001b[0m \u001b[32m━━━━━━━━━━━━━━━━━━━━\u001b[0m\u001b[37m\u001b[0m \u001b[1m0s\u001b[0m 4ms/step - accuracy: 0.9729 - loss: 0.0994 - val_accuracy: 0.9610 - val_loss: 0.1605\n",
            "Epoch 22/30\n",
            "\u001b[1m36/36\u001b[0m \u001b[32m━━━━━━━━━━━━━━━━━━━━\u001b[0m\u001b[37m\u001b[0m \u001b[1m0s\u001b[0m 4ms/step - accuracy: 0.9731 - loss: 0.1147 - val_accuracy: 0.9610 - val_loss: 0.1613\n",
            "Epoch 23/30\n",
            "\u001b[1m36/36\u001b[0m \u001b[32m━━━━━━━━━━━━━━━━━━━━\u001b[0m\u001b[37m\u001b[0m \u001b[1m0s\u001b[0m 4ms/step - accuracy: 0.9750 - loss: 0.1018 - val_accuracy: 0.9610 - val_loss: 0.1617\n",
            "Epoch 24/30\n",
            "\u001b[1m36/36\u001b[0m \u001b[32m━━━━━━━━━━━━━━━━━━━━\u001b[0m\u001b[37m\u001b[0m \u001b[1m0s\u001b[0m 4ms/step - accuracy: 0.9755 - loss: 0.1041 - val_accuracy: 0.9610 - val_loss: 0.1620\n",
            "Epoch 25/30\n",
            "\u001b[1m36/36\u001b[0m \u001b[32m━━━━━━━━━━━━━━━━━━━━\u001b[0m\u001b[37m\u001b[0m \u001b[1m0s\u001b[0m 4ms/step - accuracy: 0.9712 - loss: 0.1109 - val_accuracy: 0.9610 - val_loss: 0.1629\n",
            "Epoch 26/30\n",
            "\u001b[1m36/36\u001b[0m \u001b[32m━━━━━━━━━━━━━━━━━━━━\u001b[0m\u001b[37m\u001b[0m \u001b[1m0s\u001b[0m 4ms/step - accuracy: 0.9656 - loss: 0.1351 - val_accuracy: 0.9610 - val_loss: 0.1640\n",
            "Epoch 27/30\n",
            "\u001b[1m36/36\u001b[0m \u001b[32m━━━━━━━━━━━━━━━━━━━━\u001b[0m\u001b[37m\u001b[0m \u001b[1m0s\u001b[0m 4ms/step - accuracy: 0.9673 - loss: 0.1392 - val_accuracy: 0.9610 - val_loss: 0.1628\n",
            "Epoch 28/30\n",
            "\u001b[1m36/36\u001b[0m \u001b[32m━━━━━━━━━━━━━━━━━━━━\u001b[0m\u001b[37m\u001b[0m \u001b[1m0s\u001b[0m 4ms/step - accuracy: 0.9705 - loss: 0.1115 - val_accuracy: 0.9610 - val_loss: 0.1630\n",
            "Epoch 29/30\n",
            "\u001b[1m36/36\u001b[0m \u001b[32m━━━━━━━━━━━━━━━━━━━━\u001b[0m\u001b[37m\u001b[0m \u001b[1m0s\u001b[0m 4ms/step - accuracy: 0.9717 - loss: 0.1249 - val_accuracy: 0.9610 - val_loss: 0.1649\n",
            "Epoch 30/30\n",
            "\u001b[1m36/36\u001b[0m \u001b[32m━━━━━━━━━━━━━━━━━━━━\u001b[0m\u001b[37m\u001b[0m \u001b[1m0s\u001b[0m 4ms/step - accuracy: 0.9572 - loss: 0.1354 - val_accuracy: 0.9645 - val_loss: 0.1676\n"
          ]
        }
      ],
      "source": [
        "from sklearn.model_selection import train_test_split\n",
        "from tensorflow.keras.models import Sequential\n",
        "from tensorflow.keras.layers import Dense, Dropout\n",
        "from tensorflow.keras.optimizers import Adam\n",
        "\n",
        "# Split meta-v2 data\n",
        "meta_X_train_v2, meta_X_val_v2, meta_y_train_v2, meta_y_val_v2 = train_test_split(meta_X_v2, meta_y_v2, test_size=0.2, random_state=42)\n",
        "\n",
        "# Define meta model v2\n",
        "meta_model_v2 = Sequential([\n",
        "    Dense(64, activation='relu', input_shape=(15,)),  # from 3 models × 5 classes\n",
        "    Dropout(0.4),\n",
        "    Dense(32, activation='relu'),\n",
        "    Dropout(0.3),\n",
        "    Dense(5, activation='softmax')\n",
        "])\n",
        "meta_model_v2.compile(optimizer='adam', loss='categorical_crossentropy', metrics=['accuracy'])\n",
        "\n",
        "\n",
        "# Train it\n",
        "# Pretrain meta_model_v2 on image-only emotion vector\n",
        "history = meta_model_v2.fit(meta_X_train_v2, meta_y_train_v2,\n",
        "                  validation_data=(meta_X_val_v2, meta_y_val_v2),\n",
        "                  epochs=30,\n",
        "                  batch_size=32)\n",
        "\n"
      ]
    },
    {
      "cell_type": "code",
      "execution_count": null,
      "metadata": {
        "colab": {
          "base_uri": "https://localhost:8080/",
          "height": 507
        },
        "id": "cJEfZn2fthsl",
        "outputId": "bdb30485-77df-4483-afb9-55132ab297ad"
      },
      "outputs": [
        {
          "output_type": "display_data",
          "data": {
            "text/plain": [
              "<Figure size 1200x500 with 2 Axes>"
            ],
            "image/png": "[encoded data removed]"
          },
          "metadata": {}
        }
      ],
      "source": [
        "# Plot training & validation accuracy\n",
        "plt.figure(figsize=(12, 5))\n",
        "\n",
        "# Accuracy plot\n",
        "plt.subplot(1, 2, 1)\n",
        "plt.plot(history.history['accuracy'], label='Train Accuracy')\n",
        "plt.plot(history.history['val_accuracy'], label='Val Accuracy')\n",
        "plt.title('Meta Model v2 - Accuracy')\n",
        "plt.xlabel('Epoch')\n",
        "plt.ylabel('Accuracy')\n",
        "plt.legend()\n",
        "\n",
        "# Loss plot\n",
        "plt.subplot(1, 2, 2)\n",
        "plt.plot(history.history['loss'], label='Train Loss')\n",
        "plt.plot(history.history['val_loss'], label='Val Loss')\n",
        "plt.title('Meta Model v2 - Loss')\n",
        "plt.xlabel('Epoch')\n",
        "plt.ylabel('Loss')\n",
        "plt.legend()\n",
        "\n",
        "plt.tight_layout()\n",
        "plt.show()"
      ]
    },
    {
      "cell_type": "markdown",
      "source": [
        "### Evaluating Meta Model v2 Accuracy\n",
        "\n",
        "This cell computes the final accuracy of the **Meta Model v2**, which fuses prediction outputs from the FER, RAF, and FERPlus CNNs:\n",
        "\n",
        "* `meta_model_v2` generates softmax predictions for the validation set.\n",
        "* `argmax` is used to convert one-hot vectors into discrete class labels for both predictions and ground truth.\n",
        "* `accuracy_score` from `sklearn` is used to calculate the classification accuracy.\n",
        "\n",
        "The resulting percentage reflects how effectively the fused model predicts shared emotion classes using outputs from all three CNN sources."
      ],
      "metadata": {
        "id": "dM_YXEus9FWZ"
      }
    },
    {
      "cell_type": "code",
      "execution_count": null,
      "metadata": {
        "colab": {
          "base_uri": "https://localhost:8080/"
        },
        "id": "TAOs8J9VTUkG",
        "outputId": "e3305faf-c9de-4aab-c939-8f52803e8688"
      },
      "outputs": [
        {
          "output_type": "stream",
          "name": "stdout",
          "text": [
            "\u001b[1m9/9\u001b[0m \u001b[32m━━━━━━━━━━━━━━━━━━━━\u001b[0m\u001b[37m\u001b[0m \u001b[1m0s\u001b[0m 21ms/step\n",
            "Meta-Classifier V2 Accuracy (FER+RAF+FER+): 96.45%\n"
          ]
        }
      ],
      "source": [
        "# Predict\n",
        "meta_preds_v2 = meta_model_v2.predict(meta_X_val_v2)\n",
        "meta_labels_v2 = np.argmax(meta_preds_v2, axis=1)\n",
        "true_labels_v2 = np.argmax(meta_y_val_v2, axis=1)\n",
        "\n",
        "# Accuracy\n",
        "from sklearn.metrics import accuracy_score\n",
        "acc = accuracy_score(true_labels_v2, meta_labels_v2)\n",
        "print(f\"Meta-Classifier V2 Accuracy (FER+RAF+FER+): {acc * 100:.2f}%\")\n"
      ]
    },
    {
      "cell_type": "code",
      "execution_count": null,
      "metadata": {
        "id": "fXEoQU61Taij"
      },
      "outputs": [],
      "source": [
        "meta_model_v2.save(\"/content/drive/MyDrive/meta_classifier_v2_model.keras\")"
      ]
    },
    {
      "cell_type": "markdown",
      "source": [
        "### Building the Multimodal Fusion Model (Vision + Text)\n",
        "\n",
        "This section constructs a **multimodal deep learning model** that fuses visual and textual inputs to predict both **sentiment** and **emotion**. It integrates three pre-trained CNN models and a BiLSTM-based text pipeline.\n",
        "\n",
        "#### Image Branch\n",
        "\n",
        "* Input: a single-channel (grayscale) image of shape `(48, 48, 1)`.\n",
        "* Three pretrained models (FER, RAF, FERPlus) process the image and output softmax vectors.\n",
        "* Only the first **5 shared emotion classes** are extracted from each model's output.\n",
        "* These vectors are concatenated and passed into the trained `meta_model_v2` to produce a unified **emotion vector**.\n",
        "\n",
        "#### Text Branch\n",
        "\n",
        "* Input: a sequence of 100 token IDs (padded text).\n",
        "* The sequence passes through an `Embedding` layer and a `Bidirectional LSTM` to extract context-aware features.\n",
        "* A `Dense` layer condenses the output into a **text vector** representing the linguistic sentiment features.\n",
        "\n",
        "#### Fusion & Outputs\n",
        "\n",
        "* The emotion and text vectors are concatenated and regularized with `Dropout`.\n",
        "* Two output heads:\n",
        "\n",
        "  * `sentiment_output`: a softmax classifier for binary sentiment (positive/negative).\n",
        "  * `emotion_output`: a softmax classifier for the 5-class emotion label.\n",
        "\n",
        "#### ⚙️ Compilation\n",
        "\n",
        "* The model is compiled with dual loss functions and accuracy metrics for both outputs using the Adam optimizer.\n",
        "* `fusion_model.summary()` prints the complete architecture layout.\n",
        "\n",
        "This architecture enables joint modeling of **facial emotion** and **text-based sentiment**, allowing it to reason across both modalities for more robust prediction."
      ],
      "metadata": {
        "id": "GgqUxxZx9NBc"
      }
    },
    {
      "cell_type": "code",
      "execution_count": null,
      "metadata": {
        "colab": {
          "base_uri": "https://localhost:8080/",
          "height": 965
        },
        "id": "LUODApFiT2lJ",
        "outputId": "17daf329-f6cb-43fb-99d2-b125b3c14f9b"
      },
      "outputs": [
        {
          "output_type": "stream",
          "name": "stderr",
          "text": [
            "/usr/local/lib/python3.11/dist-packages/keras/src/layers/core/embedding.py:90: UserWarning: Argument `input_length` is deprecated. Just remove it.\n",
            "  warnings.warn(\n"
          ]
        },
        {
          "output_type": "display_data",
          "data": {
            "text/plain": [
              "\u001b[1mModel: \"functional_60\"\u001b[0m\n"
            ],
            "text/html": [
              "<pre style=\"white-space:pre;overflow-x:auto;line-height:normal;font-family:Menlo,'DejaVu Sans Mono',consolas,'Courier New',monospace\"><span style=\"font-weight: bold\">Model: \"functional_60\"</span>\n",
              "</pre>\n"
            ]
          },
          "metadata": {}
        },
        {
          "output_type": "display_data",
          "data": {
            "text/plain": [
              "┏━━━━━━━━━━━━━━━━━━━━━┳━━━━━━━━━━━━━━━━━━━┳━━━━━━━━━━━━┳━━━━━━━━━━━━━━━━━━━┓\n",
              "┃\u001b[1m \u001b[0m\u001b[1mLayer (type)       \u001b[0m\u001b[1m \u001b[0m┃\u001b[1m \u001b[0m\u001b[1mOutput Shape     \u001b[0m\u001b[1m \u001b[0m┃\u001b[1m \u001b[0m\u001b[1m   Param #\u001b[0m\u001b[1m \u001b[0m┃\u001b[1m \u001b[0m\u001b[1mConnected to     \u001b[0m\u001b[1m \u001b[0m┃\n",
              "┡━━━━━━━━━━━━━━━━━━━━━╇━━━━━━━━━━━━━━━━━━━╇━━━━━━━━━━━━╇━━━━━━━━━━━━━━━━━━━┩\n",
              "│ image_input         │ (\u001b[38;5;45mNone\u001b[0m, \u001b[38;5;34m48\u001b[0m, \u001b[38;5;34m48\u001b[0m, \u001b[38;5;34m1\u001b[0m) │          \u001b[38;5;34m0\u001b[0m │ -                 │\n",
              "│ (\u001b[38;5;33mInputLayer\u001b[0m)        │                   │            │                   │\n",
              "├─────────────────────┼───────────────────┼────────────┼───────────────────┤\n",
              "│ sequential_3        │ (\u001b[38;5;45mNone\u001b[0m, \u001b[38;5;34m7\u001b[0m)         │    \u001b[38;5;34m355,847\u001b[0m │ image_input[\u001b[38;5;34m0\u001b[0m][\u001b[38;5;34m0\u001b[0m] │\n",
              "│ (\u001b[38;5;33mSequential\u001b[0m)        │                   │            │                   │\n",
              "├─────────────────────┼───────────────────┼────────────┼───────────────────┤\n",
              "│ sequential_2        │ (\u001b[38;5;45mNone\u001b[0m, \u001b[38;5;34m8\u001b[0m)         │  \u001b[38;5;34m5,094,664\u001b[0m │ image_input[\u001b[38;5;34m0\u001b[0m][\u001b[38;5;34m0\u001b[0m] │\n",
              "│ (\u001b[38;5;33mSequential\u001b[0m)        │                   │            │                   │\n",
              "├─────────────────────┼───────────────────┼────────────┼───────────────────┤\n",
              "│ sequential_4        │ (\u001b[38;5;45mNone\u001b[0m, \u001b[38;5;34m8\u001b[0m)         │  \u001b[38;5;34m5,094,664\u001b[0m │ image_input[\u001b[38;5;34m0\u001b[0m][\u001b[38;5;34m0\u001b[0m] │\n",
              "│ (\u001b[38;5;33mSequential\u001b[0m)        │                   │            │                   │\n",
              "├─────────────────────┼───────────────────┼────────────┼───────────────────┤\n",
              "│ text_input          │ (\u001b[38;5;45mNone\u001b[0m, \u001b[38;5;34m100\u001b[0m)       │          \u001b[38;5;34m0\u001b[0m │ -                 │\n",
              "│ (\u001b[38;5;33mInputLayer\u001b[0m)        │                   │            │                   │\n",
              "├─────────────────────┼───────────────────┼────────────┼───────────────────┤\n",
              "│ get_item (\u001b[38;5;33mGetItem\u001b[0m)  │ (\u001b[38;5;45mNone\u001b[0m, \u001b[38;5;34m5\u001b[0m)         │          \u001b[38;5;34m0\u001b[0m │ sequential_3[\u001b[38;5;34m0\u001b[0m][\u001b[38;5;34m…\u001b[0m │\n",
              "├─────────────────────┼───────────────────┼────────────┼───────────────────┤\n",
              "│ get_item_1          │ (\u001b[38;5;45mNone\u001b[0m, \u001b[38;5;34m5\u001b[0m)         │          \u001b[38;5;34m0\u001b[0m │ sequential_2[\u001b[38;5;34m0\u001b[0m][\u001b[38;5;34m…\u001b[0m │\n",
              "│ (\u001b[38;5;33mGetItem\u001b[0m)           │                   │            │                   │\n",
              "├─────────────────────┼───────────────────┼────────────┼───────────────────┤\n",
              "│ get_item_2          │ (\u001b[38;5;45mNone\u001b[0m, \u001b[38;5;34m5\u001b[0m)         │          \u001b[38;5;34m0\u001b[0m │ sequential_4[\u001b[38;5;34m0\u001b[0m][\u001b[38;5;34m…\u001b[0m │\n",
              "│ (\u001b[38;5;33mGetItem\u001b[0m)           │                   │            │                   │\n",
              "├─────────────────────┼───────────────────┼────────────┼───────────────────┤\n",
              "│ embedding_2         │ (\u001b[38;5;45mNone\u001b[0m, \u001b[38;5;34m100\u001b[0m, \u001b[38;5;34m64\u001b[0m)   │    \u001b[38;5;34m640,000\u001b[0m │ text_input[\u001b[38;5;34m0\u001b[0m][\u001b[38;5;34m0\u001b[0m]  │\n",
              "│ (\u001b[38;5;33mEmbedding\u001b[0m)         │                   │            │                   │\n",
              "├─────────────────────┼───────────────────┼────────────┼───────────────────┤\n",
              "│ concatenate_1       │ (\u001b[38;5;45mNone\u001b[0m, \u001b[38;5;34m15\u001b[0m)        │          \u001b[38;5;34m0\u001b[0m │ get_item[\u001b[38;5;34m0\u001b[0m][\u001b[38;5;34m0\u001b[0m],   │\n",
              "│ (\u001b[38;5;33mConcatenate\u001b[0m)       │                   │            │ get_item_1[\u001b[38;5;34m0\u001b[0m][\u001b[38;5;34m0\u001b[0m], │\n",
              "│                     │                   │            │ get_item_2[\u001b[38;5;34m0\u001b[0m][\u001b[38;5;34m0\u001b[0m]  │\n",
              "├─────────────────────┼───────────────────┼────────────┼───────────────────┤\n",
              "│ bidirectional       │ (\u001b[38;5;45mNone\u001b[0m, \u001b[38;5;34m128\u001b[0m)       │     \u001b[38;5;34m66,048\u001b[0m │ embedding_2[\u001b[38;5;34m0\u001b[0m][\u001b[38;5;34m0\u001b[0m] │\n",
              "│ (\u001b[38;5;33mBidirectional\u001b[0m)     │                   │            │                   │\n",
              "├─────────────────────┼───────────────────┼────────────┼───────────────────┤\n",
              "│ sequential_5        │ (\u001b[38;5;45mNone\u001b[0m, \u001b[38;5;34m5\u001b[0m)         │      \u001b[38;5;34m3,269\u001b[0m │ concatenate_1[\u001b[38;5;34m0\u001b[0m]… │\n",
              "│ (\u001b[38;5;33mSequential\u001b[0m)        │                   │            │                   │\n",
              "├─────────────────────┼───────────────────┼────────────┼───────────────────┤\n",
              "│ dense_18 (\u001b[38;5;33mDense\u001b[0m)    │ (\u001b[38;5;45mNone\u001b[0m, \u001b[38;5;34m32\u001b[0m)        │      \u001b[38;5;34m4,128\u001b[0m │ bidirectional[\u001b[38;5;34m0\u001b[0m]… │\n",
              "├─────────────────────┼───────────────────┼────────────┼───────────────────┤\n",
              "│ concatenate_2       │ (\u001b[38;5;45mNone\u001b[0m, \u001b[38;5;34m37\u001b[0m)        │          \u001b[38;5;34m0\u001b[0m │ sequential_5[\u001b[38;5;34m0\u001b[0m][\u001b[38;5;34m…\u001b[0m │\n",
              "│ (\u001b[38;5;33mConcatenate\u001b[0m)       │                   │            │ dense_18[\u001b[38;5;34m0\u001b[0m][\u001b[38;5;34m0\u001b[0m]    │\n",
              "├─────────────────────┼───────────────────┼────────────┼───────────────────┤\n",
              "│ dropout_23          │ (\u001b[38;5;45mNone\u001b[0m, \u001b[38;5;34m37\u001b[0m)        │          \u001b[38;5;34m0\u001b[0m │ concatenate_2[\u001b[38;5;34m0\u001b[0m]… │\n",
              "│ (\u001b[38;5;33mDropout\u001b[0m)           │                   │            │                   │\n",
              "├─────────────────────┼───────────────────┼────────────┼───────────────────┤\n",
              "│ sentiment_output    │ (\u001b[38;5;45mNone\u001b[0m, \u001b[38;5;34m2\u001b[0m)         │         \u001b[38;5;34m76\u001b[0m │ dropout_23[\u001b[38;5;34m0\u001b[0m][\u001b[38;5;34m0\u001b[0m]  │\n",
              "│ (\u001b[38;5;33mDense\u001b[0m)             │                   │            │                   │\n",
              "├─────────────────────┼───────────────────┼────────────┼───────────────────┤\n",
              "│ emotion_output      │ (\u001b[38;5;45mNone\u001b[0m, \u001b[38;5;34m5\u001b[0m)         │        \u001b[38;5;34m190\u001b[0m │ dropout_23[\u001b[38;5;34m0\u001b[0m][\u001b[38;5;34m0\u001b[0m]  │\n",
              "│ (\u001b[38;5;33mDense\u001b[0m)             │                   │            │                   │\n",
              "└─────────────────────┴───────────────────┴────────────┴───────────────────┘\n"
            ],
            "text/html": [
              "<pre style=\"white-space:pre;overflow-x:auto;line-height:normal;font-family:Menlo,'DejaVu Sans Mono',consolas,'Courier New',monospace\">┏━━━━━━━━━━━━━━━━━━━━━┳━━━━━━━━━━━━━━━━━━━┳━━━━━━━━━━━━┳━━━━━━━━━━━━━━━━━━━┓\n",
              "┃<span style=\"font-weight: bold\"> Layer (type)        </span>┃<span style=\"font-weight: bold\"> Output Shape      </span>┃<span style=\"font-weight: bold\">    Param # </span>┃<span style=\"font-weight: bold\"> Connected to      </span>┃\n",
              "┡━━━━━━━━━━━━━━━━━━━━━╇━━━━━━━━━━━━━━━━━━━╇━━━━━━━━━━━━╇━━━━━━━━━━━━━━━━━━━┩\n",
              "│ image_input         │ (<span style=\"color: #00d7ff; text-decoration-color: #00d7ff\">None</span>, <span style=\"color: #00af00; text-decoration-color: #00af00\">48</span>, <span style=\"color: #00af00; text-decoration-color: #00af00\">48</span>, <span style=\"color: #00af00; text-decoration-color: #00af00\">1</span>) │          <span style=\"color: #00af00; text-decoration-color: #00af00\">0</span> │ -                 │\n",
              "│ (<span style=\"color: #0087ff; text-decoration-color: #0087ff\">InputLayer</span>)        │                   │            │                   │\n",
              "├─────────────────────┼───────────────────┼────────────┼───────────────────┤\n",
              "│ sequential_3        │ (<span style=\"color: #00d7ff; text-decoration-color: #00d7ff\">None</span>, <span style=\"color: #00af00; text-decoration-color: #00af00\">7</span>)         │    <span style=\"color: #00af00; text-decoration-color: #00af00\">355,847</span> │ image_input[<span style=\"color: #00af00; text-decoration-color: #00af00\">0</span>][<span style=\"color: #00af00; text-decoration-color: #00af00\">0</span>] │\n",
              "│ (<span style=\"color: #0087ff; text-decoration-color: #0087ff\">Sequential</span>)        │                   │            │                   │\n",
              "├─────────────────────┼───────────────────┼────────────┼───────────────────┤\n",
              "│ sequential_2        │ (<span style=\"color: #00d7ff; text-decoration-color: #00d7ff\">None</span>, <span style=\"color: #00af00; text-decoration-color: #00af00\">8</span>)         │  <span style=\"color: #00af00; text-decoration-color: #00af00\">5,094,664</span> │ image_input[<span style=\"color: #00af00; text-decoration-color: #00af00\">0</span>][<span style=\"color: #00af00; text-decoration-color: #00af00\">0</span>] │\n",
              "│ (<span style=\"color: #0087ff; text-decoration-color: #0087ff\">Sequential</span>)        │                   │            │                   │\n",
              "├─────────────────────┼───────────────────┼────────────┼───────────────────┤\n",
              "│ sequential_4        │ (<span style=\"color: #00d7ff; text-decoration-color: #00d7ff\">None</span>, <span style=\"color: #00af00; text-decoration-color: #00af00\">8</span>)         │  <span style=\"color: #00af00; text-decoration-color: #00af00\">5,094,664</span> │ image_input[<span style=\"color: #00af00; text-decoration-color: #00af00\">0</span>][<span style=\"color: #00af00; text-decoration-color: #00af00\">0</span>] │\n",
              "│ (<span style=\"color: #0087ff; text-decoration-color: #0087ff\">Sequential</span>)        │                   │            │                   │\n",
              "├─────────────────────┼───────────────────┼────────────┼───────────────────┤\n",
              "│ text_input          │ (<span style=\"color: #00d7ff; text-decoration-color: #00d7ff\">None</span>, <span style=\"color: #00af00; text-decoration-color: #00af00\">100</span>)       │          <span style=\"color: #00af00; text-decoration-color: #00af00\">0</span> │ -                 │\n",
              "│ (<span style=\"color: #0087ff; text-decoration-color: #0087ff\">InputLayer</span>)        │                   │            │                   │\n",
              "├─────────────────────┼───────────────────┼────────────┼───────────────────┤\n",
              "│ get_item (<span style=\"color: #0087ff; text-decoration-color: #0087ff\">GetItem</span>)  │ (<span style=\"color: #00d7ff; text-decoration-color: #00d7ff\">None</span>, <span style=\"color: #00af00; text-decoration-color: #00af00\">5</span>)         │          <span style=\"color: #00af00; text-decoration-color: #00af00\">0</span> │ sequential_3[<span style=\"color: #00af00; text-decoration-color: #00af00\">0</span>][<span style=\"color: #00af00; text-decoration-color: #00af00\">…</span> │\n",
              "├─────────────────────┼───────────────────┼────────────┼───────────────────┤\n",
              "│ get_item_1          │ (<span style=\"color: #00d7ff; text-decoration-color: #00d7ff\">None</span>, <span style=\"color: #00af00; text-decoration-color: #00af00\">5</span>)         │          <span style=\"color: #00af00; text-decoration-color: #00af00\">0</span> │ sequential_2[<span style=\"color: #00af00; text-decoration-color: #00af00\">0</span>][<span style=\"color: #00af00; text-decoration-color: #00af00\">…</span> │\n",
              "│ (<span style=\"color: #0087ff; text-decoration-color: #0087ff\">GetItem</span>)           │                   │            │                   │\n",
              "├─────────────────────┼───────────────────┼────────────┼───────────────────┤\n",
              "│ get_item_2          │ (<span style=\"color: #00d7ff; text-decoration-color: #00d7ff\">None</span>, <span style=\"color: #00af00; text-decoration-color: #00af00\">5</span>)         │          <span style=\"color: #00af00; text-decoration-color: #00af00\">0</span> │ sequential_4[<span style=\"color: #00af00; text-decoration-color: #00af00\">0</span>][<span style=\"color: #00af00; text-decoration-color: #00af00\">…</span> │\n",
              "│ (<span style=\"color: #0087ff; text-decoration-color: #0087ff\">GetItem</span>)           │                   │            │                   │\n",
              "├─────────────────────┼───────────────────┼────────────┼───────────────────┤\n",
              "│ embedding_2         │ (<span style=\"color: #00d7ff; text-decoration-color: #00d7ff\">None</span>, <span style=\"color: #00af00; text-decoration-color: #00af00\">100</span>, <span style=\"color: #00af00; text-decoration-color: #00af00\">64</span>)   │    <span style=\"color: #00af00; text-decoration-color: #00af00\">640,000</span> │ text_input[<span style=\"color: #00af00; text-decoration-color: #00af00\">0</span>][<span style=\"color: #00af00; text-decoration-color: #00af00\">0</span>]  │\n",
              "│ (<span style=\"color: #0087ff; text-decoration-color: #0087ff\">Embedding</span>)         │                   │            │                   │\n",
              "├─────────────────────┼───────────────────┼────────────┼───────────────────┤\n",
              "│ concatenate_1       │ (<span style=\"color: #00d7ff; text-decoration-color: #00d7ff\">None</span>, <span style=\"color: #00af00; text-decoration-color: #00af00\">15</span>)        │          <span style=\"color: #00af00; text-decoration-color: #00af00\">0</span> │ get_item[<span style=\"color: #00af00; text-decoration-color: #00af00\">0</span>][<span style=\"color: #00af00; text-decoration-color: #00af00\">0</span>],   │\n",
              "│ (<span style=\"color: #0087ff; text-decoration-color: #0087ff\">Concatenate</span>)       │                   │            │ get_item_1[<span style=\"color: #00af00; text-decoration-color: #00af00\">0</span>][<span style=\"color: #00af00; text-decoration-color: #00af00\">0</span>], │\n",
              "│                     │                   │            │ get_item_2[<span style=\"color: #00af00; text-decoration-color: #00af00\">0</span>][<span style=\"color: #00af00; text-decoration-color: #00af00\">0</span>]  │\n",
              "├─────────────────────┼───────────────────┼────────────┼───────────────────┤\n",
              "│ bidirectional       │ (<span style=\"color: #00d7ff; text-decoration-color: #00d7ff\">None</span>, <span style=\"color: #00af00; text-decoration-color: #00af00\">128</span>)       │     <span style=\"color: #00af00; text-decoration-color: #00af00\">66,048</span> │ embedding_2[<span style=\"color: #00af00; text-decoration-color: #00af00\">0</span>][<span style=\"color: #00af00; text-decoration-color: #00af00\">0</span>] │\n",
              "│ (<span style=\"color: #0087ff; text-decoration-color: #0087ff\">Bidirectional</span>)     │                   │            │                   │\n",
              "├─────────────────────┼───────────────────┼────────────┼───────────────────┤\n",
              "│ sequential_5        │ (<span style=\"color: #00d7ff; text-decoration-color: #00d7ff\">None</span>, <span style=\"color: #00af00; text-decoration-color: #00af00\">5</span>)         │      <span style=\"color: #00af00; text-decoration-color: #00af00\">3,269</span> │ concatenate_1[<span style=\"color: #00af00; text-decoration-color: #00af00\">0</span>]… │\n",
              "│ (<span style=\"color: #0087ff; text-decoration-color: #0087ff\">Sequential</span>)        │                   │            │                   │\n",
              "├─────────────────────┼───────────────────┼────────────┼───────────────────┤\n",
              "│ dense_18 (<span style=\"color: #0087ff; text-decoration-color: #0087ff\">Dense</span>)    │ (<span style=\"color: #00d7ff; text-decoration-color: #00d7ff\">None</span>, <span style=\"color: #00af00; text-decoration-color: #00af00\">32</span>)        │      <span style=\"color: #00af00; text-decoration-color: #00af00\">4,128</span> │ bidirectional[<span style=\"color: #00af00; text-decoration-color: #00af00\">0</span>]… │\n",
              "├─────────────────────┼───────────────────┼────────────┼───────────────────┤\n",
              "│ concatenate_2       │ (<span style=\"color: #00d7ff; text-decoration-color: #00d7ff\">None</span>, <span style=\"color: #00af00; text-decoration-color: #00af00\">37</span>)        │          <span style=\"color: #00af00; text-decoration-color: #00af00\">0</span> │ sequential_5[<span style=\"color: #00af00; text-decoration-color: #00af00\">0</span>][<span style=\"color: #00af00; text-decoration-color: #00af00\">…</span> │\n",
              "│ (<span style=\"color: #0087ff; text-decoration-color: #0087ff\">Concatenate</span>)       │                   │            │ dense_18[<span style=\"color: #00af00; text-decoration-color: #00af00\">0</span>][<span style=\"color: #00af00; text-decoration-color: #00af00\">0</span>]    │\n",
              "├─────────────────────┼───────────────────┼────────────┼───────────────────┤\n",
              "│ dropout_23          │ (<span style=\"color: #00d7ff; text-decoration-color: #00d7ff\">None</span>, <span style=\"color: #00af00; text-decoration-color: #00af00\">37</span>)        │          <span style=\"color: #00af00; text-decoration-color: #00af00\">0</span> │ concatenate_2[<span style=\"color: #00af00; text-decoration-color: #00af00\">0</span>]… │\n",
              "│ (<span style=\"color: #0087ff; text-decoration-color: #0087ff\">Dropout</span>)           │                   │            │                   │\n",
              "├─────────────────────┼───────────────────┼────────────┼───────────────────┤\n",
              "│ sentiment_output    │ (<span style=\"color: #00d7ff; text-decoration-color: #00d7ff\">None</span>, <span style=\"color: #00af00; text-decoration-color: #00af00\">2</span>)         │         <span style=\"color: #00af00; text-decoration-color: #00af00\">76</span> │ dropout_23[<span style=\"color: #00af00; text-decoration-color: #00af00\">0</span>][<span style=\"color: #00af00; text-decoration-color: #00af00\">0</span>]  │\n",
              "│ (<span style=\"color: #0087ff; text-decoration-color: #0087ff\">Dense</span>)             │                   │            │                   │\n",
              "├─────────────────────┼───────────────────┼────────────┼───────────────────┤\n",
              "│ emotion_output      │ (<span style=\"color: #00d7ff; text-decoration-color: #00d7ff\">None</span>, <span style=\"color: #00af00; text-decoration-color: #00af00\">5</span>)         │        <span style=\"color: #00af00; text-decoration-color: #00af00\">190</span> │ dropout_23[<span style=\"color: #00af00; text-decoration-color: #00af00\">0</span>][<span style=\"color: #00af00; text-decoration-color: #00af00\">0</span>]  │\n",
              "│ (<span style=\"color: #0087ff; text-decoration-color: #0087ff\">Dense</span>)             │                   │            │                   │\n",
              "└─────────────────────┴───────────────────┴────────────┴───────────────────┘\n",
              "</pre>\n"
            ]
          },
          "metadata": {}
        },
        {
          "output_type": "display_data",
          "data": {
            "text/plain": [
              "\u001b[1m Total params: \u001b[0m\u001b[38;5;34m11,258,886\u001b[0m (42.95 MB)\n"
            ],
            "text/html": [
              "<pre style=\"white-space:pre;overflow-x:auto;line-height:normal;font-family:Menlo,'DejaVu Sans Mono',consolas,'Courier New',monospace\"><span style=\"font-weight: bold\"> Total params: </span><span style=\"color: #00af00; text-decoration-color: #00af00\">11,258,886</span> (42.95 MB)\n",
              "</pre>\n"
            ]
          },
          "metadata": {}
        },
        {
          "output_type": "display_data",
          "data": {
            "text/plain": [
              "\u001b[1m Trainable params: \u001b[0m\u001b[38;5;34m11,257,094\u001b[0m (42.94 MB)\n"
            ],
            "text/html": [
              "<pre style=\"white-space:pre;overflow-x:auto;line-height:normal;font-family:Menlo,'DejaVu Sans Mono',consolas,'Courier New',monospace\"><span style=\"font-weight: bold\"> Trainable params: </span><span style=\"color: #00af00; text-decoration-color: #00af00\">11,257,094</span> (42.94 MB)\n",
              "</pre>\n"
            ]
          },
          "metadata": {}
        },
        {
          "output_type": "display_data",
          "data": {
            "text/plain": [
              "\u001b[1m Non-trainable params: \u001b[0m\u001b[38;5;34m1,792\u001b[0m (7.00 KB)\n"
            ],
            "text/html": [
              "<pre style=\"white-space:pre;overflow-x:auto;line-height:normal;font-family:Menlo,'DejaVu Sans Mono',consolas,'Courier New',monospace\"><span style=\"font-weight: bold\"> Non-trainable params: </span><span style=\"color: #00af00; text-decoration-color: #00af00\">1,792</span> (7.00 KB)\n",
              "</pre>\n"
            ]
          },
          "metadata": {}
        }
      ],
      "source": [
        "from tensorflow.keras.models import Model\n",
        "from tensorflow.keras.layers import Input, Dense, Dropout, Concatenate, Bidirectional, Embedding, LSTM\n",
        "\n",
        "# Inputs\n",
        "image_input = Input(shape=(48, 48, 1), name=\"image_input\")\n",
        "text_input = Input(shape=(100,), name=\"text_input\")\n",
        "\n",
        "# --- IMAGE BRANCH ---\n",
        "# Predict emotion vector from meta-CNN\n",
        "fer_output = fer_model(image_input)\n",
        "raf_output = raf_model(image_input)\n",
        "ferplus_output = ferplus_model(image_input)\n",
        "\n",
        "# Use only 5 shared classes\n",
        "fer_soft = fer_output[:, :5]\n",
        "raf_soft = raf_output[:, :5]\n",
        "ferplus_soft = ferplus_output[:, :5]\n",
        "\n",
        "# Concatenate all CNN outputs → pass through meta-classifier\n",
        "meta_input = Concatenate()([fer_soft, raf_soft, ferplus_soft])\n",
        "emotion_vector = meta_model_v2(meta_input)\n",
        "\n",
        "# --- TEXT BRANCH (LSTM) ---\n",
        "embedding = tokenizer.texts_to_sequences([\"dummy\"])  # ensure tokenizer exists\n",
        "embedding_layer = Embedding(input_dim=10000, output_dim=64, input_length=100)(text_input)\n",
        "text_features = Bidirectional(LSTM(64))(embedding_layer)\n",
        "text_vector = Dense(32, activation='relu')(text_features)\n",
        "\n",
        "# --- FUSION + OUTPUTS ---\n",
        "fused = Concatenate()([emotion_vector, text_vector])\n",
        "fused = Dropout(0.4)(fused)\n",
        "\n",
        "# Dual outputs\n",
        "output_sentiment = Dense(2, activation='softmax', name='sentiment_output')\n",
        "output_emotion   = Dense(5, activation='softmax', name='emotion_output')\n",
        "\n",
        "# Build model\n",
        "fusion_model = Model(inputs=[image_input, text_input],\n",
        "                     outputs=[output_sentiment(fused), output_emotion(fused)])\n",
        "\n",
        "fusion_model.compile(optimizer='adam',\n",
        "                     loss={'sentiment_output': 'categorical_crossentropy',\n",
        "                           'emotion_output': 'categorical_crossentropy'},\n",
        "                     metrics={'sentiment_output': 'accuracy',\n",
        "                              'emotion_output': 'accuracy'})\n",
        "\n",
        "fusion_model.summary()\n"
      ]
    },
    {
      "cell_type": "markdown",
      "source": [
        "### Preparing Input and Output Tensors for Multimodal Fusion Training\n",
        "\n",
        "This section processes the raw multimodal dataset to produce properly formatted image, text, and label arrays for training the fusion model.\n",
        "\n",
        "#### Label Mappings\n",
        "\n",
        "* Two dictionaries map string labels to integers:\n",
        "\n",
        "  * `emotion_map`: Maps 5 core emotions to integer class indices.\n",
        "  * `sentiment_map`: Maps binary sentiment (negative/positive) to 0 and 1.\n",
        "\n",
        "#### Dataset Assembly & Filtering\n",
        "\n",
        "* The `fusion_dataset` is built as a list of tuples: `(image, text, emotion_label, sentiment_label)`.\n",
        "* A filter removes any samples whose emotion label is not one of the 5 supported classes (`angry`, `disgust`, `fear`, `happy`, `sad`), ensuring consistency with the model’s expected outputs.\n",
        "\n",
        "#### Input and Label Encoding\n",
        "\n",
        "* **Image Input (`X_img`)**: Converted to a NumPy array and reshaped to `(samples, 48, 48, 1)` for CNN input.\n",
        "* **Text Input (`X_text`)**: Text data is tokenized and padded to a fixed sequence length (`maxlen=100`).\n",
        "* **Emotion Output (`y_emotion`)**: Emotion strings are converted to integers using `emotion_map`, then one-hot encoded for 5-class classification.\n",
        "* **Sentiment Output (`y_sentiment`)**: Binary sentiment labels are mapped and one-hot encoded for 2-class classification.\n",
        "\n",
        "The resulting tensors are now ready to be used for training the multimodal fusion model."
      ],
      "metadata": {
        "id": "gcD4tzUWDf3c"
      }
    },
    {
      "cell_type": "code",
      "execution_count": null,
      "metadata": {
        "id": "x1uhviFpUF3Z"
      },
      "outputs": [],
      "source": [
        "# Define a consistent emotion label mapping\n",
        "emotion_map = {'angry': 0, 'disgust': 1, 'fear': 2, 'happy': 3, 'sad': 4}\n",
        "sentiment_map = {'negative': 0, 'positive': 1}"
      ]
    },
    {
      "cell_type": "code",
      "execution_count": null,
      "metadata": {
        "id": "eEut6lspV_nu"
      },
      "outputs": [],
      "source": [
        "fusion_dataset = [\n",
        "    (X_img[i], texts[i], fer_sample['emotion_label'].iloc[i], sentiment_sample['sentiment_label'].iloc[i])\n",
        "    for i in range(len(X_img))\n",
        "]  # Replace with your actual dataset creation logic\n",
        "\n",
        "allowed_emotions = list(emotion_map.keys())\n",
        "fusion_dataset = [pair for pair in fusion_dataset if pair[2] in allowed_emotions]"
      ]
    },
    {
      "cell_type": "code",
      "execution_count": null,
      "metadata": {
        "colab": {
          "base_uri": "https://localhost:8080/"
        },
        "id": "ZgLDRKAsT9FG",
        "outputId": "0b769b08-d965-43e7-fc37-5a3ce9636b00"
      },
      "outputs": [
        {
          "output_type": "stream",
          "name": "stdout",
          "text": [
            "Inputs: (7203, 48, 48, 1) (7203, 100)\n",
            "Outputs: (7203, 2) (7203, 5)\n"
          ]
        }
      ],
      "source": [
        "# Assuming fusion_dataset from earlier has: (image, text, emotion_label, sentiment_label)\n",
        "\n",
        "import numpy as np\n",
        "from tensorflow.keras.utils import to_categorical\n",
        "\n",
        "X_img = np.array([pair[0] for pair in fusion_dataset]).reshape(-1, 48, 48, 1)\n",
        "X_text = tokenizer.texts_to_sequences([pair[1] for pair in fusion_dataset])\n",
        "X_text = pad_sequences(X_text, maxlen=100)\n",
        "\n",
        "# Emotion: already 0-4 (5-class)\n",
        "# Convert emotion strings to integers\n",
        "y_emotion = to_categorical([emotion_map[pair[2]] for pair in fusion_dataset], num_classes=5)\n",
        "\n",
        "# Sentiment: 0 = neg, 1 = pos (binary)\n",
        "y_sentiment = to_categorical([sentiment_map[pair[3]] for pair in fusion_dataset], num_classes=2)\n",
        "\n",
        "print(\"Inputs:\", X_img.shape, X_text.shape)\n",
        "print(\"Outputs:\", y_sentiment.shape, y_emotion.shape)\n"
      ]
    },
    {
      "cell_type": "markdown",
      "source": [
        "### Training the Multimodal Fusion Model\n",
        "\n",
        "This cell initiates training for the **multimodal fusion model**, which jointly predicts both sentiment and emotion using image and text inputs:\n",
        "\n",
        "* **Inputs**:\n",
        "\n",
        "  * `X_img`: Grayscale facial images of shape `(48, 48, 1)`\n",
        "  * `X_text`: Tokenized and padded text sequences\n",
        "* **Outputs**:\n",
        "\n",
        "  * `sentiment_output`: Binary sentiment classification (negative/positive)\n",
        "  * `emotion_output`: 5-class emotion classification\n",
        "\n",
        "#### Training Configuration:\n",
        "\n",
        "* `validation_split=0.2`: Reserves 20% of data for validation\n",
        "* `epochs=20`: Runs training for 20 full passes over the dataset\n",
        "* `batch_size=32`: Trains on batches of 32 samples for efficiency\n",
        "\n",
        "The `history` object stores training and validation performance metrics for both outputs, which can be visualized afterward to assess learning progress."
      ],
      "metadata": {
        "id": "5NX1C6FgDwj-"
      }
    },
    {
      "cell_type": "code",
      "execution_count": null,
      "metadata": {
        "colab": {
          "base_uri": "https://localhost:8080/"
        },
        "id": "QmzG9w9EUVjE",
        "outputId": "3821290c-164f-4129-9536-38fc443700c4"
      },
      "outputs": [
        {
          "output_type": "stream",
          "name": "stdout",
          "text": [
            "Epoch 1/20\n",
            "\u001b[1m181/181\u001b[0m \u001b[32m━━━━━━━━━━━━━━━━━━━━\u001b[0m\u001b[37m\u001b[0m \u001b[1m22s\u001b[0m 60ms/step - emotion_output_accuracy: 0.3257 - emotion_output_loss: 1.4880 - loss: 2.2038 - sentiment_output_accuracy: 0.5117 - sentiment_output_loss: 0.7158 - val_emotion_output_accuracy: 0.3380 - val_emotion_output_loss: 1.3957 - val_loss: 2.0817 - val_sentiment_output_accuracy: 0.5232 - val_sentiment_output_loss: 0.6933\n",
            "Epoch 2/20\n",
            "\u001b[1m181/181\u001b[0m \u001b[32m━━━━━━━━━━━━━━━━━━━━\u001b[0m\u001b[37m\u001b[0m \u001b[1m10s\u001b[0m 53ms/step - emotion_output_accuracy: 0.4185 - emotion_output_loss: 1.3651 - loss: 2.0682 - sentiment_output_accuracy: 0.4934 - sentiment_output_loss: 0.7031 - val_emotion_output_accuracy: 0.3782 - val_emotion_output_loss: 1.3715 - val_loss: 2.0596 - val_sentiment_output_accuracy: 0.5128 - val_sentiment_output_loss: 0.6942\n",
            "Epoch 3/20\n",
            "\u001b[1m181/181\u001b[0m \u001b[32m━━━━━━━━━━━━━━━━━━━━\u001b[0m\u001b[37m\u001b[0m \u001b[1m10s\u001b[0m 53ms/step - emotion_output_accuracy: 0.4400 - emotion_output_loss: 1.2947 - loss: 1.9699 - sentiment_output_accuracy: 0.5794 - sentiment_output_loss: 0.6752 - val_emotion_output_accuracy: 0.2859 - val_emotion_output_loss: 1.4592 - val_loss: 2.1945 - val_sentiment_output_accuracy: 0.4955 - val_sentiment_output_loss: 0.7192\n",
            "Epoch 4/20\n",
            "\u001b[1m181/181\u001b[0m \u001b[32m━━━━━━━━━━━━━━━━━━━━\u001b[0m\u001b[37m\u001b[0m \u001b[1m9s\u001b[0m 52ms/step - emotion_output_accuracy: 0.5172 - emotion_output_loss: 1.1572 - loss: 1.7586 - sentiment_output_accuracy: 0.6780 - sentiment_output_loss: 0.6014 - val_emotion_output_accuracy: 0.4303 - val_emotion_output_loss: 1.4397 - val_loss: 2.2020 - val_sentiment_output_accuracy: 0.4885 - val_sentiment_output_loss: 0.7701\n",
            "Epoch 5/20\n",
            "\u001b[1m181/181\u001b[0m \u001b[32m━━━━━━━━━━━━━━━━━━━━\u001b[0m\u001b[37m\u001b[0m \u001b[1m9s\u001b[0m 52ms/step - emotion_output_accuracy: 0.6460 - emotion_output_loss: 0.9394 - loss: 1.4379 - sentiment_output_accuracy: 0.7607 - sentiment_output_loss: 0.4985 - val_emotion_output_accuracy: 0.4018 - val_emotion_output_loss: 1.5197 - val_loss: 2.4145 - val_sentiment_output_accuracy: 0.4948 - val_sentiment_output_loss: 0.9088\n",
            "Epoch 6/20\n",
            "\u001b[1m181/181\u001b[0m \u001b[32m━━━━━━━━━━━━━━━━━━━━\u001b[0m\u001b[37m\u001b[0m \u001b[1m10s\u001b[0m 52ms/step - emotion_output_accuracy: 0.7331 - emotion_output_loss: 0.7316 - loss: 1.1546 - sentiment_output_accuracy: 0.8108 - sentiment_output_loss: 0.4230 - val_emotion_output_accuracy: 0.3491 - val_emotion_output_loss: 1.8119 - val_loss: 2.7980 - val_sentiment_output_accuracy: 0.5010 - val_sentiment_output_loss: 1.0156\n",
            "Epoch 7/20\n",
            "\u001b[1m181/181\u001b[0m \u001b[32m━━━━━━━━━━━━━━━━━━━━\u001b[0m\u001b[37m\u001b[0m \u001b[1m9s\u001b[0m 52ms/step - emotion_output_accuracy: 0.8050 - emotion_output_loss: 0.5776 - loss: 0.8984 - sentiment_output_accuracy: 0.8599 - sentiment_output_loss: 0.3209 - val_emotion_output_accuracy: 0.2651 - val_emotion_output_loss: 2.2801 - val_loss: 3.6158 - val_sentiment_output_accuracy: 0.4962 - val_sentiment_output_loss: 1.3455\n",
            "Epoch 8/20\n",
            "\u001b[1m181/181\u001b[0m \u001b[32m━━━━━━━━━━━━━━━━━━━━\u001b[0m\u001b[37m\u001b[0m \u001b[1m10s\u001b[0m 53ms/step - emotion_output_accuracy: 0.8130 - emotion_output_loss: 0.5323 - loss: 0.8055 - sentiment_output_accuracy: 0.8797 - sentiment_output_loss: 0.2731 - val_emotion_output_accuracy: 0.2838 - val_emotion_output_loss: 2.4379 - val_loss: 3.8240 - val_sentiment_output_accuracy: 0.5031 - val_sentiment_output_loss: 1.4482\n",
            "Epoch 9/20\n",
            "\u001b[1m181/181\u001b[0m \u001b[32m━━━━━━━━━━━━━━━━━━━━\u001b[0m\u001b[37m\u001b[0m \u001b[1m9s\u001b[0m 52ms/step - emotion_output_accuracy: 0.8651 - emotion_output_loss: 0.3877 - loss: 0.6110 - sentiment_output_accuracy: 0.9020 - sentiment_output_loss: 0.2233 - val_emotion_output_accuracy: 0.2935 - val_emotion_output_loss: 2.5626 - val_loss: 4.1089 - val_sentiment_output_accuracy: 0.4969 - val_sentiment_output_loss: 1.5973\n",
            "Epoch 10/20\n",
            "\u001b[1m181/181\u001b[0m \u001b[32m━━━━━━━━━━━━━━━━━━━━\u001b[0m\u001b[37m\u001b[0m \u001b[1m10s\u001b[0m 52ms/step - emotion_output_accuracy: 0.8573 - emotion_output_loss: 0.4067 - loss: 0.6192 - sentiment_output_accuracy: 0.9070 - sentiment_output_loss: 0.2125 - val_emotion_output_accuracy: 0.3289 - val_emotion_output_loss: 2.7590 - val_loss: 4.3434 - val_sentiment_output_accuracy: 0.5128 - val_sentiment_output_loss: 1.6802\n",
            "Epoch 11/20\n",
            "\u001b[1m181/181\u001b[0m \u001b[32m━━━━━━━━━━━━━━━━━━━━\u001b[0m\u001b[37m\u001b[0m \u001b[1m10s\u001b[0m 53ms/step - emotion_output_accuracy: 0.8972 - emotion_output_loss: 0.3027 - loss: 0.4916 - sentiment_output_accuracy: 0.9194 - sentiment_output_loss: 0.1889 - val_emotion_output_accuracy: 0.3123 - val_emotion_output_loss: 3.0652 - val_loss: 4.8402 - val_sentiment_output_accuracy: 0.5073 - val_sentiment_output_loss: 1.8425\n",
            "Epoch 12/20\n",
            "\u001b[1m181/181\u001b[0m \u001b[32m━━━━━━━━━━━━━━━━━━━━\u001b[0m\u001b[37m\u001b[0m \u001b[1m10s\u001b[0m 52ms/step - emotion_output_accuracy: 0.9047 - emotion_output_loss: 0.2656 - loss: 0.4201 - sentiment_output_accuracy: 0.9386 - sentiment_output_loss: 0.1545 - val_emotion_output_accuracy: 0.3046 - val_emotion_output_loss: 3.2337 - val_loss: 5.2040 - val_sentiment_output_accuracy: 0.5038 - val_sentiment_output_loss: 2.0415\n",
            "Epoch 13/20\n",
            "\u001b[1m181/181\u001b[0m \u001b[32m━━━━━━━━━━━━━━━━━━━━\u001b[0m\u001b[37m\u001b[0m \u001b[1m10s\u001b[0m 53ms/step - emotion_output_accuracy: 0.9051 - emotion_output_loss: 0.2681 - loss: 0.4233 - sentiment_output_accuracy: 0.9309 - sentiment_output_loss: 0.1553 - val_emotion_output_accuracy: 0.3040 - val_emotion_output_loss: 3.6001 - val_loss: 5.8636 - val_sentiment_output_accuracy: 0.5038 - val_sentiment_output_loss: 2.3496\n",
            "Epoch 14/20\n",
            "\u001b[1m181/181\u001b[0m \u001b[32m━━━━━━━━━━━━━━━━━━━━\u001b[0m\u001b[37m\u001b[0m \u001b[1m10s\u001b[0m 53ms/step - emotion_output_accuracy: 0.9135 - emotion_output_loss: 0.2490 - loss: 0.3764 - sentiment_output_accuracy: 0.9435 - sentiment_output_loss: 0.1274 - val_emotion_output_accuracy: 0.2783 - val_emotion_output_loss: 3.7806 - val_loss: 6.1028 - val_sentiment_output_accuracy: 0.5142 - val_sentiment_output_loss: 2.3978\n",
            "Epoch 15/20\n",
            "\u001b[1m181/181\u001b[0m \u001b[32m━━━━━━━━━━━━━━━━━━━━\u001b[0m\u001b[37m\u001b[0m \u001b[1m10s\u001b[0m 53ms/step - emotion_output_accuracy: 0.9166 - emotion_output_loss: 0.2343 - loss: 0.3558 - sentiment_output_accuracy: 0.9444 - sentiment_output_loss: 0.1215 - val_emotion_output_accuracy: 0.3067 - val_emotion_output_loss: 3.9204 - val_loss: 6.2344 - val_sentiment_output_accuracy: 0.5080 - val_sentiment_output_loss: 2.3918\n",
            "Epoch 16/20\n",
            "\u001b[1m181/181\u001b[0m \u001b[32m━━━━━━━━━━━━━━━━━━━━\u001b[0m\u001b[37m\u001b[0m \u001b[1m10s\u001b[0m 53ms/step - emotion_output_accuracy: 0.9173 - emotion_output_loss: 0.2182 - loss: 0.3326 - sentiment_output_accuracy: 0.9514 - sentiment_output_loss: 0.1144 - val_emotion_output_accuracy: 0.3123 - val_emotion_output_loss: 4.1000 - val_loss: 6.6392 - val_sentiment_output_accuracy: 0.5142 - val_sentiment_output_loss: 2.6413\n",
            "Epoch 17/20\n",
            "\u001b[1m181/181\u001b[0m \u001b[32m━━━━━━━━━━━━━━━━━━━━\u001b[0m\u001b[37m\u001b[0m \u001b[1m10s\u001b[0m 52ms/step - emotion_output_accuracy: 0.9277 - emotion_output_loss: 0.1965 - loss: 0.3023 - sentiment_output_accuracy: 0.9523 - sentiment_output_loss: 0.1059 - val_emotion_output_accuracy: 0.2984 - val_emotion_output_loss: 4.4927 - val_loss: 7.2515 - val_sentiment_output_accuracy: 0.5087 - val_sentiment_output_loss: 2.9034\n",
            "Epoch 18/20\n",
            "\u001b[1m181/181\u001b[0m \u001b[32m━━━━━━━━━━━━━━━━━━━━\u001b[0m\u001b[37m\u001b[0m \u001b[1m9s\u001b[0m 52ms/step - emotion_output_accuracy: 0.9330 - emotion_output_loss: 0.1893 - loss: 0.2961 - sentiment_output_accuracy: 0.9494 - sentiment_output_loss: 0.1068 - val_emotion_output_accuracy: 0.3171 - val_emotion_output_loss: 4.5473 - val_loss: 7.2774 - val_sentiment_output_accuracy: 0.5115 - val_sentiment_output_loss: 2.9089\n",
            "Epoch 19/20\n",
            "\u001b[1m181/181\u001b[0m \u001b[32m━━━━━━━━━━━━━━━━━━━━\u001b[0m\u001b[37m\u001b[0m \u001b[1m10s\u001b[0m 53ms/step - emotion_output_accuracy: 0.9398 - emotion_output_loss: 0.1721 - loss: 0.2694 - sentiment_output_accuracy: 0.9516 - sentiment_output_loss: 0.0974 - val_emotion_output_accuracy: 0.3109 - val_emotion_output_loss: 4.6304 - val_loss: 7.5866 - val_sentiment_output_accuracy: 0.5128 - val_sentiment_output_loss: 3.1502\n",
            "Epoch 20/20\n",
            "\u001b[1m181/181\u001b[0m \u001b[32m━━━━━━━━━━━━━━━━━━━━\u001b[0m\u001b[37m\u001b[0m \u001b[1m10s\u001b[0m 53ms/step - emotion_output_accuracy: 0.9414 - emotion_output_loss: 0.1668 - loss: 0.2619 - sentiment_output_accuracy: 0.9567 - sentiment_output_loss: 0.0951 - val_emotion_output_accuracy: 0.2915 - val_emotion_output_loss: 5.1353 - val_loss: 8.3868 - val_sentiment_output_accuracy: 0.5038 - val_sentiment_output_loss: 3.4460\n"
          ]
        }
      ],
      "source": [
        "history = fusion_model.fit(\n",
        "    [X_img, X_text],\n",
        "    {\"sentiment_output\": y_sentiment, \"emotion_output\": y_emotion},\n",
        "    validation_split=0.2,\n",
        "    epochs=20,\n",
        "    batch_size=32\n",
        ")\n"
      ]
    },
    {
      "cell_type": "markdown",
      "source": [
        "### Visualizing Training Accuracy for Multimodal Fusion Model\n",
        "\n",
        "This section plots the training and validation accuracy curves for both prediction tasks — **emotion classification** and **sentiment analysis** — over the course of training:\n",
        "\n",
        "* **Left Plot – Emotion Accuracy**:\n",
        "\n",
        "  * Shows how well the model learned to classify facial emotions across epochs.\n",
        "  * Compares training accuracy to validation accuracy to monitor generalization.\n",
        "\n",
        "* **Right Plot – Sentiment Accuracy**:\n",
        "\n",
        "  * Tracks the model’s ability to interpret sentiment from text.\n",
        "  * Also compares performance on training vs. validation data.\n",
        "\n",
        "These plots are useful for identifying underfitting, overfitting, or balanced learning and help guide further model tuning or regularization strategies."
      ],
      "metadata": {
        "id": "Ysc3mMpDD5I-"
      }
    },
    {
      "cell_type": "code",
      "execution_count": null,
      "metadata": {
        "colab": {
          "base_uri": "https://localhost:8080/",
          "height": 413
        },
        "id": "NGCOHgfiu8e3",
        "outputId": "c5287d6c-63f2-43d0-fbd5-610123c599f0"
      },
      "outputs": [
        {
          "output_type": "display_data",
          "data": {
            "text/plain": [
              "<Figure size 1200x400 with 2 Axes>"
            ],
            "image/png": "[encoded data removed]"
          },
          "metadata": {}
        }
      ],
      "source": [
        "import matplotlib.pyplot as plt\n",
        "\n",
        "# Get training history for emotion and sentiment\n",
        "emotion_acc = history.history['emotion_output_accuracy']\n",
        "emotion_val_acc = history.history['val_emotion_output_accuracy']\n",
        "sentiment_acc = history.history['sentiment_output_accuracy']\n",
        "sentiment_val_acc = history.history['val_sentiment_output_accuracy']\n",
        "\n",
        "epochs = range(1, len(emotion_acc) + 1)\n",
        "\n",
        "# Create subplots\n",
        "fig, axes = plt.subplots(1, 2, figsize=(12, 4))\n",
        "\n",
        "# Emotion Accuracy Plot\n",
        "axes[0].plot(epochs, emotion_acc, label='Train Accuracy')\n",
        "axes[0].plot(epochs, emotion_val_acc, label='Val Accuracy')\n",
        "axes[0].set_title('Emotion Accuracy')\n",
        "axes[0].set_xlabel('Epoch')\n",
        "axes[0].set_ylabel('Accuracy')\n",
        "axes[0].legend()\n",
        "axes[0].grid(True)\n",
        "\n",
        "# Sentiment Accuracy Plot\n",
        "axes[1].plot(epochs, sentiment_acc, label='Train Accuracy')\n",
        "axes[1].plot(epochs, sentiment_val_acc, label='Val Accuracy')\n",
        "axes[1].set_title('Sentiment Accuracy')\n",
        "axes[1].set_xlabel('Epoch')\n",
        "axes[1].set_ylabel('Accuracy')\n",
        "axes[1].legend()\n",
        "axes[1].grid(True)\n",
        "\n",
        "plt.suptitle(\"Training History\", fontsize=14)\n",
        "plt.tight_layout()\n",
        "plt.show()"
      ]
    },
    {
      "cell_type": "markdown",
      "source": [
        "### Final Evaluation on Full Multimodal Dataset\n",
        "\n",
        "This cell evaluates the trained **fusion model** on the complete dataset (no validation split), providing final performance metrics for both tasks:\n",
        "\n",
        "* **Inputs**: Image and text data used during training (`X_img`, `X_text`)\n",
        "* **Outputs**:\n",
        "\n",
        "  * `sentiment_output`: Binary sentiment prediction\n",
        "  * `emotion_output`: 5-class emotion prediction\n",
        "\n",
        "The `evaluate()` method returns a list of loss and metric values. The printed results display:\n",
        "\n",
        "* **Sentiment Accuracy**: Final classification accuracy for predicting positive/negative sentiment.\n",
        "* **Emotion Accuracy**: Final classification accuracy for predicting one of the 5 emotion classes.\n",
        "\n",
        "These metrics summarize how well the multimodal model performs after full training on all available labeled data."
      ],
      "metadata": {
        "id": "63wfTzISEFJ3"
      }
    },
    {
      "cell_type": "code",
      "execution_count": null,
      "metadata": {
        "colab": {
          "base_uri": "https://localhost:8080/"
        },
        "id": "dI-YU5wzUnwR",
        "outputId": "9360ddde-f4de-4c3c-e9d1-67c0a6b9a3b1"
      },
      "outputs": [
        {
          "output_type": "stream",
          "name": "stdout",
          "text": [
            "\u001b[1m226/226\u001b[0m \u001b[32m━━━━━━━━━━━━━━━━━━━━\u001b[0m\u001b[37m\u001b[0m \u001b[1m3s\u001b[0m 13ms/step - emotion_output_accuracy: 0.9524 - emotion_output_loss: 0.2066 - loss: 0.3383 - sentiment_output_accuracy: 0.9592 - sentiment_output_loss: 0.1322\n",
            "\n",
            "🧪 Final Results:\n",
            " - Sentiment Accuracy: 83.13%\n",
            " - Emotion Accuracy:   87.49%\n"
          ]
        }
      ],
      "source": [
        "results = fusion_model.evaluate(\n",
        "    [X_img, X_text],\n",
        "    {\"sentiment_output\": y_sentiment, \"emotion_output\": y_emotion},\n",
        "    verbose=1\n",
        ")\n",
        "\n",
        "print(f\"\\n Final Results:\")\n",
        "print(f\" - Sentiment Accuracy: {results[3] * 100:.2f}%\")\n",
        "print(f\" - Emotion Accuracy:   {results[4] * 100:.2f}%\")\n"
      ]
    },
    {
      "cell_type": "code",
      "execution_count": null,
      "metadata": {
        "id": "r5RYy4SXUuDR"
      },
      "outputs": [],
      "source": [
        "fusion_model.save(\"/content/drive/MyDrive/fusion_emotion_sentiment_model_1.keras\")"
      ]
    },
    {
      "cell_type": "markdown",
      "source": [
        "#### Evaluating the Final Trained Fusion Model (Best Results)\n",
        "\n",
        "This section loads the best-performing saved fusion model (`fusion_emotion_sentiment_model_1.keras`) and performs visual inspection, batch evaluation, and detailed classification reporting.\n",
        "\n",
        "---\n",
        "\n",
        "#### Random Sample Prediction + Visualization\n",
        "\n",
        "* A random image-text pair from the dataset is selected.\n",
        "* The fusion model predicts both **emotion** and **sentiment**.\n",
        "* The image is displayed along with the predicted labels overlaid in the title for quick, intuitive verification.\n",
        "\n",
        "---\n",
        "\n",
        "#### Batch Evaluation on Full Dataset\n",
        "\n",
        "* All image and text pairs are passed through the model to generate predictions.\n",
        "* Final **accuracy scores** are computed for both:\n",
        "\n",
        "  * `Sentiment`: Binary classification accuracy.\n",
        "  * `Emotion`: 5-class emotion classification accuracy.\n",
        "* Uses `accuracy_score` from `sklearn` for precise measurement.\n",
        "\n",
        "---\n",
        "\n",
        "#### Classification Reports & Confusion Matrices\n",
        "\n",
        "* **Classification reports** provide precision, recall, F1-score, and support for each class in both tasks.\n",
        "* **Confusion matrices** offer a visual representation of how often each class was correctly or incorrectly predicted:\n",
        "\n",
        "  * Emotion matrix uses a **Blues** colormap.\n",
        "  * Sentiment matrix uses a **Greens** colormap.\n",
        "* These tools are critical for analyzing model behavior, especially to understand confusion between similar classes (e.g., fear vs. sad).\n",
        "\n",
        "Together, these evaluations give a full picture of the fusion model’s real-world performance."
      ],
      "metadata": {
        "id": "c52OZDlKikya"
      }
    },
    {
      "cell_type": "markdown",
      "metadata": {
        "id": "lbfLPkhEXAHj"
      },
      "source": [
        "# USE THIS ONE INSTEAD (BEST RESULTS)"
      ]
    },
    {
      "cell_type": "code",
      "execution_count": null,
      "metadata": {
        "id": "khK3V8keW9eM"
      },
      "outputs": [],
      "source": [
        "from tensorflow.keras.models import load_model\n",
        "\n",
        "fusion_model = load_model(\"/content/drive/MyDrive/fusion_emotion_sentiment_model_1.keras\")\n"
      ]
    },
    {
      "cell_type": "code",
      "execution_count": null,
      "metadata": {
        "colab": {
          "base_uri": "https://localhost:8080/",
          "height": 446
        },
        "id": "pj6sWpMcXLyP",
        "outputId": "e684ba32-e6d7-4e12-9266-c16a9d752917"
      },
      "outputs": [
        {
          "output_type": "stream",
          "name": "stdout",
          "text": [
            "\u001b[1m1/1\u001b[0m \u001b[32m━━━━━━━━━━━━━━━━━━━━\u001b[0m\u001b[37m\u001b[0m \u001b[1m1s\u001b[0m 508ms/step\n"
          ]
        },
        {
          "output_type": "display_data",
          "data": {
            "text/plain": [
              "<Figure size 640x480 with 1 Axes>"
            ],
            "image/png": "[encoded data removed]"
          },
          "metadata": {}
        }
      ],
      "source": [
        "import matplotlib.pyplot as plt\n",
        "\n",
        "# Random sample index\n",
        "i = np.random.randint(len(X_img))\n",
        "\n",
        "# Predict\n",
        "img = X_img[i].reshape(1, 48, 48, 1)\n",
        "text = X_text[i].reshape(1, 100)\n",
        "sent_pred, emo_pred = fusion_model.predict([img, text])\n",
        "\n",
        "# Get predictions\n",
        "emo = ['angry', 'disgust', 'fear', 'happy', 'sad'][np.argmax(emo_pred)]\n",
        "sent = ['negative', 'positive'][np.argmax(sent_pred)]\n",
        "\n",
        "# Show image and results\n",
        "plt.imshow(X_img[i].squeeze(), cmap='gray')\n",
        "plt.title(f\"Emotion: {emo.upper()}, Sentiment: {sent.upper()}\")\n",
        "plt.axis('off')\n",
        "plt.show()\n"
      ]
    },
    {
      "cell_type": "code",
      "execution_count": null,
      "metadata": {
        "colab": {
          "base_uri": "https://localhost:8080/"
        },
        "id": "iGUZPInwatT9",
        "outputId": "55bb39da-b9bf-47e7-9f80-5237d64ce695"
      },
      "outputs": [
        {
          "output_type": "stream",
          "name": "stdout",
          "text": [
            "\u001b[1m226/226\u001b[0m \u001b[32m━━━━━━━━━━━━━━━━━━━━\u001b[0m\u001b[37m\u001b[0m \u001b[1m3s\u001b[0m 9ms/step\n",
            "Sentiment Accuracy: 87.39414133000139\n",
            "Emotion Accuracy: 80.98014716090518\n"
          ]
        }
      ],
      "source": [
        "sentiment_pred, emotion_pred = fusion_model.predict([X_img, X_text])\n",
        "\n",
        "from sklearn.metrics import accuracy_score\n",
        "print(\"Sentiment Accuracy:\", accuracy_score(np.argmax(y_sentiment, axis=1), np.argmax(sentiment_pred, axis=1)) * 100)\n",
        "print(\"Emotion Accuracy:\", accuracy_score(np.argmax(y_emotion, axis=1), np.argmax(emotion_pred, axis=1)) * 100)\n"
      ]
    },
    {
      "cell_type": "code",
      "execution_count": null,
      "metadata": {
        "colab": {
          "base_uri": "https://localhost:8080/",
          "height": 1000
        },
        "id": "3A9AmYFsbLhm",
        "outputId": "dc44967c-5226-4139-d0eb-868697675012"
      },
      "outputs": [
        {
          "output_type": "stream",
          "name": "stdout",
          "text": [
            "\u001b[1m226/226\u001b[0m \u001b[32m━━━━━━━━━━━━━━━━━━━━\u001b[0m\u001b[37m\u001b[0m \u001b[1m2s\u001b[0m 9ms/step\n",
            "🎭 Emotion Report\n",
            "              precision    recall  f1-score   support\n",
            "\n",
            "       angry       0.81      0.77      0.79      1384\n",
            "     disgust       0.61      0.32      0.42       135\n",
            "        fear       0.74      0.80      0.77      1438\n",
            "       happy       0.85      0.86      0.85      2520\n",
            "         sad       0.82      0.82      0.82      1726\n",
            "\n",
            "    accuracy                           0.81      7203\n",
            "   macro avg       0.77      0.71      0.73      7203\n",
            "weighted avg       0.81      0.81      0.81      7203\n",
            "\n",
            "\n",
            "💬 Sentiment Report\n",
            "              precision    recall  f1-score   support\n",
            "\n",
            "    negative       0.85      0.91      0.88      3600\n",
            "    positive       0.90      0.84      0.87      3603\n",
            "\n",
            "    accuracy                           0.87      7203\n",
            "   macro avg       0.88      0.87      0.87      7203\n",
            "weighted avg       0.88      0.87      0.87      7203\n",
            "\n"
          ]
        },
        {
          "output_type": "display_data",
          "data": {
            "text/plain": [
              "<Figure size 600x500 with 2 Axes>"
            ],
            "image/png": "[encoded data removed]"
          },
          "metadata": {}
        },
        {
          "output_type": "display_data",
          "data": {
            "text/plain": [
              "<Figure size 400x400 with 2 Axes>"
            ],
            "image/png": "[encoded data removed]"
          },
          "metadata": {}
        }
      ],
      "source": [
        "from sklearn.metrics import classification_report, confusion_matrix, ConfusionMatrixDisplay\n",
        "import matplotlib.pyplot as plt\n",
        "import numpy as np\n",
        "\n",
        "# Predictions\n",
        "sentiment_pred, emotion_pred = fusion_model.predict([X_img, X_text])\n",
        "y_true_sent = np.argmax(y_sentiment, axis=1)\n",
        "y_pred_sent = np.argmax(sentiment_pred, axis=1)\n",
        "y_true_emo = np.argmax(y_emotion, axis=1)\n",
        "y_pred_emo = np.argmax(emotion_pred, axis=1)\n",
        "\n",
        "# Reports\n",
        "print(\"🎭 Emotion Report\")\n",
        "print(classification_report(y_true_emo, y_pred_emo, target_names=['angry', 'disgust', 'fear', 'happy', 'sad']))\n",
        "\n",
        "print(\"\\n💬 Sentiment Report\")\n",
        "print(classification_report(y_true_sent, y_pred_sent, target_names=['negative', 'positive']))\n",
        "\n",
        "# Confusion Matrices\n",
        "disp_emo = ConfusionMatrixDisplay(confusion_matrix(y_true_emo, y_pred_emo), display_labels=['angry', 'disgust', 'fear', 'happy', 'sad'])\n",
        "disp_sent = ConfusionMatrixDisplay(confusion_matrix(y_true_sent, y_pred_sent), display_labels=['negative', 'positive'])\n",
        "\n",
        "plt.figure(figsize=(6,5))\n",
        "disp_emo.plot(cmap='Blues', ax=plt.gca())\n",
        "plt.title(\"Emotion Confusion Matrix\")\n",
        "plt.tight_layout()\n",
        "plt.show()\n",
        "\n",
        "plt.figure(figsize=(4,4))\n",
        "disp_sent.plot(cmap='Greens', ax=plt.gca())\n",
        "plt.title(\"Sentiment Confusion Matrix\")\n",
        "plt.tight_layout()\n",
        "plt.show()\n"
      ]
    },
    {
      "cell_type": "markdown",
      "source": [
        "#### Visual Debugging: Side-by-Side Prediction vs. Ground Truth\n",
        "\n",
        "This cell provides a **qualitative diagnostic tool** to visually inspect how well the fusion model performs on individual samples:\n",
        "\n",
        "* A **random image-caption pair** is selected from the dataset.\n",
        "* Both **predicted** and **true labels** are shown for:\n",
        "\n",
        "  * **Emotion** (from facial image)\n",
        "  * **Sentiment** (from text)\n",
        "* The corresponding text caption is displayed beneath the image for contextual understanding.\n",
        "* Visual output includes:\n",
        "\n",
        "  * The grayscale image\n",
        "  * A formatted title comparing predicted vs. true labels\n",
        "  * A caption box rendered beneath the image\n",
        "\n",
        "This interactive sanity check helps verify model alignment with human intuition and identify potential misclassifications that may warrant further dataset or model refinement."
      ],
      "metadata": {
        "id": "816mZDhyjFtT"
      }
    },
    {
      "cell_type": "code",
      "execution_count": null,
      "metadata": {
        "colab": {
          "base_uri": "https://localhost:8080/",
          "height": 723
        },
        "id": "j5k0a0dkdmtL",
        "outputId": "73b6d454-f69d-4292-8f52-04208b8cc0e1"
      },
      "outputs": [
        {
          "output_type": "stream",
          "name": "stdout",
          "text": [
            "\u001b[1m1/1\u001b[0m \u001b[32m━━━━━━━━━━━━━━━━━━━━\u001b[0m\u001b[37m\u001b[0m \u001b[1m0s\u001b[0m 39ms/step\n"
          ]
        },
        {
          "output_type": "stream",
          "name": "stderr",
          "text": [
            "<ipython-input-63-9b6591713651>:39: UserWarning: Glyph 129504 (\\N{BRAIN}) missing from font(s) DejaVu Sans.\n",
            "  plt.tight_layout()\n",
            "<ipython-input-63-9b6591713651>:39: UserWarning: Glyph 128172 (\\N{SPEECH BALLOON}) missing from font(s) DejaVu Sans.\n",
            "  plt.tight_layout()\n",
            "/usr/local/lib/python3.11/dist-packages/IPython/core/pylabtools.py:151: UserWarning: Glyph 128221 (\\N{MEMO}) missing from font(s) DejaVu Sans.\n",
            "  fig.canvas.print_figure(bytes_io, **kw)\n",
            "/usr/local/lib/python3.11/dist-packages/IPython/core/pylabtools.py:151: UserWarning: Glyph 129504 (\\N{BRAIN}) missing from font(s) DejaVu Sans.\n",
            "  fig.canvas.print_figure(bytes_io, **kw)\n",
            "/usr/local/lib/python3.11/dist-packages/IPython/core/pylabtools.py:151: UserWarning: Glyph 128172 (\\N{SPEECH BALLOON}) missing from font(s) DejaVu Sans.\n",
            "  fig.canvas.print_figure(bytes_io, **kw)\n"
          ]
        },
        {
          "output_type": "display_data",
          "data": {
            "text/plain": [
              "<Figure size 500x500 with 1 Axes>"
            ],
            "image/png": "[encoded data removed]"
          },
          "metadata": {}
        }
      ],
      "source": [
        "import matplotlib.pyplot as plt\n",
        "import random\n",
        "import numpy as np\n",
        "\n",
        "# Define emotion_labels (assuming 5 classes: angry, disgust, fear, happy, sad)\n",
        "emotion_labels = ['angry', 'disgust', 'fear', 'happy', 'sad']\n",
        "sentiment_labels = ['negative', 'positive']\n",
        "\n",
        "# Random index\n",
        "i = random.randint(0, len(X_img) - 1)\n",
        "\n",
        "# Image and caption\n",
        "img = X_img[i].reshape(1, 48, 48, 1)\n",
        "text = X_text[i].reshape(1, 100)\n",
        "caption_text = fusion_dataset[i][1]\n",
        "true_emotion = emotion_labels[np.argmax(y_emotion[i])]\n",
        "true_sentiment = sentiment_labels[np.argmax(y_sentiment[i])]\n",
        "\n",
        "# Predict\n",
        "sentiment_pred, emotion_pred = fusion_model.predict([img, text])\n",
        "pred_emotion = emotion_labels[np.argmax(emotion_pred)]\n",
        "pred_sentiment = sentiment_labels[np.argmax(sentiment_pred)]\n",
        "\n",
        "# Plot\n",
        "fig, ax = plt.subplots(figsize=(5, 5))\n",
        "ax.imshow(X_img[i].squeeze(), cmap='gray')\n",
        "ax.axis('off')\n",
        "\n",
        "# Title (emotion and sentiment)\n",
        "plt.title(f\"🧠 Emotion: {pred_emotion.upper()} (True: {true_emotion.upper()})\\n\"\n",
        "          f\"💬 Sentiment: {pred_sentiment.upper()} (True: {true_sentiment.upper()})\",\n",
        "          fontsize=12, loc='center', pad=20)\n",
        "\n",
        "# Caption with white background\n",
        "plt.figtext(0.5, 0.01, f\"📝 Caption: {caption_text}\",\n",
        "            wrap=True, horizontalalignment='center', fontsize=10,\n",
        "            bbox=dict(facecolor='white', edgecolor='none', boxstyle='round,pad=0.5'))\n",
        "\n",
        "plt.tight_layout()\n",
        "plt.show()\n"
      ]
    },
    {
      "cell_type": "markdown",
      "source": [
        "#### Interactive Gradio Demo: Multimodal Emotion & Sentiment Classifier\n",
        "\n",
        "This section builds an interactive **Gradio web interface** that allows users to explore predictions made by the trained multimodal fusion model. The interface visualizes emotion and sentiment classification results using facial images and corresponding text captions.\n",
        "\n",
        "---\n",
        "\n",
        "#### Prediction Visualization Function (`visualize_sample`)\n",
        "\n",
        "* Accepts a sample index and performs the following:\n",
        "\n",
        "  * Runs the image and caption through the fusion model.\n",
        "  * Extracts and formats the **true vs. predicted** emotion and sentiment labels.\n",
        "  * Displays:\n",
        "\n",
        "    * The original **face image** annotated with labels.\n",
        "    * A horizontal **bar chart** showing predicted probabilities for each **emotion**.\n",
        "    * A similar chart for **sentiment**.\n",
        "\n",
        "This helps users understand not just the prediction, but the model’s confidence distribution.\n",
        "\n",
        "---\n",
        "\n",
        "#### Random Sample Display (`display_samples`)\n",
        "\n",
        "* Selects `n` random samples from the dataset.\n",
        "* Returns three lists of images for display:\n",
        "\n",
        "  1. Face image with predictions\n",
        "  2. Emotion prediction probabilities\n",
        "  3. Sentiment prediction probabilities\n",
        "\n",
        "Each group is displayed in a structured gallery layout within the UI.\n",
        "\n",
        "---\n",
        "\n",
        "#### Gradio Interface\n",
        "\n",
        "* **Slider**: Lets users choose how many samples to generate (1 to 10).\n",
        "* **Button**: Triggers generation of predictions for randomly selected samples.\n",
        "* **Three Galleries**:\n",
        "\n",
        "  * One shows annotated face images\n",
        "  * One shows emotion bars\n",
        "  * One shows sentiment bars\n",
        "\n",
        "---\n",
        "\n",
        "#### Deployment\n",
        "\n",
        "* The `demo.launch(debug=True)` call runs the interactive app directly in the notebook or a separate tab.\n",
        "* This makes the project accessible for **demoing**, **peer presentations**, or **interactive evaluation**.\n",
        "\n",
        "This tool provides a clear, user-friendly way to showcase the real-world capabilities of your fusion model."
      ],
      "metadata": {
        "id": "vSu_TphKjD6Q"
      }
    },
    {
      "cell_type": "code",
      "execution_count": null,
      "metadata": {
        "colab": {
          "base_uri": "https://localhost:8080/",
          "height": 833
        },
        "id": "gW-eGXz5bvB6",
        "outputId": "d017f7a8-364c-4c66-d178-f84299b6c955"
      },
      "outputs": [
        {
          "metadata": {
            "tags": null
          },
          "name": "stdout",
          "output_type": "stream",
          "text": [
            "It looks like you are running Gradio on a hosted a Jupyter notebook. For the Gradio app to work, sharing must be enabled. Automatically setting `share=True` (you can turn this off by setting `share=False` in `launch()` explicitly).\n",
            "\n",
            "Colab notebook detected. This cell will run indefinitely so that you can see errors and logs. To turn off, set debug=False in launch().\n",
            "* Running on public URL: https://34271edda8d55a32f4.gradio.live\n",
            "\n",
            "This share link expires in 1 week. For free permanent hosting and GPU upgrades, run `gradio deploy` from the terminal in the working directory to deploy to Hugging Face Spaces (https://huggingface.co/spaces)\n"
          ]
        },
        {
          "data": {
            "text/html": [
              "<div><iframe src=\"https://34271edda8d55a32f4.gradio.live\" width=\"100%\" height=\"500\" allow=\"autoplay; camera; microphone; clipboard-read; clipboard-write;\" frameborder=\"0\" allowfullscreen></iframe></div>"
            ],
            "text/plain": [
              "<IPython.core.display.HTML object>"
            ]
          },
          "metadata": {},
          "output_type": "display_data"
        },
        {
          "metadata": {
            "tags": null
          },
          "name": "stderr",
          "output_type": "stream",
          "text": [
            "<ipython-input-64-d26992657274>:40: UserWarning: Glyph 129504 (\\N{BRAIN}) missing from font(s) DejaVu Sans.\n",
            "  plt.tight_layout()\n",
            "<ipython-input-64-d26992657274>:40: UserWarning: Glyph 128172 (\\N{SPEECH BALLOON}) missing from font(s) DejaVu Sans.\n",
            "  plt.tight_layout()\n",
            "<ipython-input-64-d26992657274>:41: UserWarning: Glyph 128221 (\\N{MEMO}) missing from font(s) DejaVu Sans.\n",
            "  plt.savefig(buf, format='png')\n",
            "<ipython-input-64-d26992657274>:41: UserWarning: Glyph 129504 (\\N{BRAIN}) missing from font(s) DejaVu Sans.\n",
            "  plt.savefig(buf, format='png')\n",
            "<ipython-input-64-d26992657274>:41: UserWarning: Glyph 128172 (\\N{SPEECH BALLOON}) missing from font(s) DejaVu Sans.\n",
            "  plt.savefig(buf, format='png')\n"
          ]
        }
      ],
      "source": [
        "import gradio as gr\n",
        "import numpy as np\n",
        "import matplotlib.pyplot as plt\n",
        "from PIL import Image\n",
        "import io\n",
        "import random\n",
        "\n",
        "fusion_model = load_model(\"/content/drive/MyDrive/fusion_emotion_sentiment_model_1.keras\")\n",
        "\n",
        "emotion_labels = ['angry', 'disgust', 'fear', 'happy', 'sad']\n",
        "sentiment_labels = ['negative', 'positive']\n",
        "\n",
        "def visualize_sample(idx):\n",
        "    # Prepare inputs\n",
        "    img_arr = X_img[idx].reshape(1, 48, 48, 1)\n",
        "    text_input = X_text[idx].reshape(1, 100)\n",
        "    caption_text = fusion_dataset[idx][1]\n",
        "\n",
        "    # Get true labels\n",
        "    true_emotion = emotion_labels[np.argmax(y_emotion[idx])]\n",
        "    true_sentiment = sentiment_labels[np.argmax(y_sentiment[idx])]\n",
        "\n",
        "    # Predict\n",
        "    sentiment_pred, emotion_pred = fusion_model.predict([img_arr, text_input], verbose=0)\n",
        "    pred_emotion = emotion_labels[np.argmax(emotion_pred)]\n",
        "    pred_sentiment = sentiment_labels[np.argmax(sentiment_pred)]\n",
        "\n",
        "    # Generate image plot with caption and predictions\n",
        "    fig, ax = plt.subplots(figsize=(3, 3))\n",
        "    ax.imshow(X_img[idx].squeeze(), cmap='gray')\n",
        "    ax.axis('off')\n",
        "    ax.set_title(f\"🧠 {pred_emotion.upper()} (True: {true_emotion.upper()})\\n💬 {pred_sentiment.upper()} (True: {true_sentiment.upper()})\", fontsize=8)\n",
        "\n",
        "    # Add caption\n",
        "    fig.text(0.5, 0.01, f\"📝 {caption_text}\", ha='center', fontsize=7, wrap=True,\n",
        "             bbox=dict(facecolor='white', edgecolor='none', boxstyle='round,pad=0.3'))\n",
        "\n",
        "    # Save image to buffer\n",
        "    buf = io.BytesIO()\n",
        "    plt.tight_layout()\n",
        "    plt.savefig(buf, format='png')\n",
        "    plt.close(fig)\n",
        "    buf.seek(0)\n",
        "    image_result = Image.open(buf)\n",
        "\n",
        "    # Bar chart: Emotion Probabilities\n",
        "    fig_em, ax_em = plt.subplots(figsize=(2.5, 1.5))\n",
        "    ax_em.bar(emotion_labels, emotion_pred[0], color='skyblue')\n",
        "    ax_em.set_title(\"Emotion Probabilities\", fontsize=8)\n",
        "    ax_em.set_ylim(0, 1)\n",
        "    plt.xticks(rotation=30, ha='right', fontsize=6)\n",
        "    buf_em = io.BytesIO()\n",
        "    plt.tight_layout()\n",
        "    plt.savefig(buf_em, format='png')\n",
        "    plt.close(fig_em)\n",
        "    buf_em.seek(0)\n",
        "    emotion_bar = Image.open(buf_em)\n",
        "\n",
        "    # Bar chart: Sentiment Probabilities\n",
        "    fig_sent, ax_sent = plt.subplots(figsize=(2.5, 1.5))\n",
        "    ax_sent.bar(sentiment_labels, sentiment_pred[0], color='orange')\n",
        "    ax_sent.set_title(\"Sentiment Probabilities\", fontsize=8)\n",
        "    ax_sent.set_ylim(0, 1)\n",
        "    plt.xticks(rotation=30, ha='right', fontsize=6)\n",
        "    buf_sent = io.BytesIO()\n",
        "    plt.tight_layout()\n",
        "    plt.savefig(buf_sent, format='png')\n",
        "    plt.close(fig_sent)\n",
        "    buf_sent.seek(0)\n",
        "    sentiment_bar = Image.open(buf_sent)\n",
        "\n",
        "    return image_result, emotion_bar, sentiment_bar\n",
        "\n",
        "def display_samples(n):\n",
        "    indices = random.sample(range(len(X_img)), n)\n",
        "    samples = [visualize_sample(idx) for idx in indices]\n",
        "\n",
        "    image_gallery = [img for img, _, _ in samples]\n",
        "    emotion_bars = [bar1 for _, bar1, _ in samples]\n",
        "    sentiment_bars = [bar2 for _, _, bar2 in samples]\n",
        "\n",
        "    return image_gallery, emotion_bars, sentiment_bars\n",
        "\n",
        "with gr.Blocks(title=\"Multimodal Fusion Visualizer\") as demo:\n",
        "    gr.Markdown(\"## 🧠 Multimodal Emotion + Sentiment Classifier\")\n",
        "    gr.Markdown(\"This demo shows predictions from a model that combines facial images and captions to classify both **emotion** and **sentiment**.\")\n",
        "\n",
        "    with gr.Row():\n",
        "        num_slider = gr.Slider(1, 10, value=3, step=1, label=\"🔢 Number of Samples\")\n",
        "        run_button = gr.Button(\"🎲 Generate Random Predictions\")\n",
        "\n",
        "    with gr.Row():\n",
        "        with gr.Column():\n",
        "            gallery_img = gr.Gallery(label=\"🖼️ Face + Prediction\", show_label=True, columns=3, rows=3)\n",
        "        with gr.Column():\n",
        "            gallery_em = gr.Gallery(label=\"📊 Emotion Probabilities\", show_label=True, columns=3, rows=3)\n",
        "        with gr.Column():\n",
        "            gallery_sent = gr.Gallery(label=\"📊 Sentiment Probabilities\", show_label=True, columns=3, rows=3)\n",
        "\n",
        "    run_button.click(fn=display_samples, inputs=num_slider, outputs=[gallery_img, gallery_em, gallery_sent])\n",
        "\n",
        "demo.launch(debug=True)"
      ]
    }
  ],
  "metadata": {
    "accelerator": "GPU",
    "colab": {
      "gpuType": "T4",
      "machine_shape": "hm",
      "provenance": []
    },
    "kernelspec": {
      "display_name": "Python 3",
      "name": "python3"
    },
    "language_info": {
      "name": "python"
    }
  },
  "nbformat": 4,
  "nbformat_minor": 0
}