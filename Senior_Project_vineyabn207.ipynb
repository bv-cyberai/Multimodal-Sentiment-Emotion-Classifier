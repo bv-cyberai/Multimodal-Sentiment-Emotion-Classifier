{
  "nbformat": 4,
  "nbformat_minor": 0,
  "metadata": {
    "colab": {
      "provenance": []
    },
    "kernelspec": {
      "name": "python3",
      "display_name": "Python 3"
    },
    "language_info": {
      "name": "python"
    }
  },
  "cells": [
    {
      "cell_type": "code",
      "source": [
        "from google.colab import drive\n",
        "drive.mount('/content/drive')"
      ],
      "metadata": {
        "colab": {
          "base_uri": "https://localhost:8080/"
        },
        "id": "poPxEyq46UaW",
        "outputId": "f5804c57-7dde-45ef-88b0-afabb68ccfb0"
      },
      "execution_count": 1,
      "outputs": [
        {
          "output_type": "stream",
          "name": "stdout",
          "text": [
            "Mounted at /content/drive\n"
          ]
        }
      ]
    },
    {
      "cell_type": "code",
      "source": [
        "import pandas as pd\n",
        "\n",
        "# Load Sentiment140 CSV file\n",
        "file_path = '/content/drive/MyDrive/Colab Notebooks/SENIOR PROJECT/sentiment140/training.1600000.processed.noemoticon.csv'\n",
        "data = pd.read_csv(file_path, encoding='ISO-8859-1', header=None)\n",
        "\n",
        "# The dataset contaings columns:\n",
        "# 0 - sentiment label (0 for negative, 4 for positive)\n",
        "#"
      ],
      "metadata": {
        "id": "LiQ-Mx7rd4WA"
      },
      "execution_count": null,
      "outputs": []
    },
    {
      "cell_type": "code",
      "source": [
        "import pandas as pd\n",
        "from sklearn.model_selection import train_test_split\n",
        "import re\n",
        "\n",
        "# Load Sentiment140 CSV file\n",
        "file_path = '/content/drive/MyDrive/Colab Notebooks/SENIOR PROJECT/sentiment140/training.1600000.processed.noemoticon.csv'\n",
        "data = pd.read_csv(file_path, encoding='ISO-8859-1', header=None)\n",
        "\n",
        "# Add proper column names\n",
        "data.columns = ['sentiment', 'id', 'date', 'query', 'user', 'text']\n",
        "\n",
        "# Clean the tweet text\n",
        "def clean_text(text):\n",
        "  # Remove URLS, mentions (@user), and extra spaces\n",
        "  text = re.sub(r'http\\S+|www\\S+|https\\S+', '', text)   # Remove URLS\n",
        "  text = re.sub(r'@\\w', '', text)   # Remove mentions (@user)\n",
        "  text = re.sub(r'\\s', ' ', text)   # Remove extra spaces\n",
        "  return text\n",
        "\n",
        "# Apply cleaning function\n",
        "data['text'] = data['text'].apply(clean_text)\n",
        "\n",
        "# Now, the dataset is cleaned, and you can split it into training and testing sets\n",
        "X = data['text']\n",
        "y = data['sentiment']\n",
        "\n",
        "# Split into train and tests sets (80% training, 20% testing)\n",
        "X_train, X_test, y_train, y_test = train_test_split(X, y, test_size=0.2, random_state=42)\n",
        "\n",
        "# Check the first few rows of the cleaned data\n",
        "print(data.head())\n",
        "\n",
        "# Check the shape of the datasets\n",
        "print(f\"Training data shape: {X_train.shape}\")\n",
        "print(f\"Test data shape: {X_test.shape}\")\n",
        "\n",
        "\n"
      ],
      "metadata": {
        "colab": {
          "base_uri": "https://localhost:8080/"
        },
        "id": "4tuFDS_neoWK",
        "outputId": "364e9c19-481b-4f50-c290-4d5a3a4d81fa"
      },
      "execution_count": null,
      "outputs": [
        {
          "output_type": "stream",
          "name": "stdout",
          "text": [
            "   sentiment          id                          date     query  \\\n",
            "0          0  1467810369  Mon Apr 06 22:19:45 PDT 2009  NO_QUERY   \n",
            "1          0  1467810672  Mon Apr 06 22:19:49 PDT 2009  NO_QUERY   \n",
            "2          0  1467810917  Mon Apr 06 22:19:53 PDT 2009  NO_QUERY   \n",
            "3          0  1467811184  Mon Apr 06 22:19:57 PDT 2009  NO_QUERY   \n",
            "4          0  1467811193  Mon Apr 06 22:19:57 PDT 2009  NO_QUERY   \n",
            "\n",
            "              user                                               text  \n",
            "0  _TheSpecialOne_  witchfoot  - A that's a bummer.  You shoulda g...  \n",
            "1    scotthamilton  is upset that he can't update his Facebook by ...  \n",
            "2         mattycus  enichan I dived many times for the ball. Manag...  \n",
            "3          ElleCTF    my whole body feels itchy and like its on fire   \n",
            "4           Karoli  ationwideclass no, it's not behaving at all. i...  \n",
            "Training data shape: (1280000,)\n",
            "Test data shape: (320000,)\n"
          ]
        }
      ]
    },
    {
      "cell_type": "code",
      "source": [
        "import os\n",
        "import numpy as np\n",
        "import cv2\n",
        "\n",
        "# Path to the extracted FER-2013 dataset\n",
        "dataset_folder = '/content/drive/MyDrive/Colab Notebooks/SENIOR PROJECT/fer-2013/fer-2013'\n",
        "\n",
        "# Paths to the train and test folders\n",
        "train_folder = os.path.join(dataset_folder, 'train')\n",
        "test_folder = os.path.join(dataset_folder, 'test')\n",
        "\n",
        "# Initialize lists for image data and labels\n",
        "train_images = []\n",
        "train_labels = []\n",
        "test_images = []\n",
        "test_labels = []\n",
        "\n",
        "# Define the emotion labels\n",
        "emotion_labels = {\n",
        "    0: 'angry',\n",
        "    1: 'disgust',\n",
        "    2: 'fear',\n",
        "    3: 'happy',\n",
        "    4: 'sad',\n",
        "    5: 'neutral',\n",
        "    6: 'surprise'\n",
        "}\n",
        "\n",
        "def load_images_from_folder(folder, label):\n",
        "  # Initialize lists for image data and labels\n",
        "  images = []\n",
        "  labels = []\n",
        "\n",
        "  # Loop through the images in each emotion folder\n",
        "  for filename in os.listdir(folder):\n",
        "    img_path = os.path.join(folder, filename)\n",
        "    if filename.endswith('.jpg'): # Only load .jpg images\n",
        "      img = cv2.imread(img_path, cv2.IMREAD_GRAYSCALE)\n",
        "      if img is not None:\n",
        "        # Resize image to 48x48 pixels (standard for FER-2013)\n",
        "        img = cv2.resize(img, (48, 48))\n",
        "        images.append(img)\n",
        "        labels.append(label)\n",
        "  return images, labels\n",
        "\n",
        "# Load images for each emotion category (train)\n",
        "for label in range(7):  # There are 7 emotion labels in FER-2013\n",
        "  emotion_folder = os.path.join(train_folder, emotion_labels[label])\n",
        "  images, labels = load_images_from_folder(emotion_folder, label)\n",
        "  train_images.extend(images)\n",
        "  train_labels.extend(labels)\n",
        "\n",
        "# Load images for each emotion category (test)\n",
        "for label in range(7):  # There are 7 emotion labels in FER-2013\n",
        "  emotion_folder = os.path.join(test_folder, emotion_labels[label])\n",
        "  images, labels = load_images_from_folder(emotion_folder, label)\n",
        "  test_images.extend(images)\n",
        "  test_labels.extend(labels)\n",
        "\n",
        "# Convert lists to numpy arrays\n",
        "X_train = np.array(train_images)\n",
        "y_train = np.array(train_labels)\n",
        "X_test = np.array(test_images)\n",
        "y_test = np.array(test_labels)\n",
        "\n",
        "# Normalize image data to [0, 1]\n",
        "X_train = X_train.astype('float32') / 255.0\n",
        "X_test = X_test.astype('float32') / 255.0\n",
        "\n",
        "# Reshape images to include a single channel for grayscale (48x48x1)\n",
        "X_train = X_train.reshape(-1, 48, 48, 1)\n",
        "X_test = X_test.reshape(-1, 48, 48, 1)\n",
        "\n",
        "# Verify the data shape\n",
        "print(f\"Training data shape: {X_train.shape}\")\n",
        "print(f\"Test data shape: {X_test.shape}\")\n",
        "print(f\"Training labels shape: {y_train.shape}\")\n",
        "print(f\"Test labels shape: {y_test.shape}\")\n"
      ],
      "metadata": {
        "colab": {
          "base_uri": "https://localhost:8080/"
        },
        "id": "i3YR8FwiAR5H",
        "outputId": "782fdc1f-ed26-40cb-c1e3-bbdaea41611f"
      },
      "execution_count": null,
      "outputs": [
        {
          "output_type": "stream",
          "name": "stdout",
          "text": [
            "Training data shape: (28120, 48, 48, 1)\n",
            "Test data shape: (7178, 48, 48, 1)\n",
            "Training labels shape: (28120,)\n",
            "Test labels shape: (7178,)\n"
          ]
        }
      ]
    },
    {
      "cell_type": "code",
      "source": [
        "import tensorflow as tf\n",
        "import torch\n",
        "import platform\n",
        "\n",
        "# Check TensorFlow version and GPU availability\n",
        "print(f\"TensorFlow version: {tf.__version__}\")\n",
        "tf_gpus = tf.config.list_physical_devices('GPU')\n",
        "if tf_gpus:\n",
        "    print(f\"Is GPU available for TensorFlow? {tf_gpus}\")\n",
        "else:\n",
        "    print(\"No GPU found for TensorFlow.\")\n",
        "\n",
        "# Check PyTorch version and GPU availability\n",
        "print(f\"PyTorch version: {torch.__version__}\")\n",
        "if torch.cuda.is_available():\n",
        "    print(\"Is GPU available for PyTorch? True\")\n",
        "    print(f\"GPU count: {torch.cuda.device_count()}\")\n",
        "    print(f\"Current GPU: {torch.cuda.current_device()} - {torch.cuda.get_device_name(torch.cuda.current_device())}\")\n",
        "else:\n",
        "    print(\"No GPU found for PyTorch.\")\n",
        "\n",
        "# Check Python version\n",
        "print(f\"Python version: {platform.python_version()}\")\n"
      ],
      "metadata": {
        "colab": {
          "base_uri": "https://localhost:8080/"
        },
        "id": "bYQjjy7eBh0d",
        "outputId": "d5829d3f-afaa-4928-86c5-db0a450ecbcf"
      },
      "execution_count": null,
      "outputs": [
        {
          "output_type": "stream",
          "name": "stdout",
          "text": [
            "TensorFlow version: 2.18.0\n",
            "Is GPU available for TensorFlow? [PhysicalDevice(name='/physical_device:GPU:0', device_type='GPU')]\n",
            "PyTorch version: 2.5.1+cu124\n",
            "Is GPU available for PyTorch? True\n",
            "GPU count: 1\n",
            "Current GPU: 0 - Tesla T4\n",
            "Python version: 3.11.11\n"
          ]
        }
      ]
    },
    {
      "source": [
        "import pandas as pd\n",
        "\n",
        "# Load dataset\n",
        "file_path = \"/content/drive/MyDrive/Colab Notebooks/SENIOR PROJECT/sentiment140/training.1600000.processed.noemoticon.csv\"\n",
        "columns = [\"sentiment\", \"id\", \"date\", \"query\", \"user\", \"text\"]\n",
        "df = pd.read_csv(file_path, encoding=\"ISO-8859-1\", names=columns)\n",
        "\n",
        "# Convert sentiment labels to readable format\n",
        "sentiment_mapping = {0: \"Negative\", 2: \"Neutral\", 4: \"Positive\"}\n",
        "df[\"sentiment\"] = df[\"sentiment\"].map(sentiment_mapping)\n",
        "\n",
        "# Display sample tweets\n",
        "num_samples = 20  # Number of tweets to display\n",
        "sampled_tweets = df.sample(num_samples, random_state=42)[[\"sentiment\", \"text\"]]\n",
        "\n",
        "# Print results\n",
        "print(sampled_tweets.to_string(index=False))\n"
      ],
      "cell_type": "code",
      "metadata": {
        "colab": {
          "base_uri": "https://localhost:8080/"
        },
        "id": "LKQxqy1rIl_R",
        "outputId": "307f019d-a032-4907-c1de-8561f629dbbd"
      },
      "execution_count": null,
      "outputs": [
        {
          "output_type": "stream",
          "name": "stdout",
          "text": [
            "sentiment                                                                                                                                      text\n",
            " Negative                                                                                                    @chrishasboobs AHHH I HOPE YOUR OK!!! \n",
            " Negative                                                                                 @misstoriblack cool , i have no tweet apps  for my razr 2\n",
            " Negative @TiannaChaos i know  just family drama. its lame.hey next time u hang out with kim n u guys like have a sleepover or whatever, ill call u\n",
            " Negative                                               School email won't open  and I have geography stuff on there to revise! *Stupid School* :'(\n",
            " Negative                                                                                                                    upper airways problem \n",
            " Negative                                                                                                Going to miss Pastor's sermon on Faith... \n",
            " Positive                                                                                                   on lunch....dj should come eat with me \n",
            " Negative                                                                                          @piginthepoke oh why are you feeling like that? \n",
            " Negative                                                                                           gahh noo!peyton needs to live!this is horrible \n",
            " Positive                                    @mrstessyman thank you glad you like it! There is a product review bit on the site  Enjoy knitting it!\n",
            " Positive                                                                    @PerezHilton Zach makes me pee sitting down! And I'm a grown gay man! \n",
            " Positive                                                                                         to sum up my day in one word ......... kackered! \n",
            " Positive                                                                                                           @k9wkj Great minds think alike \n",
            " Negative                                                                                                                    Is Poorly and in bed! \n",
            " Positive                                              @LilPecan Oh, that's really great  Here we have a small blizzard and also cold wind blows...\n",
            " Positive                                                                         @wizely lol, calm down.  i got a 30day loan offer for only 1500% \n",
            " Positive                          i'm feeling quite sleepy today, wish i could stay in bed today...but OK! is my LAST YEAR, so let's go to school \n",
            " Negative                                @nadalnews Yeah  Mathieu totally choked in the 3rd set to let Rog win as well. Djokovic played TERRIBLY.  \n",
            " Negative                                                                                                      ugh, morning's off to a rough start \n",
            " Negative                                                                                                                       just bit my tongue \n"
          ]
        }
      ]
    },
    {
      "cell_type": "code",
      "source": [
        "import os\n",
        "import random\n",
        "import matplotlib.pyplot as plt\n",
        "import cv2\n",
        "\n",
        "# Define dataset path\n",
        "dataset_path = \"/content/drive/MyDrive/Colab Notebooks/SENIOR PROJECT/fer-2013/fer-2013\"  # Update this path if needed\n",
        "\n",
        "# Define emotions (folder names should match)\n",
        "emotions = [\"angry\", \"disgust\", \"fear\", \"happy\", \"neutral\", \"sad\", \"surprise\"]\n",
        "\n",
        "# Function to load and display sample images\n",
        "def visualize_fer_images(dataset_path, num_samples=2):\n",
        "    fig, axes = plt.subplots(len(emotions), num_samples, figsize=(10, 14))\n",
        "    fig.suptitle(\"Sample Images from FER-2013\", fontsize=14)\n",
        "\n",
        "    for i, emotion in enumerate(emotions):\n",
        "        emotion_path = os.path.join(dataset_path, \"train\", emotion)  # Change to \"test\" if needed\n",
        "        image_files = os.listdir(emotion_path)\n",
        "\n",
        "        # Select random images\n",
        "        selected_images = random.sample(image_files, min(num_samples, len(image_files)))\n",
        "\n",
        "        for j, img_name in enumerate(selected_images):\n",
        "            img_path = os.path.join(emotion_path, img_name)\n",
        "            img = cv2.imread(img_path, cv2.IMREAD_GRAYSCALE)\n",
        "\n",
        "            if img is not None:\n",
        "                axes[i, j].imshow(img, cmap=\"gray\")\n",
        "                axes[i, j].set_title(emotion)\n",
        "                axes[i, j].axis(\"off\")\n",
        "\n",
        "    plt.tight_layout(rect=[0, 0, 1, 0.96])\n",
        "    plt.show()\n",
        "\n",
        "# Run visualization\n",
        "visualize_fer_images(dataset_path)\n"
      ],
      "metadata": {
        "colab": {
          "base_uri": "https://localhost:8080/",
          "height": 1000
        },
        "id": "pcQ7MpXmLLcZ",
        "outputId": "998e38b6-96a9-496a-9ea5-fdc494eac5d0"
      },
      "execution_count": null,
      "outputs": [
        {
          "output_type": "display_data",
          "data": {
            "text/plain": [
              "<Figure size 1000x1400 with 14 Axes>"
            ],
            "image/png": "[encoded data removed]"
          },
          "metadata": {}
        }
      ]
    },
    {
      "cell_type": "code",
      "source": [
        "import os\n",
        "import pandas as pd\n",
        "from collections import Counter\n",
        "from PIL import Image\n",
        "\n",
        "# ================= SENTIMENT140 DATASET LOADING ================= #\n",
        "\n",
        "# Define file path (Update if necessary)\n",
        "sentiment140_path = \"/content/drive/MyDrive/Colab Notebooks/SENIOR PROJECT/sentiment140/training.1600000.processed.noemoticon.csv\"\n",
        "\n",
        "# Define column names (since dataset lacks a header)\n",
        "columns = [\"sentiment\", \"id\", \"date\", \"query\", \"user\", \"text\"]\n",
        "\n",
        "# Load the dataset\n",
        "df_sentiment = pd.read_csv(sentiment140_path, encoding=\"ISO-8859-1\", names=columns)\n",
        "\n",
        "# Convert sentiment labels to readable format\n",
        "sentiment_mapping = {0: \"Negative\", 2: \"Neutral\", 4: \"Positive\"}\n",
        "df_sentiment[\"sentiment\"] = df_sentiment[\"sentiment\"].map(sentiment_mapping)\n",
        "\n",
        "# Display dataset information\n",
        "print(\"Sentiment140 Dataset Loaded!\")\n",
        "print(df_sentiment[\"sentiment\"].value_counts())\n",
        "print(df_sentiment.head())\n",
        "\n",
        "# ================= FER-2013 DATASET LOADING ================= #\n",
        "\n",
        "# Define FER-2013 dataset path (Update if necessary)\n",
        "fer_data_path = \"/content/drive/MyDrive/Colab Notebooks/SENIOR PROJECT/fer-2013/fer-2013\"\n",
        "\n",
        "# Define emotion categories (Based on folder structure)\n",
        "emotion_labels = [\"angry\", \"disgust\", \"fear\", \"happy\", \"neutral\", \"sad\", \"surprise\"]\n",
        "\n",
        "# Function to count images in each emotion category\n",
        "def count_images(data_path):\n",
        "    image_count = {}\n",
        "    for category in emotion_labels:\n",
        "        category_path = os.path.join(data_path, category)\n",
        "        if os.path.exists(category_path):\n",
        "            image_count[category] = len(os.listdir(category_path))\n",
        "        else:\n",
        "            image_count[category] = 0\n",
        "    return image_count\n",
        "\n",
        "# Count images in train and test sets\n",
        "train_counts = count_images(os.path.join(fer_data_path, \"train\"))\n",
        "test_counts = count_images(os.path.join(fer_data_path, \"test\"))\n",
        "\n",
        "# Display image counts per category\n",
        "print(\"\\nFER-2013 Dataset Loaded!\")\n",
        "print(\"Training Set:\", train_counts)\n",
        "print(\"Testing Set:\", test_counts)\n"
      ],
      "metadata": {
        "colab": {
          "base_uri": "https://localhost:8080/"
        },
        "id": "aq0QbMI0d779",
        "outputId": "d9441c77-5f38-49cc-d160-5867433020a3"
      },
      "execution_count": null,
      "outputs": [
        {
          "output_type": "stream",
          "name": "stdout",
          "text": [
            "Sentiment140 Dataset Loaded!\n",
            "sentiment\n",
            "Negative    800000\n",
            "Positive    800000\n",
            "Name: count, dtype: int64\n",
            "  sentiment          id                          date     query  \\\n",
            "0  Negative  1467810369  Mon Apr 06 22:19:45 PDT 2009  NO_QUERY   \n",
            "1  Negative  1467810672  Mon Apr 06 22:19:49 PDT 2009  NO_QUERY   \n",
            "2  Negative  1467810917  Mon Apr 06 22:19:53 PDT 2009  NO_QUERY   \n",
            "3  Negative  1467811184  Mon Apr 06 22:19:57 PDT 2009  NO_QUERY   \n",
            "4  Negative  1467811193  Mon Apr 06 22:19:57 PDT 2009  NO_QUERY   \n",
            "\n",
            "              user                                               text  \n",
            "0  _TheSpecialOne_  @switchfoot http://twitpic.com/2y1zl - Awww, t...  \n",
            "1    scotthamilton  is upset that he can't update his Facebook by ...  \n",
            "2         mattycus  @Kenichan I dived many times for the ball. Man...  \n",
            "3          ElleCTF    my whole body feels itchy and like its on fire   \n",
            "4           Karoli  @nationwideclass no, it's not behaving at all....  \n",
            "\n",
            "FER-2013 Dataset Loaded!\n",
            "Training Set: {'angry': 3995, 'disgust': 436, 'fear': 4097, 'happy': 6626, 'neutral': 4965, 'sad': 4830, 'surprise': 3171}\n",
            "Testing Set: {'angry': 958, 'disgust': 111, 'fear': 1024, 'happy': 1774, 'neutral': 1233, 'sad': 1247, 'surprise': 831}\n"
          ]
        }
      ]
    },
    {
      "cell_type": "code",
      "source": [
        "import tensorflow as tf\n",
        "from tensorflow.keras.preprocessing.image import ImageDataGenerator\n",
        "import os\n",
        "\n",
        "# Define paths\n",
        "base_dir = \"/content/drive/MyDrive/Colab Notebooks/SENIOR PROJECT/fer-2013/fer-2013\"\n",
        "train_dir = os.path.join(base_dir, \"train\")\n",
        "test_dir = os.path.join(base_dir, \"test\")\n",
        "\n",
        "# Image dimensions\n",
        "IMG_SIZE = 48  # FER-2013 images are originally 48x48\n",
        "\n",
        "# Data augmentation and preprocessing\n",
        "train_datagen = ImageDataGenerator(\n",
        "    rescale=1.0 / 255.0,  # Normalize pixel values to [0,1]\n",
        "    rotation_range=10,  # Rotate images randomly by 10 degrees\n",
        "    width_shift_range=0.1,  # Shift width by 10% randomly\n",
        "    height_shift_range=0.1,  # Shift height by 10% randomly\n",
        "    horizontal_flip=True,  # Flip images horizontally\n",
        "    zoom_range=0.1,  # Zoom in randomly by 10%\n",
        "    fill_mode=\"nearest\"\n",
        ")\n",
        "\n",
        "test_datagen = ImageDataGenerator(rescale=1.0 / 255.0)  # Only normalize test data\n",
        "\n",
        "# Load images from directories\n",
        "train_generator = train_datagen.flow_from_directory(\n",
        "    train_dir,\n",
        "    target_size=(IMG_SIZE, IMG_SIZE),\n",
        "    color_mode=\"grayscale\",\n",
        "    batch_size=64,\n",
        "    class_mode=\"categorical\"\n",
        ")\n",
        "\n",
        "test_generator = test_datagen.flow_from_directory(\n",
        "    test_dir,\n",
        "    target_size=(IMG_SIZE, IMG_SIZE),\n",
        "    color_mode=\"grayscale\",\n",
        "    batch_size=64,\n",
        "    class_mode=\"categorical\"\n",
        ")\n",
        "\n",
        "# Verify dataset structure\n",
        "print(f\"Training classes: {train_generator.class_indices}\")\n",
        "print(f\"Test classes: {test_generator.class_indices}\")\n"
      ],
      "metadata": {
        "colab": {
          "base_uri": "https://localhost:8080/"
        },
        "id": "MYwJRPoSOgvj",
        "outputId": "6c35eea7-ceb7-4e48-c27a-e87ba29eb585"
      },
      "execution_count": 2,
      "outputs": [
        {
          "output_type": "stream",
          "name": "stdout",
          "text": [
            "Found 28120 images belonging to 7 classes.\n",
            "Found 7178 images belonging to 7 classes.\n",
            "Training classes: {'angry': 0, 'disgust': 1, 'fear': 2, 'happy': 3, 'neutral': 4, 'sad': 5, 'surprise': 6}\n",
            "Test classes: {'angry': 0, 'disgust': 1, 'fear': 2, 'happy': 3, 'neutral': 4, 'sad': 5, 'surprise': 6}\n"
          ]
        }
      ]
    },
    {
      "cell_type": "code",
      "source": [
        "import re\n",
        "import pandas as pd\n",
        "import numpy as np\n",
        "import nltk\n",
        "from nltk.corpus import stopwords\n",
        "from tensorflow.keras.preprocessing.text import Tokenizer\n",
        "from tensorflow.keras.preprocessing.sequence import pad_sequences\n",
        "\n",
        "# Ensure stopwords are downloaded\n",
        "nltk.download(\"stopwords\")\n",
        "stop_words = set(stopwords.words(\"english\"))\n",
        "\n",
        "# Define file path\n",
        "file_path = \"/content/drive/MyDrive/Colab Notebooks/SENIOR PROJECT/sentiment140/training.1600000.processed.noemoticon.csv\"\n",
        "\n",
        "# Load dataset\n",
        "columns = [\"target\", \"id\", \"date\", \"flag\", \"user\", \"text\"]\n",
        "df = pd.read_csv(file_path, encoding=\"latin-1\", names=columns)\n",
        "\n",
        "# Keep only necessary columns\n",
        "df = df[[\"target\", \"text\"]]\n",
        "\n",
        "# Convert labels (0 = Negative, 2 = Neutral, 4 = Positive) to categorical\n",
        "df[\"target\"] = df[\"target\"].map({0: 0, 2: 1, 4: 2})\n",
        "\n",
        "# Function to clean text\n",
        "def clean_text(text):\n",
        "    text = text.lower()  # Lowercasing\n",
        "    text = re.sub(r\"http\\S+|www\\S+\", \"\", text)  # Remove URLs\n",
        "    text = re.sub(r\"@\\w+\", \"\", text)  # Remove mentions\n",
        "    text = re.sub(r\"#\\w+\", \"\", text)  # Remove hashtags\n",
        "    text = re.sub(r\"[^a-zA-Z\\s]\", \"\", text)  # Remove special characters\n",
        "    text = \" \".join(word for word in text.split() if word not in stop_words)  # Remove stopwords\n",
        "    return text\n",
        "\n",
        "# Apply cleaning\n",
        "df[\"clean_text\"] = df[\"text\"].apply(clean_text)\n",
        "\n",
        "# Tokenization\n",
        "tokenizer = Tokenizer(num_words=10000, oov_token=\"<OOV>\")  # Keep top 10,000 words\n",
        "tokenizer.fit_on_texts(df[\"clean_text\"])\n",
        "\n",
        "# Convert text to sequences\n",
        "sequences = tokenizer.texts_to_sequences(df[\"clean_text\"])\n",
        "\n",
        "# Padding sequences to ensure equal length\n",
        "max_length = 50  # Adjust based on dataset\n",
        "padded_sequences = pad_sequences(sequences, maxlen=max_length, padding=\"post\", truncating=\"post\")\n",
        "\n",
        "# Convert to NumPy arrays\n",
        "X = np.array(padded_sequences)\n",
        "y = np.array(df[\"target\"])\n",
        "\n",
        "# Save processed data\n",
        "np.save(\"X.npy\", X)\n",
        "np.save(\"y.npy\", y)\n",
        "\n",
        "print(f\"Dataset processed: {X.shape} samples with {max_length} words each\")\n"
      ],
      "metadata": {
        "colab": {
          "base_uri": "https://localhost:8080/"
        },
        "id": "fEtaMoJAPAmY",
        "outputId": "bfc9abc1-d9e4-47f6-9119-daa85e7efd20"
      },
      "execution_count": 3,
      "outputs": [
        {
          "output_type": "stream",
          "name": "stderr",
          "text": [
            "[nltk_data] Downloading package stopwords to /root/nltk_data...\n",
            "[nltk_data]   Unzipping corpora/stopwords.zip.\n"
          ]
        },
        {
          "output_type": "stream",
          "name": "stdout",
          "text": [
            "Dataset processed: (1600000, 50) samples with 50 words each\n"
          ]
        }
      ]
    },
    {
      "cell_type": "code",
      "source": [
        "import os\n",
        "import re\n",
        "import numpy as np\n",
        "import pandas as pd\n",
        "import tensorflow as tf\n",
        "import nltk\n",
        "from nltk.corpus import stopwords\n",
        "from tensorflow.keras.preprocessing.text import Tokenizer\n",
        "from tensorflow.keras.preprocessing.sequence import pad_sequences\n",
        "from tensorflow.keras.preprocessing.image import ImageDataGenerator\n",
        "from tensorflow.keras.utils import to_categorical\n",
        "from tensorflow.data import Dataset\n",
        "from PIL import Image\n",
        "\n",
        "# Ensure stopwords are downloaded\n",
        "nltk.download(\"stopwords\")\n",
        "stop_words = set(stopwords.words(\"english\"))\n",
        "\n",
        "# --- IMAGE PREPROCESSING (FER-2013) ---\n",
        "IMG_SIZE = 48  # FER-2013 image size\n",
        "BATCH_SIZE = 32\n",
        "FER_PATH = \"/content/drive/MyDrive/Colab Notebooks/SENIOR PROJECT/fer-2013\"\n",
        "\n",
        "# Data augmentation for training images\n",
        "image_generator = ImageDataGenerator(\n",
        "    rescale=1./255,\n",
        "    rotation_range=20,\n",
        "    width_shift_range=0.2,\n",
        "    height_shift_range=0.2,\n",
        "    horizontal_flip=True\n",
        ")\n",
        "\n",
        "def load_fer_data():\n",
        "    train_data = image_generator.flow_from_directory(\n",
        "        os.path.join(FER_PATH, \"fer-2013/train\"),\n",
        "        target_size=(IMG_SIZE, IMG_SIZE),\n",
        "        color_mode=\"grayscale\",\n",
        "        class_mode=\"categorical\",\n",
        "        batch_size=BATCH_SIZE\n",
        "    )\n",
        "\n",
        "    test_data = ImageDataGenerator(rescale=1./255).flow_from_directory(\n",
        "        os.path.join(FER_PATH, \"fer-2013/test\"),\n",
        "        target_size=(IMG_SIZE, IMG_SIZE),\n",
        "        color_mode=\"grayscale\",\n",
        "        class_mode=\"categorical\",\n",
        "        batch_size=BATCH_SIZE\n",
        "    )\n",
        "\n",
        "    return train_data, test_data\n",
        "\n",
        "# --- TEXT PREPROCESSING (Sentiment140) ---\n",
        "TEXT_PATH = \"/content/drive/MyDrive/Colab Notebooks/SENIOR PROJECT/sentiment140/training.1600000.processed.noemoticon.csv\"\n",
        "MAX_WORDS = 10000\n",
        "MAX_LENGTH = 50\n",
        "\n",
        "# Load Sentiment140 data\n",
        "columns = [\"target\", \"id\", \"date\", \"flag\", \"user\", \"text\"]\n",
        "df = pd.read_csv(TEXT_PATH, encoding=\"latin-1\", names=columns)\n",
        "df = df[[\"target\", \"text\"]]\n",
        "\n",
        "# Convert labels to categorical\n",
        "df[\"target\"] = df[\"target\"].map({0: 0, 2: 1, 4: 2})\n",
        "df[\"target\"] = to_categorical(df[\"target\"], num_classes=3)\n",
        "\n",
        "# Function to clean text\n",
        "def clean_text(text):\n",
        "    text = text.lower()\n",
        "    text = re.sub(r\"http\\S+|www\\S+\", \"\", text)  # Remove URLs\n",
        "    text = re.sub(r\"@\\w+\", \"\", text)  # Remove mentions\n",
        "    text = re.sub(r\"#\\w+\", \"\", text)  # Remove hashtags\n",
        "    text = re.sub(r\"[^a-zA-Z\\s]\", \"\", text)  # Remove special characters\n",
        "    text = \" \".join(word for word in text.split() if word not in stop_words)  # Remove stopwords\n",
        "    return text\n",
        "\n",
        "df[\"clean_text\"] = df[\"text\"].apply(clean_text)\n",
        "\n",
        "# Tokenization\n",
        "tokenizer = Tokenizer(num_words=MAX_WORDS, oov_token=\"<OOV>\")\n",
        "tokenizer.fit_on_texts(df[\"clean_text\"])\n",
        "sequences = tokenizer.texts_to_sequences(df[\"clean_text\"])\n",
        "\n",
        "# Padding\n",
        "X_text = pad_sequences(sequences, maxlen=MAX_LENGTH, padding=\"post\", truncating=\"post\")\n",
        "y_text = np.array(df[\"target\"])\n",
        "\n",
        "# --- COMBINE IMAGE AND TEXT DATASETS ---\n",
        "def create_combined_dataset():\n",
        "    train_images, test_images = load_fer_data()\n",
        "\n",
        "    text_dataset = Dataset.from_tensor_slices((X_text, y_text)).batch(BATCH_SIZE)\n",
        "\n",
        "    return train_images, test_images, text_dataset\n",
        "\n",
        "# Execute pipeline\n",
        "train_images, test_images, text_dataset = create_combined_dataset()\n",
        "\n",
        "print(\"Image and text datasets prepared successfully!\")\n"
      ],
      "metadata": {
        "colab": {
          "base_uri": "https://localhost:8080/"
        },
        "id": "4w_ygPkCPwjP",
        "outputId": "d610de10-d662-415e-92a7-b612c5886b03"
      },
      "execution_count": 4,
      "outputs": [
        {
          "output_type": "stream",
          "name": "stderr",
          "text": [
            "[nltk_data] Downloading package stopwords to /root/nltk_data...\n",
            "[nltk_data]   Package stopwords is already up-to-date!\n"
          ]
        },
        {
          "output_type": "stream",
          "name": "stdout",
          "text": [
            "Found 28120 images belonging to 7 classes.\n",
            "Found 7178 images belonging to 7 classes.\n",
            "Image and text datasets prepared successfully!\n"
          ]
        }
      ]
    },
    {
      "cell_type": "code",
      "source": [
        "import os\n",
        "import shutil\n",
        "from sklearn.model_selection import train_test_split\n",
        "\n",
        "# Path to the base directory of the fer2013 dataset\n",
        "base_dir = '/content/drive/MyDrive/Colab Notebooks/SENIOR PROJECT/fer-2013/fer-2013'\n",
        "\n",
        "# Paths to the 'train' and the new 'validation' directories\n",
        "train_dir = os.path.join(base_dir, '/content/drive/MyDrive/Colab Notebooks/SENIOR PROJECT/fer-2013/fer-2013/train')\n",
        "val_dir = os.path.join(base_dir, '/content/drive/MyDrive/Colab Notebooks/SENIOR PROJECT/fer-2013/fer-2013/validation')\n",
        "\n",
        "# Create the validation directory if it doesn't exist\n",
        "if not os.path.exists(val_dir):\n",
        "    os.makedirs(val_dir)\n",
        "\n",
        "# List the emotion folders (these should be the 7 folders inside train)\n",
        "emotion_folders = os.listdir(train_dir)\n",
        "\n",
        "# Split the data from each emotion folder\n",
        "for emotion in emotion_folders:\n",
        "    # Paths for the current emotion folder in train and validation\n",
        "    emotion_train_path = os.path.join(train_dir, emotion)\n",
        "    emotion_val_path = os.path.join(val_dir, emotion)\n",
        "\n",
        "    # Create the emotion subdirectory in the validation folder if it doesn't exist\n",
        "    if not os.path.exists(emotion_val_path):\n",
        "        os.makedirs(emotion_val_path)\n",
        "\n",
        "    # Get a list of all images in the emotion folder\n",
        "    images = os.listdir(emotion_train_path)\n",
        "\n",
        "    # Split the images into training and validation sets (80-20 split)\n",
        "    train_images, val_images = train_test_split(images, test_size=0.2, random_state=42)\n",
        "\n",
        "    # Move the validation images into the validation folder\n",
        "    for image in val_images:\n",
        "        # Full path to the image file\n",
        "        src = os.path.join(emotion_train_path, image)\n",
        "        dest = os.path.join(emotion_val_path, image)\n",
        "\n",
        "        # Move the image\n",
        "        shutil.move(src, dest)\n",
        "\n",
        "    print(f\"Moved {len(val_images)} images from {emotion} to validation folder.\")\n",
        "\n",
        "print(\"Validation directory created and data moved successfully.\")\n"
      ],
      "metadata": {
        "colab": {
          "base_uri": "https://localhost:8080/"
        },
        "id": "5SMqodfLToE9",
        "outputId": "84e5aefb-26df-4c84-ff0c-68c3dcfb9838"
      },
      "execution_count": 7,
      "outputs": [
        {
          "output_type": "stream",
          "name": "stdout",
          "text": [
            "Moved 799 images from angry to validation folder.\n",
            "Moved 820 images from fear to validation folder.\n",
            "Moved 88 images from disgust to validation folder.\n",
            "Moved 1326 images from happy to validation folder.\n",
            "Moved 993 images from neutral to validation folder.\n",
            "Moved 966 images from sad to validation folder.\n",
            "Moved 635 images from surprise to validation folder.\n",
            "Validation directory created and data moved successfully.\n"
          ]
        }
      ]
    },
    {
      "cell_type": "code",
      "source": [
        "import tensorflow as tf\n",
        "from tensorflow.keras import layers, models\n",
        "\n",
        "# Build the CNN model using VGG16 as the base\n",
        "def build_cnn_model(input_shape=(48, 48, 3), num_classes=7):\n",
        "    model = models.Sequential()\n",
        "\n",
        "    # Add a VGG16-like architecture with modifications\n",
        "    # 1. Convolutional Layer 1\n",
        "    model.add(layers.Conv2D(32, (3, 3), activation='relu', input_shape=input_shape))\n",
        "    model.add(layers.BatchNormalization())\n",
        "    model.add(layers.MaxPooling2D((2, 2)))\n",
        "\n",
        "    # 2. Convolutional Layer 2\n",
        "    model.add(layers.Conv2D(64, (3, 3), activation='relu'))\n",
        "    model.add(layers.BatchNormalization())\n",
        "    model.add(layers.MaxPooling2D((2, 2)))\n",
        "\n",
        "    # 3. Convolutional Layer 3\n",
        "    model.add(layers.Conv2D(128, (3, 3), activation='relu'))\n",
        "    model.add(layers.BatchNormalization())\n",
        "    model.add(layers.MaxPooling2D((2, 2)))\n",
        "\n",
        "    # 4. Convolutional Layer 4\n",
        "    model.add(layers.Conv2D(256, (3, 3), activation='relu'))\n",
        "    model.add(layers.BatchNormalization())\n",
        "    model.add(layers.MaxPooling2D((2, 2)))\n",
        "\n",
        "    # 5. Flatten the output from the previous convolution layers\n",
        "    model.add(layers.Flatten())\n",
        "\n",
        "    # 6. Fully Connected Layer 1\n",
        "    model.add(layers.Dense(512, activation='relu'))\n",
        "    model.add(layers.Dropout(0.5))  # Add dropout to reduce overfitting\n",
        "\n",
        "    # 7. Fully Connected Layer 2\n",
        "    model.add(layers.Dense(256, activation='relu'))\n",
        "    model.add(layers.Dropout(0.5))  # Dropout layer\n",
        "\n",
        "    # 8. Final Output Layer - 7 neurons for 7 emotions, softmax activation\n",
        "    model.add(layers.Dense(num_classes, activation='softmax'))\n",
        "\n",
        "    # Compile the model\n",
        "    model.compile(optimizer='adam', loss='categorical_crossentropy', metrics=['accuracy'])\n",
        "\n",
        "    return model\n",
        "\n",
        "# Create the model\n",
        "model = build_cnn_model()\n",
        "\n",
        "# Summary of the model architecture\n",
        "model.summary()\n"
      ],
      "metadata": {
        "colab": {
          "base_uri": "https://localhost:8080/",
          "height": 871
        },
        "id": "cJYirInqVkWh",
        "outputId": "bf9bf45a-d28f-43b4-85e7-a9d9e398d104"
      },
      "execution_count": 11,
      "outputs": [
        {
          "output_type": "stream",
          "name": "stderr",
          "text": [
            "/usr/local/lib/python3.11/dist-packages/keras/src/layers/convolutional/base_conv.py:107: UserWarning: Do not pass an `input_shape`/`input_dim` argument to a layer. When using Sequential models, prefer using an `Input(shape)` object as the first layer in the model instead.\n",
            "  super().__init__(activity_regularizer=activity_regularizer, **kwargs)\n"
          ]
        },
        {
          "output_type": "display_data",
          "data": {
            "text/plain": [
              "\u001b[1mModel: \"sequential\"\u001b[0m\n"
            ],
            "text/html": [
              "<pre style=\"white-space:pre;overflow-x:auto;line-height:normal;font-family:Menlo,'DejaVu Sans Mono',consolas,'Courier New',monospace\"><span style=\"font-weight: bold\">Model: \"sequential\"</span>\n",
              "</pre>\n"
            ]
          },
          "metadata": {}
        },
        {
          "output_type": "display_data",
          "data": {
            "text/plain": [
              "┏━━━━━━━━━━━━━━━━━━━━━━━━━━━━━━━━━━━━━━┳━━━━━━━━━━━━━━━━━━━━━━━━━━━━━┳━━━━━━━━━━━━━━━━━┓\n",
              "┃\u001b[1m \u001b[0m\u001b[1mLayer (type)                        \u001b[0m\u001b[1m \u001b[0m┃\u001b[1m \u001b[0m\u001b[1mOutput Shape               \u001b[0m\u001b[1m \u001b[0m┃\u001b[1m \u001b[0m\u001b[1m        Param #\u001b[0m\u001b[1m \u001b[0m┃\n",
              "┡━━━━━━━━━━━━━━━━━━━━━━━━━━━━━━━━━━━━━━╇━━━━━━━━━━━━━━━━━━━━━━━━━━━━━╇━━━━━━━━━━━━━━━━━┩\n",
              "│ conv2d (\u001b[38;5;33mConv2D\u001b[0m)                      │ (\u001b[38;5;45mNone\u001b[0m, \u001b[38;5;34m46\u001b[0m, \u001b[38;5;34m46\u001b[0m, \u001b[38;5;34m32\u001b[0m)          │             \u001b[38;5;34m896\u001b[0m │\n",
              "├──────────────────────────────────────┼─────────────────────────────┼─────────────────┤\n",
              "│ batch_normalization                  │ (\u001b[38;5;45mNone\u001b[0m, \u001b[38;5;34m46\u001b[0m, \u001b[38;5;34m46\u001b[0m, \u001b[38;5;34m32\u001b[0m)          │             \u001b[38;5;34m128\u001b[0m │\n",
              "│ (\u001b[38;5;33mBatchNormalization\u001b[0m)                 │                             │                 │\n",
              "├──────────────────────────────────────┼─────────────────────────────┼─────────────────┤\n",
              "│ max_pooling2d (\u001b[38;5;33mMaxPooling2D\u001b[0m)         │ (\u001b[38;5;45mNone\u001b[0m, \u001b[38;5;34m23\u001b[0m, \u001b[38;5;34m23\u001b[0m, \u001b[38;5;34m32\u001b[0m)          │               \u001b[38;5;34m0\u001b[0m │\n",
              "├──────────────────────────────────────┼─────────────────────────────┼─────────────────┤\n",
              "│ conv2d_1 (\u001b[38;5;33mConv2D\u001b[0m)                    │ (\u001b[38;5;45mNone\u001b[0m, \u001b[38;5;34m21\u001b[0m, \u001b[38;5;34m21\u001b[0m, \u001b[38;5;34m64\u001b[0m)          │          \u001b[38;5;34m18,496\u001b[0m │\n",
              "├──────────────────────────────────────┼─────────────────────────────┼─────────────────┤\n",
              "│ batch_normalization_1                │ (\u001b[38;5;45mNone\u001b[0m, \u001b[38;5;34m21\u001b[0m, \u001b[38;5;34m21\u001b[0m, \u001b[38;5;34m64\u001b[0m)          │             \u001b[38;5;34m256\u001b[0m │\n",
              "│ (\u001b[38;5;33mBatchNormalization\u001b[0m)                 │                             │                 │\n",
              "├──────────────────────────────────────┼─────────────────────────────┼─────────────────┤\n",
              "│ max_pooling2d_1 (\u001b[38;5;33mMaxPooling2D\u001b[0m)       │ (\u001b[38;5;45mNone\u001b[0m, \u001b[38;5;34m10\u001b[0m, \u001b[38;5;34m10\u001b[0m, \u001b[38;5;34m64\u001b[0m)          │               \u001b[38;5;34m0\u001b[0m │\n",
              "├──────────────────────────────────────┼─────────────────────────────┼─────────────────┤\n",
              "│ conv2d_2 (\u001b[38;5;33mConv2D\u001b[0m)                    │ (\u001b[38;5;45mNone\u001b[0m, \u001b[38;5;34m8\u001b[0m, \u001b[38;5;34m8\u001b[0m, \u001b[38;5;34m128\u001b[0m)           │          \u001b[38;5;34m73,856\u001b[0m │\n",
              "├──────────────────────────────────────┼─────────────────────────────┼─────────────────┤\n",
              "│ batch_normalization_2                │ (\u001b[38;5;45mNone\u001b[0m, \u001b[38;5;34m8\u001b[0m, \u001b[38;5;34m8\u001b[0m, \u001b[38;5;34m128\u001b[0m)           │             \u001b[38;5;34m512\u001b[0m │\n",
              "│ (\u001b[38;5;33mBatchNormalization\u001b[0m)                 │                             │                 │\n",
              "├──────────────────────────────────────┼─────────────────────────────┼─────────────────┤\n",
              "│ max_pooling2d_2 (\u001b[38;5;33mMaxPooling2D\u001b[0m)       │ (\u001b[38;5;45mNone\u001b[0m, \u001b[38;5;34m4\u001b[0m, \u001b[38;5;34m4\u001b[0m, \u001b[38;5;34m128\u001b[0m)           │               \u001b[38;5;34m0\u001b[0m │\n",
              "├──────────────────────────────────────┼─────────────────────────────┼─────────────────┤\n",
              "│ conv2d_3 (\u001b[38;5;33mConv2D\u001b[0m)                    │ (\u001b[38;5;45mNone\u001b[0m, \u001b[38;5;34m2\u001b[0m, \u001b[38;5;34m2\u001b[0m, \u001b[38;5;34m256\u001b[0m)           │         \u001b[38;5;34m295,168\u001b[0m │\n",
              "├──────────────────────────────────────┼─────────────────────────────┼─────────────────┤\n",
              "│ batch_normalization_3                │ (\u001b[38;5;45mNone\u001b[0m, \u001b[38;5;34m2\u001b[0m, \u001b[38;5;34m2\u001b[0m, \u001b[38;5;34m256\u001b[0m)           │           \u001b[38;5;34m1,024\u001b[0m │\n",
              "│ (\u001b[38;5;33mBatchNormalization\u001b[0m)                 │                             │                 │\n",
              "├──────────────────────────────────────┼─────────────────────────────┼─────────────────┤\n",
              "│ max_pooling2d_3 (\u001b[38;5;33mMaxPooling2D\u001b[0m)       │ (\u001b[38;5;45mNone\u001b[0m, \u001b[38;5;34m1\u001b[0m, \u001b[38;5;34m1\u001b[0m, \u001b[38;5;34m256\u001b[0m)           │               \u001b[38;5;34m0\u001b[0m │\n",
              "├──────────────────────────────────────┼─────────────────────────────┼─────────────────┤\n",
              "│ flatten (\u001b[38;5;33mFlatten\u001b[0m)                    │ (\u001b[38;5;45mNone\u001b[0m, \u001b[38;5;34m256\u001b[0m)                 │               \u001b[38;5;34m0\u001b[0m │\n",
              "├──────────────────────────────────────┼─────────────────────────────┼─────────────────┤\n",
              "│ dense (\u001b[38;5;33mDense\u001b[0m)                        │ (\u001b[38;5;45mNone\u001b[0m, \u001b[38;5;34m512\u001b[0m)                 │         \u001b[38;5;34m131,584\u001b[0m │\n",
              "├──────────────────────────────────────┼─────────────────────────────┼─────────────────┤\n",
              "│ dropout (\u001b[38;5;33mDropout\u001b[0m)                    │ (\u001b[38;5;45mNone\u001b[0m, \u001b[38;5;34m512\u001b[0m)                 │               \u001b[38;5;34m0\u001b[0m │\n",
              "├──────────────────────────────────────┼─────────────────────────────┼─────────────────┤\n",
              "│ dense_1 (\u001b[38;5;33mDense\u001b[0m)                      │ (\u001b[38;5;45mNone\u001b[0m, \u001b[38;5;34m256\u001b[0m)                 │         \u001b[38;5;34m131,328\u001b[0m │\n",
              "├──────────────────────────────────────┼─────────────────────────────┼─────────────────┤\n",
              "│ dropout_1 (\u001b[38;5;33mDropout\u001b[0m)                  │ (\u001b[38;5;45mNone\u001b[0m, \u001b[38;5;34m256\u001b[0m)                 │               \u001b[38;5;34m0\u001b[0m │\n",
              "├──────────────────────────────────────┼─────────────────────────────┼─────────────────┤\n",
              "│ dense_2 (\u001b[38;5;33mDense\u001b[0m)                      │ (\u001b[38;5;45mNone\u001b[0m, \u001b[38;5;34m7\u001b[0m)                   │           \u001b[38;5;34m1,799\u001b[0m │\n",
              "└──────────────────────────────────────┴─────────────────────────────┴─────────────────┘\n"
            ],
            "text/html": [
              "<pre style=\"white-space:pre;overflow-x:auto;line-height:normal;font-family:Menlo,'DejaVu Sans Mono',consolas,'Courier New',monospace\">┏━━━━━━━━━━━━━━━━━━━━━━━━━━━━━━━━━━━━━━┳━━━━━━━━━━━━━━━━━━━━━━━━━━━━━┳━━━━━━━━━━━━━━━━━┓\n",
              "┃<span style=\"font-weight: bold\"> Layer (type)                         </span>┃<span style=\"font-weight: bold\"> Output Shape                </span>┃<span style=\"font-weight: bold\">         Param # </span>┃\n",
              "┡━━━━━━━━━━━━━━━━━━━━━━━━━━━━━━━━━━━━━━╇━━━━━━━━━━━━━━━━━━━━━━━━━━━━━╇━━━━━━━━━━━━━━━━━┩\n",
              "│ conv2d (<span style=\"color: #0087ff; text-decoration-color: #0087ff\">Conv2D</span>)                      │ (<span style=\"color: #00d7ff; text-decoration-color: #00d7ff\">None</span>, <span style=\"color: #00af00; text-decoration-color: #00af00\">46</span>, <span style=\"color: #00af00; text-decoration-color: #00af00\">46</span>, <span style=\"color: #00af00; text-decoration-color: #00af00\">32</span>)          │             <span style=\"color: #00af00; text-decoration-color: #00af00\">896</span> │\n",
              "├──────────────────────────────────────┼─────────────────────────────┼─────────────────┤\n",
              "│ batch_normalization                  │ (<span style=\"color: #00d7ff; text-decoration-color: #00d7ff\">None</span>, <span style=\"color: #00af00; text-decoration-color: #00af00\">46</span>, <span style=\"color: #00af00; text-decoration-color: #00af00\">46</span>, <span style=\"color: #00af00; text-decoration-color: #00af00\">32</span>)          │             <span style=\"color: #00af00; text-decoration-color: #00af00\">128</span> │\n",
              "│ (<span style=\"color: #0087ff; text-decoration-color: #0087ff\">BatchNormalization</span>)                 │                             │                 │\n",
              "├──────────────────────────────────────┼─────────────────────────────┼─────────────────┤\n",
              "│ max_pooling2d (<span style=\"color: #0087ff; text-decoration-color: #0087ff\">MaxPooling2D</span>)         │ (<span style=\"color: #00d7ff; text-decoration-color: #00d7ff\">None</span>, <span style=\"color: #00af00; text-decoration-color: #00af00\">23</span>, <span style=\"color: #00af00; text-decoration-color: #00af00\">23</span>, <span style=\"color: #00af00; text-decoration-color: #00af00\">32</span>)          │               <span style=\"color: #00af00; text-decoration-color: #00af00\">0</span> │\n",
              "├──────────────────────────────────────┼─────────────────────────────┼─────────────────┤\n",
              "│ conv2d_1 (<span style=\"color: #0087ff; text-decoration-color: #0087ff\">Conv2D</span>)                    │ (<span style=\"color: #00d7ff; text-decoration-color: #00d7ff\">None</span>, <span style=\"color: #00af00; text-decoration-color: #00af00\">21</span>, <span style=\"color: #00af00; text-decoration-color: #00af00\">21</span>, <span style=\"color: #00af00; text-decoration-color: #00af00\">64</span>)          │          <span style=\"color: #00af00; text-decoration-color: #00af00\">18,496</span> │\n",
              "├──────────────────────────────────────┼─────────────────────────────┼─────────────────┤\n",
              "│ batch_normalization_1                │ (<span style=\"color: #00d7ff; text-decoration-color: #00d7ff\">None</span>, <span style=\"color: #00af00; text-decoration-color: #00af00\">21</span>, <span style=\"color: #00af00; text-decoration-color: #00af00\">21</span>, <span style=\"color: #00af00; text-decoration-color: #00af00\">64</span>)          │             <span style=\"color: #00af00; text-decoration-color: #00af00\">256</span> │\n",
              "│ (<span style=\"color: #0087ff; text-decoration-color: #0087ff\">BatchNormalization</span>)                 │                             │                 │\n",
              "├──────────────────────────────────────┼─────────────────────────────┼─────────────────┤\n",
              "│ max_pooling2d_1 (<span style=\"color: #0087ff; text-decoration-color: #0087ff\">MaxPooling2D</span>)       │ (<span style=\"color: #00d7ff; text-decoration-color: #00d7ff\">None</span>, <span style=\"color: #00af00; text-decoration-color: #00af00\">10</span>, <span style=\"color: #00af00; text-decoration-color: #00af00\">10</span>, <span style=\"color: #00af00; text-decoration-color: #00af00\">64</span>)          │               <span style=\"color: #00af00; text-decoration-color: #00af00\">0</span> │\n",
              "├──────────────────────────────────────┼─────────────────────────────┼─────────────────┤\n",
              "│ conv2d_2 (<span style=\"color: #0087ff; text-decoration-color: #0087ff\">Conv2D</span>)                    │ (<span style=\"color: #00d7ff; text-decoration-color: #00d7ff\">None</span>, <span style=\"color: #00af00; text-decoration-color: #00af00\">8</span>, <span style=\"color: #00af00; text-decoration-color: #00af00\">8</span>, <span style=\"color: #00af00; text-decoration-color: #00af00\">128</span>)           │          <span style=\"color: #00af00; text-decoration-color: #00af00\">73,856</span> │\n",
              "├──────────────────────────────────────┼─────────────────────────────┼─────────────────┤\n",
              "│ batch_normalization_2                │ (<span style=\"color: #00d7ff; text-decoration-color: #00d7ff\">None</span>, <span style=\"color: #00af00; text-decoration-color: #00af00\">8</span>, <span style=\"color: #00af00; text-decoration-color: #00af00\">8</span>, <span style=\"color: #00af00; text-decoration-color: #00af00\">128</span>)           │             <span style=\"color: #00af00; text-decoration-color: #00af00\">512</span> │\n",
              "│ (<span style=\"color: #0087ff; text-decoration-color: #0087ff\">BatchNormalization</span>)                 │                             │                 │\n",
              "├──────────────────────────────────────┼─────────────────────────────┼─────────────────┤\n",
              "│ max_pooling2d_2 (<span style=\"color: #0087ff; text-decoration-color: #0087ff\">MaxPooling2D</span>)       │ (<span style=\"color: #00d7ff; text-decoration-color: #00d7ff\">None</span>, <span style=\"color: #00af00; text-decoration-color: #00af00\">4</span>, <span style=\"color: #00af00; text-decoration-color: #00af00\">4</span>, <span style=\"color: #00af00; text-decoration-color: #00af00\">128</span>)           │               <span style=\"color: #00af00; text-decoration-color: #00af00\">0</span> │\n",
              "├──────────────────────────────────────┼─────────────────────────────┼─────────────────┤\n",
              "│ conv2d_3 (<span style=\"color: #0087ff; text-decoration-color: #0087ff\">Conv2D</span>)                    │ (<span style=\"color: #00d7ff; text-decoration-color: #00d7ff\">None</span>, <span style=\"color: #00af00; text-decoration-color: #00af00\">2</span>, <span style=\"color: #00af00; text-decoration-color: #00af00\">2</span>, <span style=\"color: #00af00; text-decoration-color: #00af00\">256</span>)           │         <span style=\"color: #00af00; text-decoration-color: #00af00\">295,168</span> │\n",
              "├──────────────────────────────────────┼─────────────────────────────┼─────────────────┤\n",
              "│ batch_normalization_3                │ (<span style=\"color: #00d7ff; text-decoration-color: #00d7ff\">None</span>, <span style=\"color: #00af00; text-decoration-color: #00af00\">2</span>, <span style=\"color: #00af00; text-decoration-color: #00af00\">2</span>, <span style=\"color: #00af00; text-decoration-color: #00af00\">256</span>)           │           <span style=\"color: #00af00; text-decoration-color: #00af00\">1,024</span> │\n",
              "│ (<span style=\"color: #0087ff; text-decoration-color: #0087ff\">BatchNormalization</span>)                 │                             │                 │\n",
              "├──────────────────────────────────────┼─────────────────────────────┼─────────────────┤\n",
              "│ max_pooling2d_3 (<span style=\"color: #0087ff; text-decoration-color: #0087ff\">MaxPooling2D</span>)       │ (<span style=\"color: #00d7ff; text-decoration-color: #00d7ff\">None</span>, <span style=\"color: #00af00; text-decoration-color: #00af00\">1</span>, <span style=\"color: #00af00; text-decoration-color: #00af00\">1</span>, <span style=\"color: #00af00; text-decoration-color: #00af00\">256</span>)           │               <span style=\"color: #00af00; text-decoration-color: #00af00\">0</span> │\n",
              "├──────────────────────────────────────┼─────────────────────────────┼─────────────────┤\n",
              "│ flatten (<span style=\"color: #0087ff; text-decoration-color: #0087ff\">Flatten</span>)                    │ (<span style=\"color: #00d7ff; text-decoration-color: #00d7ff\">None</span>, <span style=\"color: #00af00; text-decoration-color: #00af00\">256</span>)                 │               <span style=\"color: #00af00; text-decoration-color: #00af00\">0</span> │\n",
              "├──────────────────────────────────────┼─────────────────────────────┼─────────────────┤\n",
              "│ dense (<span style=\"color: #0087ff; text-decoration-color: #0087ff\">Dense</span>)                        │ (<span style=\"color: #00d7ff; text-decoration-color: #00d7ff\">None</span>, <span style=\"color: #00af00; text-decoration-color: #00af00\">512</span>)                 │         <span style=\"color: #00af00; text-decoration-color: #00af00\">131,584</span> │\n",
              "├──────────────────────────────────────┼─────────────────────────────┼─────────────────┤\n",
              "│ dropout (<span style=\"color: #0087ff; text-decoration-color: #0087ff\">Dropout</span>)                    │ (<span style=\"color: #00d7ff; text-decoration-color: #00d7ff\">None</span>, <span style=\"color: #00af00; text-decoration-color: #00af00\">512</span>)                 │               <span style=\"color: #00af00; text-decoration-color: #00af00\">0</span> │\n",
              "├──────────────────────────────────────┼─────────────────────────────┼─────────────────┤\n",
              "│ dense_1 (<span style=\"color: #0087ff; text-decoration-color: #0087ff\">Dense</span>)                      │ (<span style=\"color: #00d7ff; text-decoration-color: #00d7ff\">None</span>, <span style=\"color: #00af00; text-decoration-color: #00af00\">256</span>)                 │         <span style=\"color: #00af00; text-decoration-color: #00af00\">131,328</span> │\n",
              "├──────────────────────────────────────┼─────────────────────────────┼─────────────────┤\n",
              "│ dropout_1 (<span style=\"color: #0087ff; text-decoration-color: #0087ff\">Dropout</span>)                  │ (<span style=\"color: #00d7ff; text-decoration-color: #00d7ff\">None</span>, <span style=\"color: #00af00; text-decoration-color: #00af00\">256</span>)                 │               <span style=\"color: #00af00; text-decoration-color: #00af00\">0</span> │\n",
              "├──────────────────────────────────────┼─────────────────────────────┼─────────────────┤\n",
              "│ dense_2 (<span style=\"color: #0087ff; text-decoration-color: #0087ff\">Dense</span>)                      │ (<span style=\"color: #00d7ff; text-decoration-color: #00d7ff\">None</span>, <span style=\"color: #00af00; text-decoration-color: #00af00\">7</span>)                   │           <span style=\"color: #00af00; text-decoration-color: #00af00\">1,799</span> │\n",
              "└──────────────────────────────────────┴─────────────────────────────┴─────────────────┘\n",
              "</pre>\n"
            ]
          },
          "metadata": {}
        },
        {
          "output_type": "display_data",
          "data": {
            "text/plain": [
              "\u001b[1m Total params: \u001b[0m\u001b[38;5;34m655,047\u001b[0m (2.50 MB)\n"
            ],
            "text/html": [
              "<pre style=\"white-space:pre;overflow-x:auto;line-height:normal;font-family:Menlo,'DejaVu Sans Mono',consolas,'Courier New',monospace\"><span style=\"font-weight: bold\"> Total params: </span><span style=\"color: #00af00; text-decoration-color: #00af00\">655,047</span> (2.50 MB)\n",
              "</pre>\n"
            ]
          },
          "metadata": {}
        },
        {
          "output_type": "display_data",
          "data": {
            "text/plain": [
              "\u001b[1m Trainable params: \u001b[0m\u001b[38;5;34m654,087\u001b[0m (2.50 MB)\n"
            ],
            "text/html": [
              "<pre style=\"white-space:pre;overflow-x:auto;line-height:normal;font-family:Menlo,'DejaVu Sans Mono',consolas,'Courier New',monospace\"><span style=\"font-weight: bold\"> Trainable params: </span><span style=\"color: #00af00; text-decoration-color: #00af00\">654,087</span> (2.50 MB)\n",
              "</pre>\n"
            ]
          },
          "metadata": {}
        },
        {
          "output_type": "display_data",
          "data": {
            "text/plain": [
              "\u001b[1m Non-trainable params: \u001b[0m\u001b[38;5;34m960\u001b[0m (3.75 KB)\n"
            ],
            "text/html": [
              "<pre style=\"white-space:pre;overflow-x:auto;line-height:normal;font-family:Menlo,'DejaVu Sans Mono',consolas,'Courier New',monospace\"><span style=\"font-weight: bold\"> Non-trainable params: </span><span style=\"color: #00af00; text-decoration-color: #00af00\">960</span> (3.75 KB)\n",
              "</pre>\n"
            ]
          },
          "metadata": {}
        }
      ]
    },
    {
      "cell_type": "code",
      "source": [
        "import os\n",
        "import tensorflow as tf\n",
        "from tensorflow.keras.preprocessing.image import ImageDataGenerator\n",
        "\n",
        "# Set paths for the dataset directories (train, validation, and test directories)\n",
        "train_dir = \"/content/drive/MyDrive/Colab Notebooks/SENIOR PROJECT/fer-2013/fer-2013/train\"  # Replace with your train path\n",
        "valid_dir = \"/content/drive/MyDrive/Colab Notebooks/SENIOR PROJECT/fer-2013/fer-2013/validation\"  # Replace with your validation path\n",
        "test_dir = \"/content/drive/MyDrive/Colab Notebooks/SENIOR PROJECT/fer-2013/fer-2013/test\"    # Replace with your test path\n",
        "\n",
        "# Define image size (48x48 as per the CNN input)\n",
        "img_size = (48, 48)\n",
        "\n",
        "# Preprocessing and data augmentation for the training set\n",
        "train_datagen = ImageDataGenerator(\n",
        "    rescale=1./255,  # Normalize pixel values to [0, 1]\n",
        "    rotation_range=20,  # Randomly rotate images\n",
        "    width_shift_range=0.2,  # Randomly shift images horizontally\n",
        "    height_shift_range=0.2,  # Randomly shift images vertically\n",
        "    shear_range=0.2,  # Shear transformations\n",
        "    zoom_range=0.2,  # Random zoom\n",
        "    horizontal_flip=True,  # Flip images horizontally\n",
        "    fill_mode='nearest'  # Fill pixels that are created during transformations\n",
        ")\n",
        "\n",
        "# Preprocessing for the validation and test sets (only rescaling)\n",
        "test_datagen = ImageDataGenerator(rescale=1./255)\n",
        "\n",
        "# Create generator for the training set\n",
        "train_generator = train_datagen.flow_from_directory(\n",
        "    train_dir,\n",
        "    target_size=img_size,  # Resize images to 48x48\n",
        "    batch_size=32,  # Batch size\n",
        "    class_mode='categorical',  # Since we have multiple classes (7 emotions)\n",
        "    shuffle=True  # Shuffle the training data\n",
        ")\n",
        "\n",
        "# Create generator for the validation set\n",
        "validation_generator = test_datagen.flow_from_directory(\n",
        "    valid_dir,\n",
        "    target_size=img_size,\n",
        "    batch_size=32,\n",
        "    class_mode='categorical',\n",
        "    shuffle=False  # Don't shuffle validation data for evaluation\n",
        ")\n",
        "\n",
        "# Create generator for the test set\n",
        "test_generator = test_datagen.flow_from_directory(\n",
        "    test_dir,\n",
        "    target_size=img_size,\n",
        "    batch_size=32,\n",
        "    class_mode='categorical',  # Multi-class classification\n",
        "    shuffle=False  # Do not shuffle test data for evaluation\n",
        ")\n",
        "\n",
        "# Print summary of the number of classes and image sizes\n",
        "print(\"Training data summary:\", train_generator.class_indices)\n",
        "print(\"Validation data summary:\", validation_generator.class_indices)\n",
        "print(\"Test data summary:\", test_generator.class_indices)\n"
      ],
      "metadata": {
        "colab": {
          "base_uri": "https://localhost:8080/"
        },
        "id": "h7GOhOVVV9AI",
        "outputId": "f8157f4d-ba9c-4591-c57e-b58bec065647"
      },
      "execution_count": 12,
      "outputs": [
        {
          "output_type": "stream",
          "name": "stdout",
          "text": [
            "Found 22493 images belonging to 7 classes.\n",
            "Found 5660 images belonging to 7 classes.\n",
            "Found 7178 images belonging to 7 classes.\n",
            "Training data summary: {'angry': 0, 'disgust': 1, 'fear': 2, 'happy': 3, 'neutral': 4, 'sad': 5, 'surprise': 6}\n",
            "Validation data summary: {'angry': 0, 'disgust': 1, 'fear': 2, 'happy': 3, 'neutral': 4, 'sad': 5, 'surprise': 6}\n",
            "Test data summary: {'angry': 0, 'disgust': 1, 'fear': 2, 'happy': 3, 'neutral': 4, 'sad': 5, 'surprise': 6}\n"
          ]
        }
      ]
    },
    {
      "cell_type": "code",
      "source": [
        "# Train the CNN model using the generators\n",
        "history = model.fit(\n",
        "    train_generator,\n",
        "    steps_per_epoch=train_generator.samples // train_generator.batch_size,\n",
        "    epochs=10,  # Change the number of epochs as needed\n",
        "    validation_data=validation_generator,\n",
        "    validation_steps=validation_generator.samples // validation_generator.batch_size\n",
        ")\n",
        "\n",
        "# Optionally save the model after training\n",
        "model.save('emotion_cnn_model.h5')\n"
      ],
      "metadata": {
        "colab": {
          "base_uri": "https://localhost:8080/"
        },
        "id": "R8wGfGB8WMC2",
        "outputId": "d49407d4-8be5-4fed-824d-7f65b54d1666"
      },
      "execution_count": null,
      "outputs": [
        {
          "output_type": "stream",
          "name": "stderr",
          "text": [
            "/usr/local/lib/python3.11/dist-packages/keras/src/trainers/data_adapters/py_dataset_adapter.py:121: UserWarning: Your `PyDataset` class should call `super().__init__(**kwargs)` in its constructor. `**kwargs` can include `workers`, `use_multiprocessing`, `max_queue_size`. Do not pass these arguments to `fit()`, as they will be ignored.\n",
            "  self._warn_if_super_not_called()\n"
          ]
        },
        {
          "output_type": "stream",
          "name": "stdout",
          "text": [
            "Epoch 1/10\n",
            "\u001b[1m 97/702\u001b[0m \u001b[32m━━\u001b[0m\u001b[37m━━━━━━━━━━━━━━━━━━\u001b[0m \u001b[1m1:18:21\u001b[0m 8s/step - accuracy: 0.1823 - loss: 2.4121"
          ]
        }
      ]
    },
    {
      "cell_type": "code",
      "source": [
        "import matplotlib.pyplot as plt\n",
        "import numpy as np\n",
        "from tensorflow.keras.preprocessing import image\n",
        "from tensorflow.keras.models import Model\n",
        "\n",
        "# Function to load and display some sample images from a directory\n",
        "def load_and_display_images(generator, num_images=5):\n",
        "    images, labels = next(generator)  # Get a batch of images and labels\n",
        "    fig, axes = plt.subplots(1, num_images, figsize=(15, 5))\n",
        "    for i in range(num_images):\n",
        "        axes[i].imshow(images[i])  # Display the image\n",
        "        axes[i].axis('off')  # Turn off axis for better display\n",
        "        # Get the label\n",
        "        label = np.argmax(labels[i])\n",
        "        axes[i].set_title(f\"Label: {label}\")  # Display the label\n",
        "    plt.show()\n",
        "\n",
        "# Show a few samples from the training data\n",
        "print(\"Displaying some training images:\")\n",
        "load_and_display_images(train_generator, num_images=5)\n",
        "\n",
        "# Show a few samples from the validation data\n",
        "print(\"Displaying some validation images:\")\n",
        "load_and_display_images(validation_generator, num_images=5)\n",
        "\n",
        "# Show a few samples from the test data\n",
        "print(\"Displaying some test images:\")\n",
        "load_and_display_images(test_generator, num_images=5)\n",
        "\n",
        "# Show a summary of your model\n",
        "print(\"\\nModel Summary:\")\n",
        "model.summary()\n"
      ],
      "metadata": {
        "id": "ZDKi3XPsZBBP"
      },
      "execution_count": null,
      "outputs": []
    }
  ]
}