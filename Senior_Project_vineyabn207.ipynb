{
  "nbformat": 4,
  "nbformat_minor": 0,
  "metadata": {
    "colab": {
      "provenance": [],
      "toc_visible": true
    },
    "kernelspec": {
      "name": "python3",
      "display_name": "Python 3"
    },
    "language_info": {
      "name": "python"
    }
  },
  "cells": [
    {
      "cell_type": "code",
      "source": [
        "import os\n",
        "import pandas as pd\n",
        "import numpy as np\n",
        "import cv2\n",
        "from sklearn.model_selection import train_test_split\n",
        "\n",
        "def load_fer2013_data(csv_path, img_dir):\n",
        "  # Load the CSV file that contains image data and labels\n",
        "  df = pd.read_csv(csv_path)\n",
        "\n",
        "  # Print the first few rows of the dataframe to inspect it\n",
        "  print(df.head())\n",
        "\n",
        "  # Initialize lists for image data and labels\n",
        "  images = []\n",
        "  labels = []\n",
        "\n",
        "  # Iterate over each row in the dataframe\n",
        "  for _, row in df.iterrows():\n",
        "    # Extract the image data (comma-separated pixel values)\n",
        "    pixels = np.array(row['pixels'].split(), dtype=np.uint8)\n",
        "    # Reshape the pixels into an image (48x48 pixels, as per FER-2013)\n",
        "    image = pixels.reshape(48, 48, 1)\n",
        "    images.append(image)\n",
        "\n",
        "    # Append the corresponding emotion label\n",
        "    labels.append(int(row['emotion']))\n",
        "\n",
        "  # Convert lists to numpy arrays\n",
        "  X = np.array(images)\n",
        "  y = np.array(labels)\n",
        "\n",
        "  # Normalize image data to [0, 1]\n",
        "  X = X.astype('float32') / 255.0\n",
        "\n",
        "  # Split the dataset into training and test sets\n",
        "  X_train, X_test, y_train, y_test = train_test_split(X, y, test_size=0.2, random_state=42)\n",
        "\n",
        "  print(f\"Loaded {len(X)} images from the dataset.\")\n",
        "  return X_train, X_test, y_train, y_test\n",
        ""
      ],
      "metadata": {
        "id": "i3YR8FwiAR5H"
      },
      "execution_count": null,
      "outputs": []
    }
  ]
}